{
 "cells": [
  {
   "cell_type": "code",
   "execution_count": 2,
   "metadata": {},
   "outputs": [],
   "source": [
    "import pandas as pd\n",
    "import numpy as np\n",
    "import matplotlib.pyplot as plt\n",
    "import plotly.express as px\n",
    "import plotly.graph_objects as go\n",
    "import seaborn as sns"
   ]
  },
  {
   "cell_type": "code",
   "execution_count": 6,
   "metadata": {},
   "outputs": [
    {
     "data": {
      "text/html": [
       "<div>\n",
       "<style scoped>\n",
       "    .dataframe tbody tr th:only-of-type {\n",
       "        vertical-align: middle;\n",
       "    }\n",
       "\n",
       "    .dataframe tbody tr th {\n",
       "        vertical-align: top;\n",
       "    }\n",
       "\n",
       "    .dataframe thead th {\n",
       "        text-align: right;\n",
       "    }\n",
       "</style>\n",
       "<table border=\"1\" class=\"dataframe\">\n",
       "  <thead>\n",
       "    <tr style=\"text-align: right;\">\n",
       "      <th></th>\n",
       "      <th>Order ID</th>\n",
       "      <th>Amount</th>\n",
       "      <th>Profit</th>\n",
       "      <th>Quantity</th>\n",
       "      <th>Category</th>\n",
       "      <th>Sub-Category</th>\n",
       "      <th>PaymentMode</th>\n",
       "    </tr>\n",
       "  </thead>\n",
       "  <tbody>\n",
       "    <tr>\n",
       "      <th>0</th>\n",
       "      <td>B-25681</td>\n",
       "      <td>1096</td>\n",
       "      <td>658</td>\n",
       "      <td>7</td>\n",
       "      <td>Electronics</td>\n",
       "      <td>Electronic Games</td>\n",
       "      <td>COD</td>\n",
       "    </tr>\n",
       "    <tr>\n",
       "      <th>1</th>\n",
       "      <td>B-26055</td>\n",
       "      <td>5729</td>\n",
       "      <td>64</td>\n",
       "      <td>14</td>\n",
       "      <td>Furniture</td>\n",
       "      <td>Chairs</td>\n",
       "      <td>EMI</td>\n",
       "    </tr>\n",
       "    <tr>\n",
       "      <th>2</th>\n",
       "      <td>B-25955</td>\n",
       "      <td>2927</td>\n",
       "      <td>146</td>\n",
       "      <td>8</td>\n",
       "      <td>Furniture</td>\n",
       "      <td>Bookcases</td>\n",
       "      <td>EMI</td>\n",
       "    </tr>\n",
       "    <tr>\n",
       "      <th>3</th>\n",
       "      <td>B-26093</td>\n",
       "      <td>2847</td>\n",
       "      <td>712</td>\n",
       "      <td>8</td>\n",
       "      <td>Electronics</td>\n",
       "      <td>Printers</td>\n",
       "      <td>Credit Card</td>\n",
       "    </tr>\n",
       "    <tr>\n",
       "      <th>4</th>\n",
       "      <td>B-25602</td>\n",
       "      <td>2617</td>\n",
       "      <td>1151</td>\n",
       "      <td>4</td>\n",
       "      <td>Electronics</td>\n",
       "      <td>Phones</td>\n",
       "      <td>Credit Card</td>\n",
       "    </tr>\n",
       "  </tbody>\n",
       "</table>\n",
       "</div>"
      ],
      "text/plain": [
       "  Order ID  Amount  Profit  Quantity     Category      Sub-Category  \\\n",
       "0  B-25681    1096     658         7  Electronics  Electronic Games   \n",
       "1  B-26055    5729      64        14    Furniture            Chairs   \n",
       "2  B-25955    2927     146         8    Furniture         Bookcases   \n",
       "3  B-26093    2847     712         8  Electronics          Printers   \n",
       "4  B-25602    2617    1151         4  Electronics            Phones   \n",
       "\n",
       "   PaymentMode  \n",
       "0          COD  \n",
       "1          EMI  \n",
       "2          EMI  \n",
       "3  Credit Card  \n",
       "4  Credit Card  "
      ]
     },
     "execution_count": 6,
     "metadata": {},
     "output_type": "execute_result"
    }
   ],
   "source": [
    "df1 = pd.read_csv(\"C:/Users/karti/OneDrive/Documents/kartick/Python_Programs/Data Analysis Project/PowerBI Projects/Ecommerce Sale Analysis/Details.csv\", encoding='latin-1')\n",
    "df1.head()"
   ]
  },
  {
   "cell_type": "code",
   "execution_count": 10,
   "metadata": {},
   "outputs": [
    {
     "data": {
      "text/plain": [
       "(1500, 7)"
      ]
     },
     "execution_count": 10,
     "metadata": {},
     "output_type": "execute_result"
    }
   ],
   "source": [
    "df1.shape"
   ]
  },
  {
   "cell_type": "code",
   "execution_count": 16,
   "metadata": {},
   "outputs": [
    {
     "data": {
      "text/plain": [
       "Order ID        0\n",
       "Amount          0\n",
       "Profit          0\n",
       "Quantity        0\n",
       "Category        0\n",
       "Sub-Category    0\n",
       "PaymentMode     0\n",
       "dtype: int64"
      ]
     },
     "execution_count": 16,
     "metadata": {},
     "output_type": "execute_result"
    }
   ],
   "source": [
    "df1.isnull().sum()"
   ]
  },
  {
   "cell_type": "code",
   "execution_count": 8,
   "metadata": {},
   "outputs": [
    {
     "data": {
      "text/html": [
       "<div>\n",
       "<style scoped>\n",
       "    .dataframe tbody tr th:only-of-type {\n",
       "        vertical-align: middle;\n",
       "    }\n",
       "\n",
       "    .dataframe tbody tr th {\n",
       "        vertical-align: top;\n",
       "    }\n",
       "\n",
       "    .dataframe thead th {\n",
       "        text-align: right;\n",
       "    }\n",
       "</style>\n",
       "<table border=\"1\" class=\"dataframe\">\n",
       "  <thead>\n",
       "    <tr style=\"text-align: right;\">\n",
       "      <th></th>\n",
       "      <th>Order ID</th>\n",
       "      <th>Order Date</th>\n",
       "      <th>CustomerName</th>\n",
       "      <th>State</th>\n",
       "      <th>City</th>\n",
       "    </tr>\n",
       "  </thead>\n",
       "  <tbody>\n",
       "    <tr>\n",
       "      <th>0</th>\n",
       "      <td>B-26055</td>\n",
       "      <td>10/3/2018</td>\n",
       "      <td>Harivansh</td>\n",
       "      <td>Uttar Pradesh</td>\n",
       "      <td>Mathura</td>\n",
       "    </tr>\n",
       "    <tr>\n",
       "      <th>1</th>\n",
       "      <td>B-25993</td>\n",
       "      <td>3/2/2018</td>\n",
       "      <td>Madhav</td>\n",
       "      <td>Delhi</td>\n",
       "      <td>Delhi</td>\n",
       "    </tr>\n",
       "    <tr>\n",
       "      <th>2</th>\n",
       "      <td>B-25973</td>\n",
       "      <td>24-01-2018</td>\n",
       "      <td>Madan Mohan</td>\n",
       "      <td>Uttar Pradesh</td>\n",
       "      <td>Mathura</td>\n",
       "    </tr>\n",
       "    <tr>\n",
       "      <th>3</th>\n",
       "      <td>B-25923</td>\n",
       "      <td>27-12-2018</td>\n",
       "      <td>Gopal</td>\n",
       "      <td>Maharashtra</td>\n",
       "      <td>Mumbai</td>\n",
       "    </tr>\n",
       "    <tr>\n",
       "      <th>4</th>\n",
       "      <td>B-25757</td>\n",
       "      <td>21-08-2018</td>\n",
       "      <td>Vishakha</td>\n",
       "      <td>Madhya Pradesh</td>\n",
       "      <td>Indore</td>\n",
       "    </tr>\n",
       "  </tbody>\n",
       "</table>\n",
       "</div>"
      ],
      "text/plain": [
       "  Order ID  Order Date CustomerName           State     City\n",
       "0  B-26055   10/3/2018    Harivansh   Uttar Pradesh  Mathura\n",
       "1  B-25993    3/2/2018       Madhav           Delhi    Delhi\n",
       "2  B-25973  24-01-2018  Madan Mohan   Uttar Pradesh  Mathura\n",
       "3  B-25923  27-12-2018        Gopal     Maharashtra   Mumbai\n",
       "4  B-25757  21-08-2018     Vishakha  Madhya Pradesh   Indore"
      ]
     },
     "execution_count": 8,
     "metadata": {},
     "output_type": "execute_result"
    }
   ],
   "source": [
    "df2 = pd.read_csv(\"C:/Users/karti/OneDrive/Documents/kartick/Python_Programs/Data Analysis Project/PowerBI Projects/Ecommerce Sale Analysis/Order_Details1.csv\")\n",
    "df2.head()"
   ]
  },
  {
   "cell_type": "code",
   "execution_count": 17,
   "metadata": {},
   "outputs": [
    {
     "data": {
      "text/plain": [
       "Order ID        0\n",
       "Order Date      0\n",
       "CustomerName    0\n",
       "State           0\n",
       "City            0\n",
       "dtype: int64"
      ]
     },
     "execution_count": 17,
     "metadata": {},
     "output_type": "execute_result"
    }
   ],
   "source": [
    "df2.isnull().sum()"
   ]
  },
  {
   "cell_type": "code",
   "execution_count": 12,
   "metadata": {},
   "outputs": [
    {
     "data": {
      "text/plain": [
       "(500, 5)"
      ]
     },
     "execution_count": 12,
     "metadata": {},
     "output_type": "execute_result"
    }
   ],
   "source": [
    "df2.shape"
   ]
  },
  {
   "cell_type": "code",
   "execution_count": 14,
   "metadata": {},
   "outputs": [
    {
     "data": {
      "text/plain": [
       "(1500, 11)"
      ]
     },
     "execution_count": 14,
     "metadata": {},
     "output_type": "execute_result"
    }
   ],
   "source": [
    "new_df = pd.merge(df1, df2, on='Order ID', how='outer')\n",
    "new_df.shape"
   ]
  },
  {
   "cell_type": "code",
   "execution_count": 15,
   "metadata": {},
   "outputs": [
    {
     "data": {
      "text/html": [
       "<div>\n",
       "<style scoped>\n",
       "    .dataframe tbody tr th:only-of-type {\n",
       "        vertical-align: middle;\n",
       "    }\n",
       "\n",
       "    .dataframe tbody tr th {\n",
       "        vertical-align: top;\n",
       "    }\n",
       "\n",
       "    .dataframe thead th {\n",
       "        text-align: right;\n",
       "    }\n",
       "</style>\n",
       "<table border=\"1\" class=\"dataframe\">\n",
       "  <thead>\n",
       "    <tr style=\"text-align: right;\">\n",
       "      <th></th>\n",
       "      <th>Order ID</th>\n",
       "      <th>Amount</th>\n",
       "      <th>Profit</th>\n",
       "      <th>Quantity</th>\n",
       "      <th>Category</th>\n",
       "      <th>Sub-Category</th>\n",
       "      <th>PaymentMode</th>\n",
       "      <th>Order Date</th>\n",
       "      <th>CustomerName</th>\n",
       "      <th>State</th>\n",
       "      <th>City</th>\n",
       "    </tr>\n",
       "  </thead>\n",
       "  <tbody>\n",
       "    <tr>\n",
       "      <th>0</th>\n",
       "      <td>B-25681</td>\n",
       "      <td>1096</td>\n",
       "      <td>658</td>\n",
       "      <td>7</td>\n",
       "      <td>Electronics</td>\n",
       "      <td>Electronic Games</td>\n",
       "      <td>COD</td>\n",
       "      <td>4/6/2018</td>\n",
       "      <td>Bhawna</td>\n",
       "      <td>Madhya Pradesh</td>\n",
       "      <td>Indore</td>\n",
       "    </tr>\n",
       "    <tr>\n",
       "      <th>1</th>\n",
       "      <td>B-25681</td>\n",
       "      <td>1625</td>\n",
       "      <td>-77</td>\n",
       "      <td>3</td>\n",
       "      <td>Electronics</td>\n",
       "      <td>Phones</td>\n",
       "      <td>EMI</td>\n",
       "      <td>4/6/2018</td>\n",
       "      <td>Bhawna</td>\n",
       "      <td>Madhya Pradesh</td>\n",
       "      <td>Indore</td>\n",
       "    </tr>\n",
       "    <tr>\n",
       "      <th>2</th>\n",
       "      <td>B-25681</td>\n",
       "      <td>523</td>\n",
       "      <td>204</td>\n",
       "      <td>7</td>\n",
       "      <td>Clothing</td>\n",
       "      <td>Trousers</td>\n",
       "      <td>COD</td>\n",
       "      <td>4/6/2018</td>\n",
       "      <td>Bhawna</td>\n",
       "      <td>Madhya Pradesh</td>\n",
       "      <td>Indore</td>\n",
       "    </tr>\n",
       "    <tr>\n",
       "      <th>3</th>\n",
       "      <td>B-25681</td>\n",
       "      <td>44</td>\n",
       "      <td>-3</td>\n",
       "      <td>1</td>\n",
       "      <td>Clothing</td>\n",
       "      <td>Saree</td>\n",
       "      <td>Debit Card</td>\n",
       "      <td>4/6/2018</td>\n",
       "      <td>Bhawna</td>\n",
       "      <td>Madhya Pradesh</td>\n",
       "      <td>Indore</td>\n",
       "    </tr>\n",
       "    <tr>\n",
       "      <th>4</th>\n",
       "      <td>B-25681</td>\n",
       "      <td>243</td>\n",
       "      <td>-14</td>\n",
       "      <td>2</td>\n",
       "      <td>Furniture</td>\n",
       "      <td>Chairs</td>\n",
       "      <td>COD</td>\n",
       "      <td>4/6/2018</td>\n",
       "      <td>Bhawna</td>\n",
       "      <td>Madhya Pradesh</td>\n",
       "      <td>Indore</td>\n",
       "    </tr>\n",
       "  </tbody>\n",
       "</table>\n",
       "</div>"
      ],
      "text/plain": [
       "  Order ID  Amount  Profit  Quantity     Category      Sub-Category  \\\n",
       "0  B-25681    1096     658         7  Electronics  Electronic Games   \n",
       "1  B-25681    1625     -77         3  Electronics            Phones   \n",
       "2  B-25681     523     204         7     Clothing          Trousers   \n",
       "3  B-25681      44      -3         1     Clothing             Saree   \n",
       "4  B-25681     243     -14         2    Furniture            Chairs   \n",
       "\n",
       "  PaymentMode Order Date CustomerName           State    City  \n",
       "0         COD   4/6/2018       Bhawna  Madhya Pradesh  Indore  \n",
       "1         EMI   4/6/2018       Bhawna  Madhya Pradesh  Indore  \n",
       "2         COD   4/6/2018       Bhawna  Madhya Pradesh  Indore  \n",
       "3  Debit Card   4/6/2018       Bhawna  Madhya Pradesh  Indore  \n",
       "4         COD   4/6/2018       Bhawna  Madhya Pradesh  Indore  "
      ]
     },
     "execution_count": 15,
     "metadata": {},
     "output_type": "execute_result"
    }
   ],
   "source": [
    "new_df.head()"
   ]
  },
  {
   "cell_type": "code",
   "execution_count": 18,
   "metadata": {},
   "outputs": [
    {
     "data": {
      "text/plain": [
       "Order ID        0\n",
       "Amount          0\n",
       "Profit          0\n",
       "Quantity        0\n",
       "Category        0\n",
       "Sub-Category    0\n",
       "PaymentMode     0\n",
       "Order Date      0\n",
       "CustomerName    0\n",
       "State           0\n",
       "City            0\n",
       "dtype: int64"
      ]
     },
     "execution_count": 18,
     "metadata": {},
     "output_type": "execute_result"
    }
   ],
   "source": [
    "new_df.isnull().sum()"
   ]
  },
  {
   "cell_type": "code",
   "execution_count": 20,
   "metadata": {},
   "outputs": [
    {
     "data": {
      "text/html": [
       "<div>\n",
       "<style scoped>\n",
       "    .dataframe tbody tr th:only-of-type {\n",
       "        vertical-align: middle;\n",
       "    }\n",
       "\n",
       "    .dataframe tbody tr th {\n",
       "        vertical-align: top;\n",
       "    }\n",
       "\n",
       "    .dataframe thead th {\n",
       "        text-align: right;\n",
       "    }\n",
       "</style>\n",
       "<table border=\"1\" class=\"dataframe\">\n",
       "  <thead>\n",
       "    <tr style=\"text-align: right;\">\n",
       "      <th></th>\n",
       "      <th>Amount</th>\n",
       "      <th>Profit</th>\n",
       "      <th>Quantity</th>\n",
       "    </tr>\n",
       "  </thead>\n",
       "  <tbody>\n",
       "    <tr>\n",
       "      <th>count</th>\n",
       "      <td>1500.000000</td>\n",
       "      <td>1500.00000</td>\n",
       "      <td>1500.000000</td>\n",
       "    </tr>\n",
       "    <tr>\n",
       "      <th>mean</th>\n",
       "      <td>291.847333</td>\n",
       "      <td>24.64200</td>\n",
       "      <td>3.743333</td>\n",
       "    </tr>\n",
       "    <tr>\n",
       "      <th>std</th>\n",
       "      <td>461.924620</td>\n",
       "      <td>168.55881</td>\n",
       "      <td>2.184942</td>\n",
       "    </tr>\n",
       "    <tr>\n",
       "      <th>min</th>\n",
       "      <td>4.000000</td>\n",
       "      <td>-1981.00000</td>\n",
       "      <td>1.000000</td>\n",
       "    </tr>\n",
       "    <tr>\n",
       "      <th>25%</th>\n",
       "      <td>47.750000</td>\n",
       "      <td>-12.00000</td>\n",
       "      <td>2.000000</td>\n",
       "    </tr>\n",
       "    <tr>\n",
       "      <th>50%</th>\n",
       "      <td>122.000000</td>\n",
       "      <td>8.00000</td>\n",
       "      <td>3.000000</td>\n",
       "    </tr>\n",
       "    <tr>\n",
       "      <th>75%</th>\n",
       "      <td>326.250000</td>\n",
       "      <td>38.00000</td>\n",
       "      <td>5.000000</td>\n",
       "    </tr>\n",
       "    <tr>\n",
       "      <th>max</th>\n",
       "      <td>5729.000000</td>\n",
       "      <td>1864.00000</td>\n",
       "      <td>14.000000</td>\n",
       "    </tr>\n",
       "  </tbody>\n",
       "</table>\n",
       "</div>"
      ],
      "text/plain": [
       "            Amount      Profit     Quantity\n",
       "count  1500.000000  1500.00000  1500.000000\n",
       "mean    291.847333    24.64200     3.743333\n",
       "std     461.924620   168.55881     2.184942\n",
       "min       4.000000 -1981.00000     1.000000\n",
       "25%      47.750000   -12.00000     2.000000\n",
       "50%     122.000000     8.00000     3.000000\n",
       "75%     326.250000    38.00000     5.000000\n",
       "max    5729.000000  1864.00000    14.000000"
      ]
     },
     "execution_count": 20,
     "metadata": {},
     "output_type": "execute_result"
    }
   ],
   "source": [
    "new_df.describe()"
   ]
  },
  {
   "cell_type": "code",
   "execution_count": 26,
   "metadata": {},
   "outputs": [
    {
     "data": {
      "text/html": [
       "<div>\n",
       "<style scoped>\n",
       "    .dataframe tbody tr th:only-of-type {\n",
       "        vertical-align: middle;\n",
       "    }\n",
       "\n",
       "    .dataframe tbody tr th {\n",
       "        vertical-align: top;\n",
       "    }\n",
       "\n",
       "    .dataframe thead th {\n",
       "        text-align: right;\n",
       "    }\n",
       "</style>\n",
       "<table border=\"1\" class=\"dataframe\">\n",
       "  <thead>\n",
       "    <tr style=\"text-align: right;\">\n",
       "      <th></th>\n",
       "      <th>Order ID</th>\n",
       "      <th>Amount</th>\n",
       "      <th>Profit</th>\n",
       "      <th>Quantity</th>\n",
       "      <th>Category</th>\n",
       "      <th>Sub-Category</th>\n",
       "      <th>PaymentMode</th>\n",
       "      <th>Order Date</th>\n",
       "      <th>CustomerName</th>\n",
       "      <th>State</th>\n",
       "      <th>City</th>\n",
       "    </tr>\n",
       "  </thead>\n",
       "  <tbody>\n",
       "    <tr>\n",
       "      <th>0</th>\n",
       "      <td>B-25681</td>\n",
       "      <td>1096</td>\n",
       "      <td>658</td>\n",
       "      <td>7</td>\n",
       "      <td>Electronics</td>\n",
       "      <td>Electronic Games</td>\n",
       "      <td>COD</td>\n",
       "      <td>2018-04-06</td>\n",
       "      <td>Bhawna</td>\n",
       "      <td>Madhya Pradesh</td>\n",
       "      <td>Indore</td>\n",
       "    </tr>\n",
       "    <tr>\n",
       "      <th>1</th>\n",
       "      <td>B-25681</td>\n",
       "      <td>1625</td>\n",
       "      <td>-77</td>\n",
       "      <td>3</td>\n",
       "      <td>Electronics</td>\n",
       "      <td>Phones</td>\n",
       "      <td>EMI</td>\n",
       "      <td>2018-04-06</td>\n",
       "      <td>Bhawna</td>\n",
       "      <td>Madhya Pradesh</td>\n",
       "      <td>Indore</td>\n",
       "    </tr>\n",
       "    <tr>\n",
       "      <th>2</th>\n",
       "      <td>B-25681</td>\n",
       "      <td>523</td>\n",
       "      <td>204</td>\n",
       "      <td>7</td>\n",
       "      <td>Clothing</td>\n",
       "      <td>Trousers</td>\n",
       "      <td>COD</td>\n",
       "      <td>2018-04-06</td>\n",
       "      <td>Bhawna</td>\n",
       "      <td>Madhya Pradesh</td>\n",
       "      <td>Indore</td>\n",
       "    </tr>\n",
       "    <tr>\n",
       "      <th>3</th>\n",
       "      <td>B-25681</td>\n",
       "      <td>44</td>\n",
       "      <td>-3</td>\n",
       "      <td>1</td>\n",
       "      <td>Clothing</td>\n",
       "      <td>Saree</td>\n",
       "      <td>Debit Card</td>\n",
       "      <td>2018-04-06</td>\n",
       "      <td>Bhawna</td>\n",
       "      <td>Madhya Pradesh</td>\n",
       "      <td>Indore</td>\n",
       "    </tr>\n",
       "    <tr>\n",
       "      <th>4</th>\n",
       "      <td>B-25681</td>\n",
       "      <td>243</td>\n",
       "      <td>-14</td>\n",
       "      <td>2</td>\n",
       "      <td>Furniture</td>\n",
       "      <td>Chairs</td>\n",
       "      <td>COD</td>\n",
       "      <td>2018-04-06</td>\n",
       "      <td>Bhawna</td>\n",
       "      <td>Madhya Pradesh</td>\n",
       "      <td>Indore</td>\n",
       "    </tr>\n",
       "  </tbody>\n",
       "</table>\n",
       "</div>"
      ],
      "text/plain": [
       "  Order ID  Amount  Profit  Quantity     Category      Sub-Category  \\\n",
       "0  B-25681    1096     658         7  Electronics  Electronic Games   \n",
       "1  B-25681    1625     -77         3  Electronics            Phones   \n",
       "2  B-25681     523     204         7     Clothing          Trousers   \n",
       "3  B-25681      44      -3         1     Clothing             Saree   \n",
       "4  B-25681     243     -14         2    Furniture            Chairs   \n",
       "\n",
       "  PaymentMode Order Date CustomerName           State    City  \n",
       "0         COD 2018-04-06       Bhawna  Madhya Pradesh  Indore  \n",
       "1         EMI 2018-04-06       Bhawna  Madhya Pradesh  Indore  \n",
       "2         COD 2018-04-06       Bhawna  Madhya Pradesh  Indore  \n",
       "3  Debit Card 2018-04-06       Bhawna  Madhya Pradesh  Indore  \n",
       "4         COD 2018-04-06       Bhawna  Madhya Pradesh  Indore  "
      ]
     },
     "execution_count": 26,
     "metadata": {},
     "output_type": "execute_result"
    }
   ],
   "source": [
    "new_df['Order Date'] = pd.to_datetime(new_df['Order Date'], format='mixed')\n",
    "new_df.head()"
   ]
  },
  {
   "cell_type": "code",
   "execution_count": 36,
   "metadata": {},
   "outputs": [
    {
     "data": {
      "text/html": [
       "<div>\n",
       "<style scoped>\n",
       "    .dataframe tbody tr th:only-of-type {\n",
       "        vertical-align: middle;\n",
       "    }\n",
       "\n",
       "    .dataframe tbody tr th {\n",
       "        vertical-align: top;\n",
       "    }\n",
       "\n",
       "    .dataframe thead th {\n",
       "        text-align: right;\n",
       "    }\n",
       "</style>\n",
       "<table border=\"1\" class=\"dataframe\">\n",
       "  <thead>\n",
       "    <tr style=\"text-align: right;\">\n",
       "      <th></th>\n",
       "      <th>Order ID</th>\n",
       "      <th>Amount</th>\n",
       "      <th>Profit</th>\n",
       "      <th>Quantity</th>\n",
       "      <th>Category</th>\n",
       "      <th>Sub-Category</th>\n",
       "      <th>PaymentMode</th>\n",
       "      <th>Order Date</th>\n",
       "      <th>CustomerName</th>\n",
       "      <th>State</th>\n",
       "      <th>City</th>\n",
       "      <th>Order_Year</th>\n",
       "      <th>Order_Month</th>\n",
       "    </tr>\n",
       "  </thead>\n",
       "  <tbody>\n",
       "    <tr>\n",
       "      <th>0</th>\n",
       "      <td>B-25681</td>\n",
       "      <td>1096</td>\n",
       "      <td>658</td>\n",
       "      <td>7</td>\n",
       "      <td>Electronics</td>\n",
       "      <td>Electronic Games</td>\n",
       "      <td>COD</td>\n",
       "      <td>2018-04-06</td>\n",
       "      <td>Bhawna</td>\n",
       "      <td>Madhya Pradesh</td>\n",
       "      <td>Indore</td>\n",
       "      <td>2018</td>\n",
       "      <td>4</td>\n",
       "    </tr>\n",
       "    <tr>\n",
       "      <th>1</th>\n",
       "      <td>B-25681</td>\n",
       "      <td>1625</td>\n",
       "      <td>-77</td>\n",
       "      <td>3</td>\n",
       "      <td>Electronics</td>\n",
       "      <td>Phones</td>\n",
       "      <td>EMI</td>\n",
       "      <td>2018-04-06</td>\n",
       "      <td>Bhawna</td>\n",
       "      <td>Madhya Pradesh</td>\n",
       "      <td>Indore</td>\n",
       "      <td>2018</td>\n",
       "      <td>4</td>\n",
       "    </tr>\n",
       "    <tr>\n",
       "      <th>2</th>\n",
       "      <td>B-25681</td>\n",
       "      <td>523</td>\n",
       "      <td>204</td>\n",
       "      <td>7</td>\n",
       "      <td>Clothing</td>\n",
       "      <td>Trousers</td>\n",
       "      <td>COD</td>\n",
       "      <td>2018-04-06</td>\n",
       "      <td>Bhawna</td>\n",
       "      <td>Madhya Pradesh</td>\n",
       "      <td>Indore</td>\n",
       "      <td>2018</td>\n",
       "      <td>4</td>\n",
       "    </tr>\n",
       "    <tr>\n",
       "      <th>3</th>\n",
       "      <td>B-25681</td>\n",
       "      <td>44</td>\n",
       "      <td>-3</td>\n",
       "      <td>1</td>\n",
       "      <td>Clothing</td>\n",
       "      <td>Saree</td>\n",
       "      <td>Debit Card</td>\n",
       "      <td>2018-04-06</td>\n",
       "      <td>Bhawna</td>\n",
       "      <td>Madhya Pradesh</td>\n",
       "      <td>Indore</td>\n",
       "      <td>2018</td>\n",
       "      <td>4</td>\n",
       "    </tr>\n",
       "    <tr>\n",
       "      <th>4</th>\n",
       "      <td>B-25681</td>\n",
       "      <td>243</td>\n",
       "      <td>-14</td>\n",
       "      <td>2</td>\n",
       "      <td>Furniture</td>\n",
       "      <td>Chairs</td>\n",
       "      <td>COD</td>\n",
       "      <td>2018-04-06</td>\n",
       "      <td>Bhawna</td>\n",
       "      <td>Madhya Pradesh</td>\n",
       "      <td>Indore</td>\n",
       "      <td>2018</td>\n",
       "      <td>4</td>\n",
       "    </tr>\n",
       "  </tbody>\n",
       "</table>\n",
       "</div>"
      ],
      "text/plain": [
       "  Order ID  Amount  Profit  Quantity     Category      Sub-Category  \\\n",
       "0  B-25681    1096     658         7  Electronics  Electronic Games   \n",
       "1  B-25681    1625     -77         3  Electronics            Phones   \n",
       "2  B-25681     523     204         7     Clothing          Trousers   \n",
       "3  B-25681      44      -3         1     Clothing             Saree   \n",
       "4  B-25681     243     -14         2    Furniture            Chairs   \n",
       "\n",
       "  PaymentMode Order Date CustomerName           State    City  Order_Year  \\\n",
       "0         COD 2018-04-06       Bhawna  Madhya Pradesh  Indore        2018   \n",
       "1         EMI 2018-04-06       Bhawna  Madhya Pradesh  Indore        2018   \n",
       "2         COD 2018-04-06       Bhawna  Madhya Pradesh  Indore        2018   \n",
       "3  Debit Card 2018-04-06       Bhawna  Madhya Pradesh  Indore        2018   \n",
       "4         COD 2018-04-06       Bhawna  Madhya Pradesh  Indore        2018   \n",
       "\n",
       "   Order_Month  \n",
       "0            4  \n",
       "1            4  \n",
       "2            4  \n",
       "3            4  \n",
       "4            4  "
      ]
     },
     "execution_count": 36,
     "metadata": {},
     "output_type": "execute_result"
    }
   ],
   "source": [
    "new_df['Order_Year'] = new_df['Order Date'].dt.year\n",
    "new_df['Order_Month'] = new_df['Order Date'].dt.month\n",
    "new_df.head()"
   ]
  },
  {
   "cell_type": "markdown",
   "metadata": {},
   "source": [
    "# Profit By Month"
   ]
  },
  {
   "cell_type": "code",
   "execution_count": 40,
   "metadata": {},
   "outputs": [
    {
     "data": {
      "text/html": [
       "<div>\n",
       "<style scoped>\n",
       "    .dataframe tbody tr th:only-of-type {\n",
       "        vertical-align: middle;\n",
       "    }\n",
       "\n",
       "    .dataframe tbody tr th {\n",
       "        vertical-align: top;\n",
       "    }\n",
       "\n",
       "    .dataframe thead th {\n",
       "        text-align: right;\n",
       "    }\n",
       "</style>\n",
       "<table border=\"1\" class=\"dataframe\">\n",
       "  <thead>\n",
       "    <tr style=\"text-align: right;\">\n",
       "      <th></th>\n",
       "      <th>Order_Month</th>\n",
       "      <th>Profit</th>\n",
       "    </tr>\n",
       "  </thead>\n",
       "  <tbody>\n",
       "    <tr>\n",
       "      <th>0</th>\n",
       "      <td>1</td>\n",
       "      <td>6287</td>\n",
       "    </tr>\n",
       "    <tr>\n",
       "      <th>1</th>\n",
       "      <td>2</td>\n",
       "      <td>5116</td>\n",
       "    </tr>\n",
       "    <tr>\n",
       "      <th>2</th>\n",
       "      <td>3</td>\n",
       "      <td>6334</td>\n",
       "    </tr>\n",
       "    <tr>\n",
       "      <th>3</th>\n",
       "      <td>4</td>\n",
       "      <td>2928</td>\n",
       "    </tr>\n",
       "    <tr>\n",
       "      <th>4</th>\n",
       "      <td>5</td>\n",
       "      <td>-102</td>\n",
       "    </tr>\n",
       "    <tr>\n",
       "      <th>5</th>\n",
       "      <td>6</td>\n",
       "      <td>-148</td>\n",
       "    </tr>\n",
       "    <tr>\n",
       "      <th>6</th>\n",
       "      <td>7</td>\n",
       "      <td>-1927</td>\n",
       "    </tr>\n",
       "    <tr>\n",
       "      <th>7</th>\n",
       "      <td>8</td>\n",
       "      <td>6079</td>\n",
       "    </tr>\n",
       "    <tr>\n",
       "      <th>8</th>\n",
       "      <td>9</td>\n",
       "      <td>1330</td>\n",
       "    </tr>\n",
       "    <tr>\n",
       "      <th>9</th>\n",
       "      <td>10</td>\n",
       "      <td>6495</td>\n",
       "    </tr>\n",
       "    <tr>\n",
       "      <th>10</th>\n",
       "      <td>11</td>\n",
       "      <td>5603</td>\n",
       "    </tr>\n",
       "    <tr>\n",
       "      <th>11</th>\n",
       "      <td>12</td>\n",
       "      <td>-1032</td>\n",
       "    </tr>\n",
       "  </tbody>\n",
       "</table>\n",
       "</div>"
      ],
      "text/plain": [
       "    Order_Month  Profit\n",
       "0             1    6287\n",
       "1             2    5116\n",
       "2             3    6334\n",
       "3             4    2928\n",
       "4             5    -102\n",
       "5             6    -148\n",
       "6             7   -1927\n",
       "7             8    6079\n",
       "8             9    1330\n",
       "9            10    6495\n",
       "10           11    5603\n",
       "11           12   -1032"
      ]
     },
     "execution_count": 40,
     "metadata": {},
     "output_type": "execute_result"
    }
   ],
   "source": [
    "profit_by_month = new_df.groupby('Order_Month')['Profit'].sum().reset_index()\n",
    "profit_by_month"
   ]
  },
  {
   "cell_type": "code",
   "execution_count": 50,
   "metadata": {},
   "outputs": [
    {
     "data": {
      "application/vnd.plotly.v1+json": {
       "config": {
        "plotlyServerURL": "https://plot.ly"
       },
       "data": [
        {
         "alignmentgroup": "True",
         "hovertemplate": "Order_Month=%{x}<br>Profit=%{marker.color}<extra></extra>",
         "legendgroup": "",
         "marker": {
          "color": [
           6287,
           5116,
           6334,
           2928,
           -102,
           -148,
           -1927,
           6079,
           1330,
           6495,
           5603,
           -1032
          ],
          "coloraxis": "coloraxis",
          "pattern": {
           "shape": ""
          }
         },
         "name": "",
         "offsetgroup": "",
         "orientation": "v",
         "showlegend": false,
         "textposition": "auto",
         "type": "bar",
         "x": [
          1,
          2,
          3,
          4,
          5,
          6,
          7,
          8,
          9,
          10,
          11,
          12
         ],
         "xaxis": "x",
         "y": [
          6287,
          5116,
          6334,
          2928,
          -102,
          -148,
          -1927,
          6079,
          1330,
          6495,
          5603,
          -1032
         ],
         "yaxis": "y"
        }
       ],
       "layout": {
        "autosize": false,
        "barmode": "relative",
        "coloraxis": {
         "colorbar": {
          "title": {
           "text": "Profit"
          }
         },
         "colorscale": [
          [
           0,
           "#0d0887"
          ],
          [
           0.1111111111111111,
           "#46039f"
          ],
          [
           0.2222222222222222,
           "#7201a8"
          ],
          [
           0.3333333333333333,
           "#9c179e"
          ],
          [
           0.4444444444444444,
           "#bd3786"
          ],
          [
           0.5555555555555556,
           "#d8576b"
          ],
          [
           0.6666666666666666,
           "#ed7953"
          ],
          [
           0.7777777777777778,
           "#fb9f3a"
          ],
          [
           0.8888888888888888,
           "#fdca26"
          ],
          [
           1,
           "#f0f921"
          ]
         ]
        },
        "height": 500,
        "legend": {
         "tracegroupgap": 0
        },
        "margin": {
         "t": 60
        },
        "template": {
         "data": {
          "bar": [
           {
            "error_x": {
             "color": "#2a3f5f"
            },
            "error_y": {
             "color": "#2a3f5f"
            },
            "marker": {
             "line": {
              "color": "#E5ECF6",
              "width": 0.5
             },
             "pattern": {
              "fillmode": "overlay",
              "size": 10,
              "solidity": 0.2
             }
            },
            "type": "bar"
           }
          ],
          "barpolar": [
           {
            "marker": {
             "line": {
              "color": "#E5ECF6",
              "width": 0.5
             },
             "pattern": {
              "fillmode": "overlay",
              "size": 10,
              "solidity": 0.2
             }
            },
            "type": "barpolar"
           }
          ],
          "carpet": [
           {
            "aaxis": {
             "endlinecolor": "#2a3f5f",
             "gridcolor": "white",
             "linecolor": "white",
             "minorgridcolor": "white",
             "startlinecolor": "#2a3f5f"
            },
            "baxis": {
             "endlinecolor": "#2a3f5f",
             "gridcolor": "white",
             "linecolor": "white",
             "minorgridcolor": "white",
             "startlinecolor": "#2a3f5f"
            },
            "type": "carpet"
           }
          ],
          "choropleth": [
           {
            "colorbar": {
             "outlinewidth": 0,
             "ticks": ""
            },
            "type": "choropleth"
           }
          ],
          "contour": [
           {
            "colorbar": {
             "outlinewidth": 0,
             "ticks": ""
            },
            "colorscale": [
             [
              0,
              "#0d0887"
             ],
             [
              0.1111111111111111,
              "#46039f"
             ],
             [
              0.2222222222222222,
              "#7201a8"
             ],
             [
              0.3333333333333333,
              "#9c179e"
             ],
             [
              0.4444444444444444,
              "#bd3786"
             ],
             [
              0.5555555555555556,
              "#d8576b"
             ],
             [
              0.6666666666666666,
              "#ed7953"
             ],
             [
              0.7777777777777778,
              "#fb9f3a"
             ],
             [
              0.8888888888888888,
              "#fdca26"
             ],
             [
              1,
              "#f0f921"
             ]
            ],
            "type": "contour"
           }
          ],
          "contourcarpet": [
           {
            "colorbar": {
             "outlinewidth": 0,
             "ticks": ""
            },
            "type": "contourcarpet"
           }
          ],
          "heatmap": [
           {
            "colorbar": {
             "outlinewidth": 0,
             "ticks": ""
            },
            "colorscale": [
             [
              0,
              "#0d0887"
             ],
             [
              0.1111111111111111,
              "#46039f"
             ],
             [
              0.2222222222222222,
              "#7201a8"
             ],
             [
              0.3333333333333333,
              "#9c179e"
             ],
             [
              0.4444444444444444,
              "#bd3786"
             ],
             [
              0.5555555555555556,
              "#d8576b"
             ],
             [
              0.6666666666666666,
              "#ed7953"
             ],
             [
              0.7777777777777778,
              "#fb9f3a"
             ],
             [
              0.8888888888888888,
              "#fdca26"
             ],
             [
              1,
              "#f0f921"
             ]
            ],
            "type": "heatmap"
           }
          ],
          "heatmapgl": [
           {
            "colorbar": {
             "outlinewidth": 0,
             "ticks": ""
            },
            "colorscale": [
             [
              0,
              "#0d0887"
             ],
             [
              0.1111111111111111,
              "#46039f"
             ],
             [
              0.2222222222222222,
              "#7201a8"
             ],
             [
              0.3333333333333333,
              "#9c179e"
             ],
             [
              0.4444444444444444,
              "#bd3786"
             ],
             [
              0.5555555555555556,
              "#d8576b"
             ],
             [
              0.6666666666666666,
              "#ed7953"
             ],
             [
              0.7777777777777778,
              "#fb9f3a"
             ],
             [
              0.8888888888888888,
              "#fdca26"
             ],
             [
              1,
              "#f0f921"
             ]
            ],
            "type": "heatmapgl"
           }
          ],
          "histogram": [
           {
            "marker": {
             "pattern": {
              "fillmode": "overlay",
              "size": 10,
              "solidity": 0.2
             }
            },
            "type": "histogram"
           }
          ],
          "histogram2d": [
           {
            "colorbar": {
             "outlinewidth": 0,
             "ticks": ""
            },
            "colorscale": [
             [
              0,
              "#0d0887"
             ],
             [
              0.1111111111111111,
              "#46039f"
             ],
             [
              0.2222222222222222,
              "#7201a8"
             ],
             [
              0.3333333333333333,
              "#9c179e"
             ],
             [
              0.4444444444444444,
              "#bd3786"
             ],
             [
              0.5555555555555556,
              "#d8576b"
             ],
             [
              0.6666666666666666,
              "#ed7953"
             ],
             [
              0.7777777777777778,
              "#fb9f3a"
             ],
             [
              0.8888888888888888,
              "#fdca26"
             ],
             [
              1,
              "#f0f921"
             ]
            ],
            "type": "histogram2d"
           }
          ],
          "histogram2dcontour": [
           {
            "colorbar": {
             "outlinewidth": 0,
             "ticks": ""
            },
            "colorscale": [
             [
              0,
              "#0d0887"
             ],
             [
              0.1111111111111111,
              "#46039f"
             ],
             [
              0.2222222222222222,
              "#7201a8"
             ],
             [
              0.3333333333333333,
              "#9c179e"
             ],
             [
              0.4444444444444444,
              "#bd3786"
             ],
             [
              0.5555555555555556,
              "#d8576b"
             ],
             [
              0.6666666666666666,
              "#ed7953"
             ],
             [
              0.7777777777777778,
              "#fb9f3a"
             ],
             [
              0.8888888888888888,
              "#fdca26"
             ],
             [
              1,
              "#f0f921"
             ]
            ],
            "type": "histogram2dcontour"
           }
          ],
          "mesh3d": [
           {
            "colorbar": {
             "outlinewidth": 0,
             "ticks": ""
            },
            "type": "mesh3d"
           }
          ],
          "parcoords": [
           {
            "line": {
             "colorbar": {
              "outlinewidth": 0,
              "ticks": ""
             }
            },
            "type": "parcoords"
           }
          ],
          "pie": [
           {
            "automargin": true,
            "type": "pie"
           }
          ],
          "scatter": [
           {
            "fillpattern": {
             "fillmode": "overlay",
             "size": 10,
             "solidity": 0.2
            },
            "type": "scatter"
           }
          ],
          "scatter3d": [
           {
            "line": {
             "colorbar": {
              "outlinewidth": 0,
              "ticks": ""
             }
            },
            "marker": {
             "colorbar": {
              "outlinewidth": 0,
              "ticks": ""
             }
            },
            "type": "scatter3d"
           }
          ],
          "scattercarpet": [
           {
            "marker": {
             "colorbar": {
              "outlinewidth": 0,
              "ticks": ""
             }
            },
            "type": "scattercarpet"
           }
          ],
          "scattergeo": [
           {
            "marker": {
             "colorbar": {
              "outlinewidth": 0,
              "ticks": ""
             }
            },
            "type": "scattergeo"
           }
          ],
          "scattergl": [
           {
            "marker": {
             "colorbar": {
              "outlinewidth": 0,
              "ticks": ""
             }
            },
            "type": "scattergl"
           }
          ],
          "scattermapbox": [
           {
            "marker": {
             "colorbar": {
              "outlinewidth": 0,
              "ticks": ""
             }
            },
            "type": "scattermapbox"
           }
          ],
          "scatterpolar": [
           {
            "marker": {
             "colorbar": {
              "outlinewidth": 0,
              "ticks": ""
             }
            },
            "type": "scatterpolar"
           }
          ],
          "scatterpolargl": [
           {
            "marker": {
             "colorbar": {
              "outlinewidth": 0,
              "ticks": ""
             }
            },
            "type": "scatterpolargl"
           }
          ],
          "scatterternary": [
           {
            "marker": {
             "colorbar": {
              "outlinewidth": 0,
              "ticks": ""
             }
            },
            "type": "scatterternary"
           }
          ],
          "surface": [
           {
            "colorbar": {
             "outlinewidth": 0,
             "ticks": ""
            },
            "colorscale": [
             [
              0,
              "#0d0887"
             ],
             [
              0.1111111111111111,
              "#46039f"
             ],
             [
              0.2222222222222222,
              "#7201a8"
             ],
             [
              0.3333333333333333,
              "#9c179e"
             ],
             [
              0.4444444444444444,
              "#bd3786"
             ],
             [
              0.5555555555555556,
              "#d8576b"
             ],
             [
              0.6666666666666666,
              "#ed7953"
             ],
             [
              0.7777777777777778,
              "#fb9f3a"
             ],
             [
              0.8888888888888888,
              "#fdca26"
             ],
             [
              1,
              "#f0f921"
             ]
            ],
            "type": "surface"
           }
          ],
          "table": [
           {
            "cells": {
             "fill": {
              "color": "#EBF0F8"
             },
             "line": {
              "color": "white"
             }
            },
            "header": {
             "fill": {
              "color": "#C8D4E3"
             },
             "line": {
              "color": "white"
             }
            },
            "type": "table"
           }
          ]
         },
         "layout": {
          "annotationdefaults": {
           "arrowcolor": "#2a3f5f",
           "arrowhead": 0,
           "arrowwidth": 1
          },
          "autotypenumbers": "strict",
          "coloraxis": {
           "colorbar": {
            "outlinewidth": 0,
            "ticks": ""
           }
          },
          "colorscale": {
           "diverging": [
            [
             0,
             "#8e0152"
            ],
            [
             0.1,
             "#c51b7d"
            ],
            [
             0.2,
             "#de77ae"
            ],
            [
             0.3,
             "#f1b6da"
            ],
            [
             0.4,
             "#fde0ef"
            ],
            [
             0.5,
             "#f7f7f7"
            ],
            [
             0.6,
             "#e6f5d0"
            ],
            [
             0.7,
             "#b8e186"
            ],
            [
             0.8,
             "#7fbc41"
            ],
            [
             0.9,
             "#4d9221"
            ],
            [
             1,
             "#276419"
            ]
           ],
           "sequential": [
            [
             0,
             "#0d0887"
            ],
            [
             0.1111111111111111,
             "#46039f"
            ],
            [
             0.2222222222222222,
             "#7201a8"
            ],
            [
             0.3333333333333333,
             "#9c179e"
            ],
            [
             0.4444444444444444,
             "#bd3786"
            ],
            [
             0.5555555555555556,
             "#d8576b"
            ],
            [
             0.6666666666666666,
             "#ed7953"
            ],
            [
             0.7777777777777778,
             "#fb9f3a"
            ],
            [
             0.8888888888888888,
             "#fdca26"
            ],
            [
             1,
             "#f0f921"
            ]
           ],
           "sequentialminus": [
            [
             0,
             "#0d0887"
            ],
            [
             0.1111111111111111,
             "#46039f"
            ],
            [
             0.2222222222222222,
             "#7201a8"
            ],
            [
             0.3333333333333333,
             "#9c179e"
            ],
            [
             0.4444444444444444,
             "#bd3786"
            ],
            [
             0.5555555555555556,
             "#d8576b"
            ],
            [
             0.6666666666666666,
             "#ed7953"
            ],
            [
             0.7777777777777778,
             "#fb9f3a"
            ],
            [
             0.8888888888888888,
             "#fdca26"
            ],
            [
             1,
             "#f0f921"
            ]
           ]
          },
          "colorway": [
           "#636efa",
           "#EF553B",
           "#00cc96",
           "#ab63fa",
           "#FFA15A",
           "#19d3f3",
           "#FF6692",
           "#B6E880",
           "#FF97FF",
           "#FECB52"
          ],
          "font": {
           "color": "#2a3f5f"
          },
          "geo": {
           "bgcolor": "white",
           "lakecolor": "white",
           "landcolor": "#E5ECF6",
           "showlakes": true,
           "showland": true,
           "subunitcolor": "white"
          },
          "hoverlabel": {
           "align": "left"
          },
          "hovermode": "closest",
          "mapbox": {
           "style": "light"
          },
          "paper_bgcolor": "white",
          "plot_bgcolor": "#E5ECF6",
          "polar": {
           "angularaxis": {
            "gridcolor": "white",
            "linecolor": "white",
            "ticks": ""
           },
           "bgcolor": "#E5ECF6",
           "radialaxis": {
            "gridcolor": "white",
            "linecolor": "white",
            "ticks": ""
           }
          },
          "scene": {
           "xaxis": {
            "backgroundcolor": "#E5ECF6",
            "gridcolor": "white",
            "gridwidth": 2,
            "linecolor": "white",
            "showbackground": true,
            "ticks": "",
            "zerolinecolor": "white"
           },
           "yaxis": {
            "backgroundcolor": "#E5ECF6",
            "gridcolor": "white",
            "gridwidth": 2,
            "linecolor": "white",
            "showbackground": true,
            "ticks": "",
            "zerolinecolor": "white"
           },
           "zaxis": {
            "backgroundcolor": "#E5ECF6",
            "gridcolor": "white",
            "gridwidth": 2,
            "linecolor": "white",
            "showbackground": true,
            "ticks": "",
            "zerolinecolor": "white"
           }
          },
          "shapedefaults": {
           "line": {
            "color": "#2a3f5f"
           }
          },
          "ternary": {
           "aaxis": {
            "gridcolor": "white",
            "linecolor": "white",
            "ticks": ""
           },
           "baxis": {
            "gridcolor": "white",
            "linecolor": "white",
            "ticks": ""
           },
           "bgcolor": "#E5ECF6",
           "caxis": {
            "gridcolor": "white",
            "linecolor": "white",
            "ticks": ""
           }
          },
          "title": {
           "x": 0.05
          },
          "xaxis": {
           "automargin": true,
           "gridcolor": "white",
           "linecolor": "white",
           "ticks": "",
           "title": {
            "standoff": 15
           },
           "zerolinecolor": "white",
           "zerolinewidth": 2
          },
          "yaxis": {
           "automargin": true,
           "gridcolor": "white",
           "linecolor": "white",
           "ticks": "",
           "title": {
            "standoff": 15
           },
           "zerolinecolor": "white",
           "zerolinewidth": 2
          }
         }
        },
        "title": {
         "text": "Profit by Month"
        },
        "width": 1000,
        "xaxis": {
         "anchor": "y",
         "domain": [
          0,
          1
         ],
         "title": {
          "text": "Order_Month"
         }
        },
        "yaxis": {
         "anchor": "x",
         "domain": [
          0,
          1
         ],
         "title": {
          "text": "Profit"
         }
        }
       }
      }
     },
     "metadata": {},
     "output_type": "display_data"
    }
   ],
   "source": [
    "fig = px.bar(data_frame=profit_by_month, x='Order_Month', y='Profit', color='Profit')\n",
    "fig.update_layout(title='Profit by Month', autosize=False, height=500, width=1000)\n",
    "fig.show()"
   ]
  },
  {
   "cell_type": "markdown",
   "metadata": {},
   "source": [
    "# Amount Vs Profit"
   ]
  },
  {
   "cell_type": "code",
   "execution_count": 54,
   "metadata": {},
   "outputs": [
    {
     "data": {
      "application/vnd.plotly.v1+json": {
       "config": {
        "plotlyServerURL": "https://plot.ly"
       },
       "data": [
        {
         "hovertemplate": "Amount=%{x}<br>Profit=%{marker.color}<extra></extra>",
         "legendgroup": "",
         "marker": {
          "color": [
           658,
           -77,
           204,
           -3,
           -14,
           -27,
           64,
           114,
           11,
           7,
           48,
           4,
           27,
           -12,
           -420,
           146,
           2,
           14,
           62,
           20,
           13,
           8,
           95,
           309,
           712,
           51,
           25,
           -41,
           5,
           -1,
           187,
           1151,
           212,
           -272,
           -111,
           -5,
           247,
           3,
           7,
           9,
           111,
           23,
           -275,
           99,
           -6,
           -4,
           -9,
           80,
           -213,
           6,
           139,
           21,
           -1,
           -44,
           -36,
           -23,
           -63,
           -7,
           -54,
           71,
           29,
           1,
           27,
           47,
           42,
           24,
           46,
           2,
           -190,
           -45,
           -5,
           -27,
           -23,
           241,
           -3,
           -15,
           -234,
           6,
           -891,
           -11,
           58,
           28,
           -492,
           -33,
           276,
           -24,
           -45,
           1050,
           70,
           -90,
           -31,
           -15,
           0,
           -3,
           -123,
           -312,
           -26,
           -31,
           -68,
           -62,
           -6,
           -4,
           433,
           -192,
           -34,
           -11,
           1,
           721,
           16,
           48,
           11,
           14,
           4,
           11,
           6,
           139,
           -1,
           -2,
           -7,
           -624,
           47,
           7,
           15,
           1,
           -289,
           95,
           167,
           -33,
           13,
           19,
           5,
           -29,
           27,
           4,
           254,
           -33,
           371,
           -7,
           54,
           2,
           -10,
           17,
           0,
           782,
           15,
           0,
           1,
           11,
           64,
           370,
           -266,
           166,
           -6,
           -447,
           -56,
           -13,
           503,
           -1,
           -46,
           0,
           -14,
           -65,
           215,
           312,
           -23,
           202,
           13,
           81,
           209,
           113,
           1303,
           -15,
           29,
           -26,
           42,
           -2,
           122,
           -116,
           -8,
           16,
           47,
           41,
           13,
           2,
           -212,
           -309,
           -26,
           12,
           -18,
           8,
           5,
           -1,
           -38,
           0,
           -18,
           -69,
           -8,
           802,
           -314,
           1,
           -101,
           -4,
           293,
           0,
           127,
           -7,
           -54,
           -24,
           -12,
           564,
           -34,
           -3,
           -3,
           -19,
           4,
           -53,
           213,
           315,
           3,
           5,
           13,
           30,
           980,
           -448,
           22,
           122,
           56,
           2,
           340,
           20,
           38,
           15,
           7,
           460,
           20,
           32,
           0,
           -439,
           106,
           239,
           -62,
           -47,
           199,
           8,
           74,
           42,
           6,
           10,
           -2,
           -10,
           6,
           -31,
           624,
           -10,
           22,
           17,
           206,
           73,
           -1,
           -5,
           20,
           4,
           1864,
           0,
           23,
           385,
           147,
           88,
           119,
           50,
           24,
           22,
           74,
           85,
           -102,
           195,
           2,
           62,
           68,
           -193,
           527,
           -5,
           4,
           342,
           7,
           2,
           -24,
           59,
           -12,
           536,
           -135,
           -85,
           -38,
           -46,
           17,
           -25,
           -67,
           573,
           -16,
           -39,
           8,
           -7,
           -42,
           193,
           -3,
           -2,
           -34,
           6,
           69,
           206,
           65,
           97,
           264,
           -424,
           -113,
           -13,
           14,
           19,
           30,
           -11,
           9,
           15,
           15,
           5,
           7,
           -35,
           73,
           -13,
           2,
           -68,
           8,
           12,
           52,
           203,
           180,
           -2,
           -56,
           12,
           -2,
           -916,
           -93,
           3,
           192,
           -1,
           1,
           199,
           1,
           24,
           18,
           36,
           215,
           -72,
           316,
           -16,
           -30,
           -49,
           -39,
           -13,
           67,
           1,
           -33,
           17,
           12,
           144,
           16,
           24,
           -274,
           13,
           2,
           73,
           5,
           33,
           93,
           -99,
           230,
           10,
           16,
           -640,
           -31,
           -50,
           -117,
           25,
           -10,
           102,
           -3,
           318,
           486,
           -18,
           -41,
           0,
           4,
           -103,
           -8,
           -60,
           3,
           -10,
           -4,
           -63,
           0,
           -706,
           8,
           42,
           30,
           -81,
           22,
           170,
           -28,
           0,
           16,
           23,
           7,
           1,
           -1,
           3,
           -5,
           126,
           18,
           18,
           -23,
           0,
           37,
           169,
           -1,
           680,
           170,
           32,
           35,
           -36,
           14,
           3,
           10,
           101,
           2,
           17,
           266,
           -235,
           27,
           15,
           -27,
           197,
           -2,
           -48,
           86,
           14,
           15,
           8,
           179,
           -14,
           199,
           2,
           27,
           2,
           -307,
           4,
           -23,
           22,
           119,
           20,
           41,
           -193,
           22,
           36,
           2,
           -8,
           352,
           0,
           69,
           48,
           -32,
           14,
           18,
           114,
           8,
           11,
           77,
           57,
           17,
           33,
           -10,
           -94,
           -225,
           -47,
           20,
           111,
           -105,
           -78,
           -2,
           -26,
           -447,
           198,
           107,
           9,
           84,
           -40,
           -17,
           -2,
           -2,
           0,
           0,
           21,
           267,
           303,
           46,
           0,
           15,
           41,
           -1,
           -25,
           -24,
           -18,
           -6,
           -31,
           -15,
           -12,
           -146,
           -48,
           -22,
           -180,
           -43,
           -209,
           -12,
           -58,
           -41,
           -17,
           -50,
           -63,
           21,
           248,
           0,
           27,
           146,
           -9,
           395,
           1,
           36,
           16,
           5,
           -166,
           18,
           -30,
           -60,
           56,
           -25,
           -9,
           -15,
           -100,
           13,
           -8,
           -51,
           -12,
           21,
           59,
           254,
           1,
           -36,
           29,
           2,
           10,
           259,
           8,
           2,
           49,
           56,
           24,
           17,
           212,
           -187,
           -103,
           36,
           6,
           -56,
           -213,
           4,
           2,
           15,
           -2,
           -77,
           -21,
           225,
           71,
           -316,
           -162,
           0,
           -6,
           -64,
           -19,
           1,
           208,
           199,
           8,
           86,
           26,
           32,
           305,
           119,
           29,
           89,
           17,
           13,
           -94,
           292,
           -146,
           -25,
           0,
           89,
           2,
           61,
           6,
           55,
           1,
           31,
           208,
           1,
           175,
           262,
           29,
           12,
           7,
           84,
           4,
           7,
           -113,
           19,
           17,
           12,
           73,
           30,
           31,
           -242,
           567,
           441,
           8,
           371,
           91,
           91,
           5,
           48,
           12,
           194,
           2,
           50,
           6,
           4,
           1,
           140,
           72,
           -111,
           20,
           63,
           8,
           -73,
           -82,
           -152,
           62,
           68,
           9,
           17,
           6,
           9,
           198,
           100,
           29,
           23,
           11,
           13,
           105,
           14,
           18,
           5,
           107,
           35,
           -3,
           2,
           9,
           392,
           -16,
           153,
           -83,
           -6,
           -2,
           116,
           84,
           17,
           37,
           1,
           213,
           11,
           5,
           10,
           12,
           357,
           12,
           73,
           1,
           11,
           30,
           27,
           0,
           109,
           13,
           5,
           8,
           665,
           12,
           14,
           26,
           -79,
           -8,
           -130,
           29,
           -5,
           -11,
           -66,
           68,
           36,
           -2,
           7,
           4,
           151,
           -10,
           93,
           3,
           4,
           0,
           0,
           40,
           56,
           13,
           10,
           11,
           8,
           33,
           568,
           50,
           11,
           0,
           14,
           28,
           20,
           11,
           2,
           26,
           11,
           0,
           -338,
           -84,
           33,
           50,
           50,
           11,
           -114,
           12,
           15,
           59,
           62,
           -103,
           -459,
           17,
           136,
           547,
           0,
           36,
           -90,
           -86,
           -23,
           -21,
           46,
           -17,
           -3,
           12,
           -35,
           -37,
           8,
           87,
           346,
           148,
           -50,
           -3,
           63,
           -13,
           -1981,
           53,
           84,
           16,
           -10,
           -12,
           3,
           -45,
           -29,
           -8,
           -12,
           161,
           6,
           11,
           20,
           24,
           18,
           -145,
           40,
           90,
           9,
           9,
           -18,
           4,
           61,
           -13,
           9,
           49,
           50,
           21,
           8,
           -25,
           -39,
           -7,
           -3,
           12,
           -41,
           14,
           1,
           29,
           54,
           13,
           -23,
           -41,
           -26,
           412,
           -100,
           -44,
           -23,
           -124,
           -5,
           -2,
           -1,
           -17,
           66,
           -63,
           77,
           118,
           -229,
           5,
           -4,
           -12,
           -56,
           -5,
           -124,
           0,
           -51,
           111,
           39,
           14,
           108,
           1698,
           93,
           212,
           -3,
           17,
           -33,
           3,
           2,
           38,
           0,
           -22,
           12,
           -39,
           -26,
           -7,
           -129,
           6,
           143,
           32,
           32,
           27,
           55,
           44,
           9,
           92,
           151,
           119,
           15,
           234,
           68,
           144,
           -2,
           48,
           19,
           16,
           -154,
           16,
           131,
           108,
           0,
           6,
           546,
           -8,
           -9,
           13,
           41,
           36,
           2,
           4,
           24,
           14,
           -15,
           -10,
           63,
           114,
           -48,
           6,
           0,
           30,
           7,
           74,
           -6,
           25,
           -26,
           9,
           11,
           56,
           46,
           72,
           5,
           -200,
           -48,
           -27,
           52,
           26,
           0,
           11,
           113,
           180,
           35,
           -280,
           74,
           64,
           61,
           7,
           225,
           -79,
           -8,
           15,
           17,
           11,
           110,
           9,
           742,
           93,
           5,
           25,
           36,
           5,
           35,
           15,
           81,
           41,
           14,
           5,
           128,
           12,
           3,
           -87,
           0,
           -42,
           -66,
           16,
           30,
           2,
           19,
           14,
           61,
           6,
           97,
           39,
           7,
           -15,
           -8,
           0,
           -4,
           -5,
           21,
           5,
           -56,
           -3,
           19,
           1,
           5,
           251,
           12,
           8,
           2,
           91,
           13,
           0,
           -55,
           -54,
           -5,
           594,
           -38,
           -43,
           -10,
           -6,
           -55,
           -32,
           -75,
           -3,
           3,
           2,
           6,
           29,
           90,
           76,
           2,
           14,
           -83,
           18,
           6,
           4,
           3,
           -15,
           -119,
           -64,
           -27,
           98,
           23,
           19,
           21,
           20,
           11,
           36,
           -174,
           -78,
           0,
           75,
           77,
           5,
           -28,
           -1,
           -49,
           -25,
           -444,
           -353,
           -122,
           83,
           -31,
           -22,
           -13,
           -5,
           -20,
           8,
           20,
           26,
           11,
           -77,
           15,
           -28,
           -59,
           -22,
           -3,
           -9,
           22,
           21,
           0,
           447,
           24,
           54,
           -345,
           -85,
           22,
           -52,
           -114,
           -56,
           -43,
           -20,
           31,
           82,
           -143,
           -70,
           -14,
           -9,
           -21,
           -33,
           -42,
           -104,
           -81,
           -15,
           -1,
           39,
           59,
           166,
           62,
           -30,
           -65,
           40,
           -3,
           -17,
           -49,
           11,
           74,
           74,
           323,
           6,
           4,
           22,
           46,
           13,
           -190,
           21,
           102,
           8,
           17,
           6,
           16,
           3,
           -30,
           29,
           -349,
           3,
           -13,
           13,
           26,
           3,
           2,
           45,
           -27,
           27,
           44,
           1,
           52,
           19,
           22,
           7,
           28,
           -63,
           -28,
           27,
           -21,
           6,
           6,
           26,
           85,
           120,
           -12,
           -252,
           -24,
           -33,
           -1,
           1,
           109,
           -206,
           -70,
           -6,
           -13,
           -21,
           -2,
           -6,
           8,
           107,
           6,
           50,
           2,
           322,
           -7,
           87,
           -25,
           -15,
           8,
           9,
           -25,
           -28,
           37,
           20,
           99,
           15,
           6,
           127,
           32,
           10,
           69,
           10,
           17,
           5,
           -51,
           -21,
           58,
           10,
           -1,
           73,
           44,
           0,
           9,
           66,
           0,
           60,
           11,
           10,
           -25,
           5,
           12,
           48,
           50,
           28,
           40,
           19,
           26,
           305,
           15,
           51,
           -1,
           24,
           4,
           7,
           23,
           50,
           -87,
           20,
           69,
           1,
           12,
           -66,
           -6,
           34,
           46,
           -40,
           -18,
           51,
           0,
           -24,
           -153,
           43,
           22,
           -275,
           -14,
           -6,
           -91,
           0,
           59,
           -56,
           -12,
           1148,
           -2,
           8,
           19,
           6,
           25,
           355,
           14,
           -12,
           -6,
           42,
           -56,
           5,
           -154,
           10,
           -8,
           54,
           -11,
           39,
           -96,
           97,
           19,
           9,
           24,
           93,
           68,
           7,
           -140,
           12,
           47,
           -7,
           -8,
           -6,
           25,
           32,
           -7,
           5,
           -633,
           -3,
           -9,
           5,
           -6,
           12,
           131,
           33,
           11,
           -6,
           2,
           27,
           28,
           38,
           36,
           26,
           -19,
           -58,
           6,
           9,
           8,
           5,
           9,
           57,
           11,
           15,
           12,
           37,
           4,
           -204,
           -244,
           11,
           -43,
           10,
           14,
           -10,
           -11,
           2,
           -6,
           -17,
           1,
           25,
           1,
           54,
           35,
           169,
           -89,
           -37,
           10,
           28,
           56,
           10,
           41,
           3,
           701,
           4,
           15,
           10,
           10,
           8,
           -55,
           56,
           -3,
           26,
           52,
           22,
           -143,
           9,
           -42,
           19,
           -44,
           123,
           -41,
           30,
           -124,
           41,
           18,
           33,
           27,
           7,
           -92,
           -50,
           -25,
           7,
           41,
           72,
           0,
           -7,
           -5,
           -5,
           -14,
           -86,
           -13,
           0,
           -5,
           25,
           -59,
           27,
           16,
           4,
           -113,
           43,
           17,
           18,
           21,
           -63,
           38,
           14,
           37,
           41,
           -11,
           17,
           43,
           191,
           -52,
           -8,
           -37,
           0,
           -28,
           -12,
           54,
           14,
           44,
           21,
           8,
           -1,
           28,
           12,
           -19,
           35,
           33,
           18,
           -39,
           8,
           33,
           35,
           8,
           38,
           18,
           37,
           267,
           552,
           3,
           14,
           -17,
           -30,
           -2,
           7,
           137,
           22,
           44,
           -26,
           -8,
           16,
           47,
           0,
           0,
           -147,
           -17,
           -3,
           203,
           -14,
           276,
           52,
           14,
           -36,
           138,
           -2,
           -270,
           44,
           160,
           -175,
           11,
           -3,
           38,
           0,
           25,
           -22,
           -4,
           115,
           31,
           137,
           12,
           -83,
           55,
           13,
           183,
           28,
           3,
           0,
           -10,
           -128,
           11,
           -10,
           2,
           14,
           90,
           97,
           -10,
           113,
           -25,
           -114,
           261,
           12,
           240,
           2,
           -15,
           253,
           89,
           154,
           0,
           6,
           -66,
           11,
           4,
           202,
           207,
           6,
           352,
           3,
           -153,
           62,
           -443,
           421,
           -2,
           -6
          ],
          "coloraxis": "coloraxis",
          "symbol": "circle"
         },
         "mode": "markers",
         "name": "",
         "showlegend": false,
         "type": "scattergl",
         "x": [
          1096,
          1625,
          523,
          44,
          243,
          68,
          5729,
          671,
          443,
          57,
          227,
          213,
          94,
          1250,
          1218,
          2927,
          39,
          54,
          294,
          110,
          200,
          45,
          954,
          1716,
          2847,
          852,
          148,
          81,
          49,
          33,
          492,
          2617,
          561,
          424,
          168,
          119,
          2244,
          37,
          36,
          26,
          1351,
          2115,
          275,
          44,
          117,
          116,
          168,
          887,
          387,
          17,
          357,
          51,
          14,
          50,
          1061,
          37,
          263,
          36,
          135,
          336,
          90,
          62,
          57,
          237,
          300,
          53,
          103,
          10,
          231,
          97,
          32,
          47,
          42,
          186,
          17,
          22,
          2125,
          83,
          3873,
          253,
          226,
          484,
          729,
          465,
          204,
          29,
          643,
          2188,
          418,
          102,
          263,
          328,
          40,
          6,
          74,
          312,
          44,
          396,
          110,
          97,
          9,
          7,
          1854,
          623,
          44,
          17,
          6,
          2093,
          39,
          199,
          26,
          30,
          128,
          95,
          199,
          579,
          7,
          12,
          15,
          1622,
          259,
          685,
          125,
          33,
          850,
          1622,
          644,
          136,
          261,
          190,
          133,
          158,
          54,
          13,
          373,
          82,
          757,
          274,
          132,
          8,
          50,
          149,
          13,
          1954,
          93,
          71,
          54,
          41,
          1063,
          1543,
          1506,
          933,
          109,
          724,
          1829,
          381,
          332,
          9,
          72,
          19,
          41,
          93,
          262,
          319,
          30,
          1461,
          401,
          163,
          1104,
          391,
          1824,
          16,
          127,
          105,
          146,
          10,
          1745,
          498,
          315,
          79,
          128,
          114,
          652,
          17,
          663,
          671,
          185,
          97,
          39,
          19,
          14,
          10,
          216,
          25,
          53,
          616,
          13,
          1630,
          413,
          31,
          148,
          89,
          976,
          12,
          362,
          12,
          76,
          26,
          16,
          1709,
          134,
          47,
          257,
          80,
          26,
          37,
          593,
          321,
          12,
          13,
          188,
          90,
          1361,
          1622,
          108,
          323,
          168,
          12,
          1547,
          48,
          137,
          149,
          26,
          1657,
          162,
          150,
          1603,
          1549,
          1183,
          1499,
          68,
          122,
          1120,
          29,
          307,
          92,
          45,
          26,
          15,
          21,
          64,
          49,
          1487,
          132,
          86,
          40,
          1118,
          170,
          62,
          11,
          340,
          15,
          1364,
          476,
          257,
          856,
          1337,
          490,
          382,
          216,
          85,
          80,
          669,
          184,
          600,
          676,
          15,
          210,
          140,
          322,
          1316,
          98,
          27,
          1314,
          17,
          17,
          119,
          229,
          17,
          1308,
          216,
          154,
          1076,
          59,
          117,
          61,
          69,
          1301,
          1300,
          115,
          114,
          73,
          67,
          322,
          4,
          11,
          344,
          41,
          516,
          1030,
          1298,
          304,
          1055,
          771,
          322,
          17,
          46,
          211,
          165,
          34,
          98,
          106,
          53,
          14,
          17,
          3151,
          147,
          1157,
          209,
          965,
          27,
          206,
          109,
          508,
          642,
          14,
          116,
          42,
          22,
          934,
          929,
          18,
          916,
          93,
          24,
          485,
          45,
          148,
          52,
          117,
          513,
          76,
          632,
          32,
          68,
          72,
          82,
          13,
          869,
          24,
          105,
          97,
          45,
          320,
          50,
          112,
          857,
          33,
          171,
          147,
          53,
          499,
          191,
          915,
          828,
          34,
          72,
          1279,
          668,
          427,
          195,
          115,
          168,
          227,
          28,
          1327,
          1250,
          823,
          457,
          7,
          159,
          172,
          44,
          200,
          49,
          16,
          11,
          126,
          102,
          1145,
          18,
          473,
          187,
          83,
          96,
          774,
          78,
          145,
          101,
          148,
          25,
          15,
          24,
          6,
          30,
          406,
          56,
          101,
          61,
          534,
          624,
          651,
          13,
          1389,
          774,
          143,
          111,
          765,
          63,
          60,
          245,
          762,
          25,
          43,
          761,
          735,
          76,
          91,
          33,
          1361,
          8,
          96,
          409,
          46,
          59,
          82,
          497,
          1137,
          1120,
          53,
          618,
          67,
          749,
          71,
          487,
          918,
          744,
          67,
          81,
          188,
          116,
          87,
          44,
          22,
          1218,
          14,
          173,
          147,
          87,
          44,
          352,
          935,
          19,
          25,
          455,
          336,
          37,
          74,
          60,
          204,
          512,
          351,
          238,
          269,
          211,
          245,
          31,
          28,
          925,
          742,
          365,
          111,
          203,
          44,
          50,
          13,
          19,
          17,
          125,
          60,
          741,
          719,
          165,
          46,
          140,
          84,
          19,
          208,
          212,
          199,
          78,
          73,
          42,
          22,
          539,
          1021,
          32,
          288,
          332,
          556,
          40,
          140,
          229,
          63,
          210,
          146,
          59,
          734,
          349,
          94,
          394,
          20,
          877,
          12,
          107,
          116,
          180,
          193,
          38,
          24,
          1355,
          714,
          75,
          17,
          50,
          709,
          191,
          32,
          81,
          21,
          49,
          122,
          693,
          24,
          656,
          74,
          14,
          21,
          681,
          23,
          32,
          132,
          252,
          82,
          429,
          637,
          674,
          342,
          79,
          32,
          1263,
          646,
          223,
          18,
          40,
          24,
          385,
          86,
          643,
          264,
          632,
          239,
          148,
          37,
          78,
          559,
          28,
          610,
          414,
          44,
          173,
          221,
          201,
          4363,
          595,
          151,
          202,
          58,
          40,
          351,
          595,
          192,
          268,
          45,
          594,
          85,
          246,
          27,
          162,
          120,
          93,
          425,
          17,
          585,
          582,
          75,
          54,
          14,
          845,
          10,
          57,
          473,
          829,
          90,
          98,
          197,
          61,
          442,
          550,
          1319,
          1027,
          765,
          757,
          536,
          269,
          137,
          185,
          106,
          511,
          31,
          333,
          62,
          189,
          47,
          286,
          217,
          557,
          44,
          137,
          17,
          545,
          1052,
          544,
          312,
          260,
          22,
          43,
          28,
          846,
          742,
          250,
          89,
          120,
          111,
          102,
          248,
          50,
          40,
          30,
          537,
          222,
          128,
          15,
          27,
          516,
          65,
          207,
          87,
          27,
          7,
          504,
          502,
          89,
          107,
          63,
          734,
          24,
          43,
          33,
          42,
          1275,
          66,
          367,
          7,
          29,
          245,
          223,
          219,
          294,
          82,
          27,
          22,
          2457,
          240,
          31,
          163,
          496,
          711,
          249,
          485,
          249,
          31,
          287,
          190,
          103,
          79,
          42,
          23,
          676,
          43,
          597,
          13,
          55,
          46,
          180,
          311,
          119,
          46,
          40,
          22,
          24,
          269,
          1137,
          152,
          32,
          36,
          28,
          75,
          94,
          52,
          27,
          155,
          24,
          169,
          359,
          93,
          79,
          637,
          263,
          61,
          355,
          83,
          149,
          372,
          223,
          688,
          469,
          97,
          149,
          1272,
          115,
          77,
          450,
          269,
          229,
          122,
          105,
          121,
          54,
          34,
          30,
          659,
          54,
          224,
          736,
          448,
          61,
          47,
          379,
          38,
          2830,
          446,
          366,
          48,
          34,
          34,
          26,
          98,
          33,
          10,
          33,
          424,
          15,
          101,
          47,
          70,
          206,
          213,
          220,
          391,
          33,
          31,
          19,
          202,
          429,
          134,
          74,
          417,
          648,
          147,
          16,
          27,
          327,
          64,
          7,
          27,
          314,
          1228,
          27,
          74,
          180,
          30,
          100,
          130,
          55,
          412,
          207,
          81,
          646,
          143,
          37,
          45,
          149,
          44,
          565,
          253,
          175,
          561,
          161,
          230,
          50,
          32,
          503,
          99,
          143,
          56,
          74,
          398,
          79,
          39,
          571,
          4141,
          388,
          561,
          138,
          90,
          55,
          61,
          75,
          122,
          179,
          34,
          133,
          114,
          42,
          40,
          143,
          32,
          487,
          325,
          79,
          166,
          169,
          284,
          38,
          382,
          520,
          291,
          369,
          510,
          382,
          381,
          53,
          149,
          76,
          88,
          342,
          40,
          436,
          346,
          199,
          89,
          1270,
          35,
          219,
          45,
          121,
          97,
          25,
          27,
          59,
          139,
          333,
          233,
          228,
          327,
          57,
          18,
          45,
          214,
          50,
          255,
          482,
          451,
          264,
          45,
          88,
          140,
          103,
          311,
          11,
          444,
          83,
          258,
          785,
          434,
          299,
          88,
          299,
          375,
          110,
          287,
          298,
          262,
          246,
          94,
          296,
          132,
          44,
          670,
          37,
          122,
          290,
          29,
          1514,
          291,
          11,
          50,
          89,
          92,
          221,
          42,
          330,
          338,
          44,
          10,
          285,
          195,
          277,
          273,
          86,
          133,
          183,
          40,
          382,
          23,
          41,
          52,
          130,
          30,
          406,
          278,
          32,
          221,
          10,
          106,
          65,
          43,
          43,
          534,
          68,
          14,
          41,
          32,
          155,
          867,
          54,
          62,
          48,
          245,
          42,
          43,
          68,
          107,
          30,
          781,
          1076,
          43,
          30,
          23,
          259,
          44,
          129,
          7,
          257,
          10,
          48,
          74,
          689,
          255,
          25,
          44,
          216,
          56,
          62,
          128,
          50,
          45,
          205,
          70,
          47,
          246,
          156,
          88,
          139,
          88,
          138,
          139,
          559,
          245,
          376,
          302,
          179,
          27,
          45,
          25,
          60,
          30,
          584,
          767,
          244,
          244,
          49,
          20,
          34,
          21,
          47,
          32,
          197,
          108,
          44,
          241,
          47,
          299,
          74,
          48,
          29,
          9,
          66,
          59,
          29,
          1117,
          53,
          154,
          352,
          341,
          154,
          65,
          47,
          62,
          77,
          27,
          107,
          620,
          224,
          248,
          437,
          85,
          209,
          55,
          58,
          145,
          224,
          19,
          7,
          324,
          227,
          598,
          223,
          215,
          93,
          109,
          152,
          26,
          51,
          129,
          222,
          352,
          770,
          57,
          219,
          91,
          133,
          60,
          450,
          103,
          319,
          43,
          45,
          143,
          145,
          34,
          59,
          97,
          635,
          55,
          176,
          85,
          527,
          29,
          18,
          284,
          82,
          57,
          560,
          12,
          276,
          71,
          80,
          141,
          113,
          209,
          50,
          57,
          276,
          268,
          79,
          154,
          1700,
          802,
          60,
          257,
          63,
          40,
          24,
          18,
          1402,
          206,
          174,
          34,
          21,
          24,
          25,
          9,
          61,
          326,
          59,
          103,
          104,
          2103,
          196,
          189,
          73,
          187,
          248,
          67,
          179,
          176,
          176,
          68,
          231,
          48,
          16,
          2292,
          71,
          29,
          158,
          59,
          65,
          157,
          168,
          47,
          224,
          141,
          8,
          162,
          147,
          27,
          148,
          146,
          891,
          189,
          48,
          44,
          524,
          79,
          30,
          185,
          122,
          62,
          161,
          81,
          70,
          955,
          36,
          206,
          199,
          57,
          22,
          200,
          152,
          152,
          149,
          105,
          158,
          53,
          45,
          122,
          21,
          83,
          193,
          149,
          29,
          191,
          26,
          349,
          765,
          119,
          86,
          193,
          70,
          72,
          148,
          1069,
          148,
          80,
          66,
          1275,
          8,
          86,
          146,
          140,
          115,
          911,
          139,
          33,
          41,
          134,
          133,
          95,
          131,
          29,
          299,
          124,
          182,
          154,
          816,
          880,
          121,
          38,
          113,
          833,
          171,
          100,
          171,
          100,
          115,
          31,
          11,
          22,
          105,
          360,
          25,
          95,
          633,
          23,
          13,
          16,
          38,
          83,
          871,
          105,
          102,
          42,
          159,
          90,
          61,
          158,
          156,
          321,
          108,
          100,
          100,
          27,
          22,
          17,
          151,
          140,
          24,
          112,
          110,
          1599,
          28,
          636,
          977,
          114,
          119,
          31,
          117,
          33,
          25,
          26,
          30,
          21,
          61,
          59,
          119,
          148,
          118,
          462,
          89,
          89,
          59,
          140,
          474,
          33,
          121,
          80,
          2061,
          87,
          122,
          25,
          87,
          53,
          86,
          155,
          245,
          433,
          148,
          125,
          460,
          86,
          84,
          170,
          71,
          336,
          137,
          139,
          79,
          136,
          61,
          469,
          78,
          78,
          76,
          76,
          74,
          146,
          141,
          148,
          58,
          144,
          26,
          23,
          71,
          67,
          313,
          30,
          16,
          118,
          160,
          64,
          45,
          36,
          166,
          167,
          123,
          168,
          156,
          158,
          169,
          171,
          108,
          177,
          31,
          171,
          720,
          2452,
          58,
          58,
          40,
          7,
          57,
          98,
          494,
          97,
          93,
          57,
          193,
          85,
          100,
          55,
          220,
          290,
          207,
          55,
          55,
          54,
          193,
          109,
          199,
          101,
          52,
          207,
          835,
          2366,
          9,
          51,
          50,
          264,
          45,
          51,
          529,
          80,
          313,
          80,
          48,
          87,
          259,
          75,
          75,
          306,
          424,
          31,
          941,
          46,
          1103,
          126,
          282,
          73,
          294,
          20,
          305,
          341,
          341,
          1063,
          62,
          42,
          345,
          46,
          61,
          335,
          355,
          371,
          460,
          416,
          34,
          389,
          128,
          34,
          425,
          141,
          32,
          534,
          31,
          490,
          30,
          29,
          29,
          35,
          353,
          212,
          28,
          637,
          27,
          632,
          637,
          26,
          662,
          24,
          27,
          724,
          743,
          811,
          832,
          20,
          610,
          22,
          21,
          911,
          465,
          16,
          1101,
          13,
          1629,
          1246,
          1582,
          1560,
          8,
          8
         ],
         "xaxis": "x",
         "y": [
          658,
          -77,
          204,
          -3,
          -14,
          -27,
          64,
          114,
          11,
          7,
          48,
          4,
          27,
          -12,
          -420,
          146,
          2,
          14,
          62,
          20,
          13,
          8,
          95,
          309,
          712,
          51,
          25,
          -41,
          5,
          -1,
          187,
          1151,
          212,
          -272,
          -111,
          -5,
          247,
          3,
          7,
          9,
          111,
          23,
          -275,
          99,
          -6,
          -4,
          -9,
          80,
          -213,
          6,
          139,
          21,
          -1,
          -44,
          -36,
          -23,
          -63,
          -7,
          -54,
          71,
          29,
          1,
          27,
          47,
          42,
          24,
          46,
          2,
          -190,
          -45,
          -5,
          -27,
          -23,
          241,
          -3,
          -15,
          -234,
          6,
          -891,
          -11,
          58,
          28,
          -492,
          -33,
          276,
          -24,
          -45,
          1050,
          70,
          -90,
          -31,
          -15,
          0,
          -3,
          -123,
          -312,
          -26,
          -31,
          -68,
          -62,
          -6,
          -4,
          433,
          -192,
          -34,
          -11,
          1,
          721,
          16,
          48,
          11,
          14,
          4,
          11,
          6,
          139,
          -1,
          -2,
          -7,
          -624,
          47,
          7,
          15,
          1,
          -289,
          95,
          167,
          -33,
          13,
          19,
          5,
          -29,
          27,
          4,
          254,
          -33,
          371,
          -7,
          54,
          2,
          -10,
          17,
          0,
          782,
          15,
          0,
          1,
          11,
          64,
          370,
          -266,
          166,
          -6,
          -447,
          -56,
          -13,
          503,
          -1,
          -46,
          0,
          -14,
          -65,
          215,
          312,
          -23,
          202,
          13,
          81,
          209,
          113,
          1303,
          -15,
          29,
          -26,
          42,
          -2,
          122,
          -116,
          -8,
          16,
          47,
          41,
          13,
          2,
          -212,
          -309,
          -26,
          12,
          -18,
          8,
          5,
          -1,
          -38,
          0,
          -18,
          -69,
          -8,
          802,
          -314,
          1,
          -101,
          -4,
          293,
          0,
          127,
          -7,
          -54,
          -24,
          -12,
          564,
          -34,
          -3,
          -3,
          -19,
          4,
          -53,
          213,
          315,
          3,
          5,
          13,
          30,
          980,
          -448,
          22,
          122,
          56,
          2,
          340,
          20,
          38,
          15,
          7,
          460,
          20,
          32,
          0,
          -439,
          106,
          239,
          -62,
          -47,
          199,
          8,
          74,
          42,
          6,
          10,
          -2,
          -10,
          6,
          -31,
          624,
          -10,
          22,
          17,
          206,
          73,
          -1,
          -5,
          20,
          4,
          1864,
          0,
          23,
          385,
          147,
          88,
          119,
          50,
          24,
          22,
          74,
          85,
          -102,
          195,
          2,
          62,
          68,
          -193,
          527,
          -5,
          4,
          342,
          7,
          2,
          -24,
          59,
          -12,
          536,
          -135,
          -85,
          -38,
          -46,
          17,
          -25,
          -67,
          573,
          -16,
          -39,
          8,
          -7,
          -42,
          193,
          -3,
          -2,
          -34,
          6,
          69,
          206,
          65,
          97,
          264,
          -424,
          -113,
          -13,
          14,
          19,
          30,
          -11,
          9,
          15,
          15,
          5,
          7,
          -35,
          73,
          -13,
          2,
          -68,
          8,
          12,
          52,
          203,
          180,
          -2,
          -56,
          12,
          -2,
          -916,
          -93,
          3,
          192,
          -1,
          1,
          199,
          1,
          24,
          18,
          36,
          215,
          -72,
          316,
          -16,
          -30,
          -49,
          -39,
          -13,
          67,
          1,
          -33,
          17,
          12,
          144,
          16,
          24,
          -274,
          13,
          2,
          73,
          5,
          33,
          93,
          -99,
          230,
          10,
          16,
          -640,
          -31,
          -50,
          -117,
          25,
          -10,
          102,
          -3,
          318,
          486,
          -18,
          -41,
          0,
          4,
          -103,
          -8,
          -60,
          3,
          -10,
          -4,
          -63,
          0,
          -706,
          8,
          42,
          30,
          -81,
          22,
          170,
          -28,
          0,
          16,
          23,
          7,
          1,
          -1,
          3,
          -5,
          126,
          18,
          18,
          -23,
          0,
          37,
          169,
          -1,
          680,
          170,
          32,
          35,
          -36,
          14,
          3,
          10,
          101,
          2,
          17,
          266,
          -235,
          27,
          15,
          -27,
          197,
          -2,
          -48,
          86,
          14,
          15,
          8,
          179,
          -14,
          199,
          2,
          27,
          2,
          -307,
          4,
          -23,
          22,
          119,
          20,
          41,
          -193,
          22,
          36,
          2,
          -8,
          352,
          0,
          69,
          48,
          -32,
          14,
          18,
          114,
          8,
          11,
          77,
          57,
          17,
          33,
          -10,
          -94,
          -225,
          -47,
          20,
          111,
          -105,
          -78,
          -2,
          -26,
          -447,
          198,
          107,
          9,
          84,
          -40,
          -17,
          -2,
          -2,
          0,
          0,
          21,
          267,
          303,
          46,
          0,
          15,
          41,
          -1,
          -25,
          -24,
          -18,
          -6,
          -31,
          -15,
          -12,
          -146,
          -48,
          -22,
          -180,
          -43,
          -209,
          -12,
          -58,
          -41,
          -17,
          -50,
          -63,
          21,
          248,
          0,
          27,
          146,
          -9,
          395,
          1,
          36,
          16,
          5,
          -166,
          18,
          -30,
          -60,
          56,
          -25,
          -9,
          -15,
          -100,
          13,
          -8,
          -51,
          -12,
          21,
          59,
          254,
          1,
          -36,
          29,
          2,
          10,
          259,
          8,
          2,
          49,
          56,
          24,
          17,
          212,
          -187,
          -103,
          36,
          6,
          -56,
          -213,
          4,
          2,
          15,
          -2,
          -77,
          -21,
          225,
          71,
          -316,
          -162,
          0,
          -6,
          -64,
          -19,
          1,
          208,
          199,
          8,
          86,
          26,
          32,
          305,
          119,
          29,
          89,
          17,
          13,
          -94,
          292,
          -146,
          -25,
          0,
          89,
          2,
          61,
          6,
          55,
          1,
          31,
          208,
          1,
          175,
          262,
          29,
          12,
          7,
          84,
          4,
          7,
          -113,
          19,
          17,
          12,
          73,
          30,
          31,
          -242,
          567,
          441,
          8,
          371,
          91,
          91,
          5,
          48,
          12,
          194,
          2,
          50,
          6,
          4,
          1,
          140,
          72,
          -111,
          20,
          63,
          8,
          -73,
          -82,
          -152,
          62,
          68,
          9,
          17,
          6,
          9,
          198,
          100,
          29,
          23,
          11,
          13,
          105,
          14,
          18,
          5,
          107,
          35,
          -3,
          2,
          9,
          392,
          -16,
          153,
          -83,
          -6,
          -2,
          116,
          84,
          17,
          37,
          1,
          213,
          11,
          5,
          10,
          12,
          357,
          12,
          73,
          1,
          11,
          30,
          27,
          0,
          109,
          13,
          5,
          8,
          665,
          12,
          14,
          26,
          -79,
          -8,
          -130,
          29,
          -5,
          -11,
          -66,
          68,
          36,
          -2,
          7,
          4,
          151,
          -10,
          93,
          3,
          4,
          0,
          0,
          40,
          56,
          13,
          10,
          11,
          8,
          33,
          568,
          50,
          11,
          0,
          14,
          28,
          20,
          11,
          2,
          26,
          11,
          0,
          -338,
          -84,
          33,
          50,
          50,
          11,
          -114,
          12,
          15,
          59,
          62,
          -103,
          -459,
          17,
          136,
          547,
          0,
          36,
          -90,
          -86,
          -23,
          -21,
          46,
          -17,
          -3,
          12,
          -35,
          -37,
          8,
          87,
          346,
          148,
          -50,
          -3,
          63,
          -13,
          -1981,
          53,
          84,
          16,
          -10,
          -12,
          3,
          -45,
          -29,
          -8,
          -12,
          161,
          6,
          11,
          20,
          24,
          18,
          -145,
          40,
          90,
          9,
          9,
          -18,
          4,
          61,
          -13,
          9,
          49,
          50,
          21,
          8,
          -25,
          -39,
          -7,
          -3,
          12,
          -41,
          14,
          1,
          29,
          54,
          13,
          -23,
          -41,
          -26,
          412,
          -100,
          -44,
          -23,
          -124,
          -5,
          -2,
          -1,
          -17,
          66,
          -63,
          77,
          118,
          -229,
          5,
          -4,
          -12,
          -56,
          -5,
          -124,
          0,
          -51,
          111,
          39,
          14,
          108,
          1698,
          93,
          212,
          -3,
          17,
          -33,
          3,
          2,
          38,
          0,
          -22,
          12,
          -39,
          -26,
          -7,
          -129,
          6,
          143,
          32,
          32,
          27,
          55,
          44,
          9,
          92,
          151,
          119,
          15,
          234,
          68,
          144,
          -2,
          48,
          19,
          16,
          -154,
          16,
          131,
          108,
          0,
          6,
          546,
          -8,
          -9,
          13,
          41,
          36,
          2,
          4,
          24,
          14,
          -15,
          -10,
          63,
          114,
          -48,
          6,
          0,
          30,
          7,
          74,
          -6,
          25,
          -26,
          9,
          11,
          56,
          46,
          72,
          5,
          -200,
          -48,
          -27,
          52,
          26,
          0,
          11,
          113,
          180,
          35,
          -280,
          74,
          64,
          61,
          7,
          225,
          -79,
          -8,
          15,
          17,
          11,
          110,
          9,
          742,
          93,
          5,
          25,
          36,
          5,
          35,
          15,
          81,
          41,
          14,
          5,
          128,
          12,
          3,
          -87,
          0,
          -42,
          -66,
          16,
          30,
          2,
          19,
          14,
          61,
          6,
          97,
          39,
          7,
          -15,
          -8,
          0,
          -4,
          -5,
          21,
          5,
          -56,
          -3,
          19,
          1,
          5,
          251,
          12,
          8,
          2,
          91,
          13,
          0,
          -55,
          -54,
          -5,
          594,
          -38,
          -43,
          -10,
          -6,
          -55,
          -32,
          -75,
          -3,
          3,
          2,
          6,
          29,
          90,
          76,
          2,
          14,
          -83,
          18,
          6,
          4,
          3,
          -15,
          -119,
          -64,
          -27,
          98,
          23,
          19,
          21,
          20,
          11,
          36,
          -174,
          -78,
          0,
          75,
          77,
          5,
          -28,
          -1,
          -49,
          -25,
          -444,
          -353,
          -122,
          83,
          -31,
          -22,
          -13,
          -5,
          -20,
          8,
          20,
          26,
          11,
          -77,
          15,
          -28,
          -59,
          -22,
          -3,
          -9,
          22,
          21,
          0,
          447,
          24,
          54,
          -345,
          -85,
          22,
          -52,
          -114,
          -56,
          -43,
          -20,
          31,
          82,
          -143,
          -70,
          -14,
          -9,
          -21,
          -33,
          -42,
          -104,
          -81,
          -15,
          -1,
          39,
          59,
          166,
          62,
          -30,
          -65,
          40,
          -3,
          -17,
          -49,
          11,
          74,
          74,
          323,
          6,
          4,
          22,
          46,
          13,
          -190,
          21,
          102,
          8,
          17,
          6,
          16,
          3,
          -30,
          29,
          -349,
          3,
          -13,
          13,
          26,
          3,
          2,
          45,
          -27,
          27,
          44,
          1,
          52,
          19,
          22,
          7,
          28,
          -63,
          -28,
          27,
          -21,
          6,
          6,
          26,
          85,
          120,
          -12,
          -252,
          -24,
          -33,
          -1,
          1,
          109,
          -206,
          -70,
          -6,
          -13,
          -21,
          -2,
          -6,
          8,
          107,
          6,
          50,
          2,
          322,
          -7,
          87,
          -25,
          -15,
          8,
          9,
          -25,
          -28,
          37,
          20,
          99,
          15,
          6,
          127,
          32,
          10,
          69,
          10,
          17,
          5,
          -51,
          -21,
          58,
          10,
          -1,
          73,
          44,
          0,
          9,
          66,
          0,
          60,
          11,
          10,
          -25,
          5,
          12,
          48,
          50,
          28,
          40,
          19,
          26,
          305,
          15,
          51,
          -1,
          24,
          4,
          7,
          23,
          50,
          -87,
          20,
          69,
          1,
          12,
          -66,
          -6,
          34,
          46,
          -40,
          -18,
          51,
          0,
          -24,
          -153,
          43,
          22,
          -275,
          -14,
          -6,
          -91,
          0,
          59,
          -56,
          -12,
          1148,
          -2,
          8,
          19,
          6,
          25,
          355,
          14,
          -12,
          -6,
          42,
          -56,
          5,
          -154,
          10,
          -8,
          54,
          -11,
          39,
          -96,
          97,
          19,
          9,
          24,
          93,
          68,
          7,
          -140,
          12,
          47,
          -7,
          -8,
          -6,
          25,
          32,
          -7,
          5,
          -633,
          -3,
          -9,
          5,
          -6,
          12,
          131,
          33,
          11,
          -6,
          2,
          27,
          28,
          38,
          36,
          26,
          -19,
          -58,
          6,
          9,
          8,
          5,
          9,
          57,
          11,
          15,
          12,
          37,
          4,
          -204,
          -244,
          11,
          -43,
          10,
          14,
          -10,
          -11,
          2,
          -6,
          -17,
          1,
          25,
          1,
          54,
          35,
          169,
          -89,
          -37,
          10,
          28,
          56,
          10,
          41,
          3,
          701,
          4,
          15,
          10,
          10,
          8,
          -55,
          56,
          -3,
          26,
          52,
          22,
          -143,
          9,
          -42,
          19,
          -44,
          123,
          -41,
          30,
          -124,
          41,
          18,
          33,
          27,
          7,
          -92,
          -50,
          -25,
          7,
          41,
          72,
          0,
          -7,
          -5,
          -5,
          -14,
          -86,
          -13,
          0,
          -5,
          25,
          -59,
          27,
          16,
          4,
          -113,
          43,
          17,
          18,
          21,
          -63,
          38,
          14,
          37,
          41,
          -11,
          17,
          43,
          191,
          -52,
          -8,
          -37,
          0,
          -28,
          -12,
          54,
          14,
          44,
          21,
          8,
          -1,
          28,
          12,
          -19,
          35,
          33,
          18,
          -39,
          8,
          33,
          35,
          8,
          38,
          18,
          37,
          267,
          552,
          3,
          14,
          -17,
          -30,
          -2,
          7,
          137,
          22,
          44,
          -26,
          -8,
          16,
          47,
          0,
          0,
          -147,
          -17,
          -3,
          203,
          -14,
          276,
          52,
          14,
          -36,
          138,
          -2,
          -270,
          44,
          160,
          -175,
          11,
          -3,
          38,
          0,
          25,
          -22,
          -4,
          115,
          31,
          137,
          12,
          -83,
          55,
          13,
          183,
          28,
          3,
          0,
          -10,
          -128,
          11,
          -10,
          2,
          14,
          90,
          97,
          -10,
          113,
          -25,
          -114,
          261,
          12,
          240,
          2,
          -15,
          253,
          89,
          154,
          0,
          6,
          -66,
          11,
          4,
          202,
          207,
          6,
          352,
          3,
          -153,
          62,
          -443,
          421,
          -2,
          -6
         ],
         "yaxis": "y"
        },
        {
         "hovertemplate": "<b>OLS trendline</b><br>Profit = 0.112844 * Amount + -8.29127<br>R<sup>2</sup>=0.095631<br><br>Amount=%{x}<br>Profit=%{y} <b>(trend)</b><extra></extra>",
         "legendgroup": "",
         "marker": {
          "symbol": "circle"
         },
         "mode": "lines",
         "name": "",
         "showlegend": false,
         "type": "scattergl",
         "x": [
          4,
          6,
          6,
          6,
          7,
          7,
          7,
          7,
          7,
          7,
          7,
          7,
          7,
          8,
          8,
          8,
          8,
          8,
          8,
          9,
          9,
          9,
          9,
          9,
          10,
          10,
          10,
          10,
          10,
          10,
          10,
          10,
          11,
          11,
          11,
          11,
          11,
          11,
          12,
          12,
          12,
          12,
          12,
          12,
          12,
          13,
          13,
          13,
          13,
          13,
          13,
          13,
          13,
          13,
          13,
          14,
          14,
          14,
          14,
          14,
          14,
          14,
          14,
          15,
          15,
          15,
          15,
          15,
          15,
          15,
          16,
          16,
          16,
          16,
          16,
          16,
          16,
          16,
          17,
          17,
          17,
          17,
          17,
          17,
          17,
          17,
          17,
          17,
          17,
          17,
          17,
          17,
          18,
          18,
          18,
          18,
          18,
          18,
          19,
          19,
          19,
          19,
          19,
          19,
          19,
          20,
          20,
          20,
          20,
          21,
          21,
          21,
          21,
          21,
          21,
          21,
          21,
          22,
          22,
          22,
          22,
          22,
          22,
          22,
          22,
          22,
          22,
          22,
          23,
          23,
          23,
          23,
          23,
          23,
          24,
          24,
          24,
          24,
          24,
          24,
          24,
          24,
          24,
          24,
          24,
          24,
          24,
          25,
          25,
          25,
          25,
          25,
          25,
          25,
          25,
          25,
          25,
          25,
          26,
          26,
          26,
          26,
          26,
          26,
          26,
          26,
          26,
          26,
          26,
          26,
          27,
          27,
          27,
          27,
          27,
          27,
          27,
          27,
          27,
          27,
          27,
          27,
          27,
          27,
          27,
          27,
          27,
          28,
          28,
          28,
          28,
          28,
          28,
          28,
          29,
          29,
          29,
          29,
          29,
          29,
          29,
          29,
          29,
          29,
          29,
          29,
          30,
          30,
          30,
          30,
          30,
          30,
          30,
          30,
          30,
          30,
          30,
          30,
          30,
          30,
          31,
          31,
          31,
          31,
          31,
          31,
          31,
          31,
          31,
          31,
          31,
          32,
          32,
          32,
          32,
          32,
          32,
          32,
          32,
          32,
          32,
          32,
          32,
          32,
          33,
          33,
          33,
          33,
          33,
          33,
          33,
          33,
          33,
          33,
          33,
          34,
          34,
          34,
          34,
          34,
          34,
          34,
          34,
          34,
          34,
          34,
          35,
          35,
          36,
          36,
          36,
          36,
          36,
          37,
          37,
          37,
          37,
          37,
          37,
          37,
          38,
          38,
          38,
          38,
          38,
          39,
          39,
          39,
          39,
          40,
          40,
          40,
          40,
          40,
          40,
          40,
          40,
          40,
          40,
          40,
          40,
          41,
          41,
          41,
          41,
          41,
          41,
          42,
          42,
          42,
          42,
          42,
          42,
          42,
          42,
          42,
          42,
          43,
          43,
          43,
          43,
          43,
          43,
          43,
          43,
          43,
          44,
          44,
          44,
          44,
          44,
          44,
          44,
          44,
          44,
          44,
          44,
          44,
          44,
          44,
          44,
          44,
          44,
          45,
          45,
          45,
          45,
          45,
          45,
          45,
          45,
          45,
          45,
          45,
          45,
          45,
          45,
          45,
          46,
          46,
          46,
          46,
          46,
          46,
          46,
          47,
          47,
          47,
          47,
          47,
          47,
          47,
          47,
          47,
          47,
          48,
          48,
          48,
          48,
          48,
          48,
          48,
          48,
          49,
          49,
          49,
          49,
          49,
          50,
          50,
          50,
          50,
          50,
          50,
          50,
          50,
          50,
          50,
          50,
          50,
          51,
          51,
          51,
          51,
          52,
          52,
          52,
          52,
          53,
          53,
          53,
          53,
          53,
          53,
          53,
          53,
          53,
          54,
          54,
          54,
          54,
          54,
          54,
          54,
          54,
          55,
          55,
          55,
          55,
          55,
          55,
          55,
          55,
          56,
          56,
          56,
          57,
          57,
          57,
          57,
          57,
          57,
          57,
          57,
          57,
          57,
          58,
          58,
          58,
          58,
          58,
          59,
          59,
          59,
          59,
          59,
          59,
          59,
          59,
          59,
          59,
          60,
          60,
          60,
          60,
          60,
          60,
          61,
          61,
          61,
          61,
          61,
          61,
          61,
          61,
          61,
          61,
          61,
          62,
          62,
          62,
          62,
          62,
          62,
          62,
          62,
          63,
          63,
          63,
          63,
          64,
          64,
          64,
          65,
          65,
          65,
          65,
          66,
          66,
          66,
          67,
          67,
          67,
          67,
          67,
          68,
          68,
          68,
          68,
          68,
          68,
          69,
          70,
          70,
          70,
          70,
          71,
          71,
          71,
          71,
          71,
          71,
          72,
          72,
          72,
          72,
          73,
          73,
          73,
          73,
          74,
          74,
          74,
          74,
          74,
          74,
          74,
          74,
          74,
          75,
          75,
          75,
          75,
          75,
          75,
          76,
          76,
          76,
          76,
          76,
          76,
          77,
          77,
          78,
          78,
          78,
          78,
          78,
          79,
          79,
          79,
          79,
          79,
          79,
          79,
          79,
          79,
          80,
          80,
          80,
          80,
          80,
          80,
          80,
          81,
          81,
          81,
          81,
          81,
          82,
          82,
          82,
          82,
          82,
          82,
          83,
          83,
          83,
          83,
          83,
          83,
          84,
          84,
          85,
          85,
          85,
          85,
          85,
          86,
          86,
          86,
          86,
          86,
          86,
          86,
          87,
          87,
          87,
          87,
          87,
          87,
          88,
          88,
          88,
          88,
          88,
          89,
          89,
          89,
          89,
          89,
          89,
          89,
          90,
          90,
          90,
          90,
          90,
          91,
          91,
          92,
          92,
          93,
          93,
          93,
          93,
          93,
          93,
          93,
          94,
          94,
          94,
          94,
          95,
          95,
          95,
          96,
          96,
          97,
          97,
          97,
          97,
          97,
          97,
          97,
          97,
          98,
          98,
          98,
          98,
          98,
          99,
          100,
          100,
          100,
          100,
          100,
          100,
          101,
          101,
          101,
          101,
          102,
          102,
          102,
          102,
          103,
          103,
          103,
          103,
          103,
          104,
          105,
          105,
          105,
          105,
          105,
          105,
          106,
          106,
          106,
          107,
          107,
          107,
          107,
          108,
          108,
          108,
          108,
          109,
          109,
          109,
          109,
          110,
          110,
          110,
          110,
          111,
          111,
          111,
          112,
          112,
          113,
          113,
          114,
          114,
          114,
          114,
          115,
          115,
          115,
          115,
          115,
          116,
          116,
          116,
          116,
          117,
          117,
          117,
          117,
          118,
          118,
          119,
          119,
          119,
          119,
          119,
          119,
          120,
          120,
          121,
          121,
          121,
          121,
          122,
          122,
          122,
          122,
          122,
          122,
          122,
          122,
          123,
          124,
          125,
          125,
          125,
          126,
          126,
          127,
          128,
          128,
          128,
          128,
          128,
          129,
          129,
          130,
          130,
          131,
          132,
          132,
          132,
          132,
          133,
          133,
          133,
          133,
          133,
          134,
          134,
          134,
          135,
          136,
          136,
          137,
          137,
          137,
          137,
          138,
          138,
          139,
          139,
          139,
          139,
          139,
          140,
          140,
          140,
          140,
          140,
          140,
          140,
          141,
          141,
          141,
          141,
          143,
          143,
          143,
          143,
          143,
          144,
          145,
          145,
          145,
          146,
          146,
          146,
          146,
          146,
          147,
          147,
          147,
          147,
          147,
          148,
          148,
          148,
          148,
          148,
          148,
          148,
          148,
          148,
          148,
          148,
          149,
          149,
          149,
          149,
          149,
          149,
          149,
          149,
          150,
          151,
          151,
          152,
          152,
          152,
          152,
          154,
          154,
          154,
          154,
          154,
          155,
          155,
          155,
          156,
          156,
          156,
          157,
          158,
          158,
          158,
          158,
          158,
          159,
          159,
          160,
          161,
          161,
          162,
          162,
          162,
          163,
          163,
          165,
          165,
          166,
          166,
          167,
          168,
          168,
          168,
          168,
          168,
          168,
          169,
          169,
          169,
          170,
          170,
          171,
          171,
          171,
          171,
          171,
          172,
          173,
          173,
          174,
          175,
          176,
          176,
          176,
          177,
          179,
          179,
          179,
          180,
          180,
          180,
          182,
          183,
          184,
          185,
          185,
          185,
          186,
          187,
          187,
          188,
          188,
          189,
          189,
          189,
          190,
          190,
          191,
          191,
          191,
          192,
          193,
          193,
          193,
          193,
          193,
          195,
          195,
          196,
          197,
          197,
          199,
          199,
          199,
          199,
          199,
          199,
          200,
          200,
          200,
          201,
          202,
          202,
          203,
          204,
          204,
          205,
          206,
          206,
          206,
          206,
          207,
          207,
          207,
          207,
          208,
          209,
          209,
          209,
          210,
          210,
          211,
          211,
          212,
          212,
          213,
          213,
          214,
          215,
          216,
          216,
          216,
          216,
          217,
          219,
          219,
          219,
          220,
          220,
          221,
          221,
          221,
          222,
          222,
          223,
          223,
          223,
          223,
          224,
          224,
          224,
          224,
          226,
          227,
          227,
          227,
          228,
          229,
          229,
          229,
          230,
          231,
          231,
          233,
          237,
          238,
          239,
          240,
          241,
          243,
          244,
          244,
          245,
          245,
          245,
          245,
          245,
          245,
          246,
          246,
          246,
          248,
          248,
          248,
          249,
          249,
          250,
          252,
          253,
          253,
          255,
          255,
          257,
          257,
          257,
          257,
          258,
          259,
          259,
          259,
          260,
          261,
          262,
          262,
          263,
          263,
          263,
          264,
          264,
          264,
          268,
          268,
          269,
          269,
          269,
          269,
          273,
          274,
          275,
          276,
          276,
          277,
          278,
          282,
          284,
          284,
          285,
          286,
          287,
          287,
          288,
          290,
          290,
          291,
          291,
          294,
          294,
          294,
          296,
          298,
          299,
          299,
          299,
          299,
          300,
          302,
          304,
          305,
          306,
          307,
          311,
          311,
          312,
          312,
          313,
          313,
          314,
          315,
          319,
          319,
          320,
          321,
          321,
          322,
          322,
          322,
          323,
          324,
          325,
          326,
          327,
          327,
          328,
          330,
          332,
          332,
          333,
          333,
          335,
          336,
          336,
          336,
          338,
          340,
          341,
          341,
          341,
          342,
          342,
          344,
          345,
          346,
          349,
          349,
          351,
          351,
          352,
          352,
          352,
          353,
          355,
          355,
          357,
          359,
          360,
          362,
          365,
          366,
          367,
          369,
          371,
          372,
          373,
          375,
          376,
          379,
          381,
          381,
          382,
          382,
          382,
          382,
          385,
          387,
          388,
          389,
          391,
          391,
          394,
          396,
          398,
          401,
          406,
          406,
          409,
          412,
          413,
          414,
          416,
          417,
          418,
          424,
          424,
          424,
          425,
          425,
          427,
          429,
          429,
          433,
          434,
          436,
          437,
          442,
          443,
          444,
          446,
          448,
          450,
          450,
          451,
          455,
          457,
          460,
          460,
          462,
          465,
          465,
          469,
          469,
          473,
          473,
          474,
          476,
          482,
          484,
          485,
          485,
          487,
          487,
          490,
          490,
          492,
          494,
          496,
          497,
          498,
          499,
          502,
          503,
          504,
          508,
          510,
          511,
          512,
          513,
          516,
          516,
          520,
          523,
          524,
          527,
          529,
          534,
          534,
          534,
          536,
          537,
          539,
          544,
          545,
          550,
          556,
          557,
          559,
          559,
          560,
          561,
          561,
          561,
          565,
          571,
          579,
          582,
          584,
          585,
          593,
          594,
          595,
          595,
          597,
          598,
          600,
          610,
          610,
          616,
          618,
          620,
          623,
          624,
          632,
          632,
          632,
          633,
          635,
          636,
          637,
          637,
          637,
          637,
          642,
          643,
          643,
          644,
          646,
          646,
          648,
          651,
          652,
          656,
          659,
          662,
          663,
          668,
          669,
          670,
          671,
          671,
          674,
          676,
          676,
          681,
          685,
          688,
          689,
          693,
          709,
          711,
          714,
          719,
          720,
          724,
          724,
          729,
          734,
          734,
          735,
          736,
          741,
          742,
          742,
          743,
          744,
          749,
          757,
          757,
          761,
          762,
          765,
          765,
          765,
          767,
          770,
          771,
          774,
          774,
          781,
          785,
          802,
          811,
          816,
          823,
          828,
          829,
          832,
          833,
          835,
          845,
          846,
          850,
          852,
          856,
          857,
          867,
          869,
          871,
          877,
          880,
          887,
          891,
          911,
          911,
          915,
          916,
          918,
          925,
          929,
          933,
          934,
          935,
          941,
          954,
          955,
          965,
          976,
          977,
          1021,
          1027,
          1030,
          1052,
          1055,
          1061,
          1063,
          1063,
          1069,
          1076,
          1076,
          1096,
          1101,
          1103,
          1104,
          1117,
          1118,
          1120,
          1120,
          1137,
          1137,
          1145,
          1157,
          1183,
          1218,
          1218,
          1228,
          1246,
          1250,
          1250,
          1263,
          1270,
          1272,
          1275,
          1275,
          1279,
          1298,
          1300,
          1301,
          1308,
          1314,
          1316,
          1319,
          1327,
          1337,
          1351,
          1355,
          1361,
          1361,
          1364,
          1389,
          1402,
          1461,
          1487,
          1499,
          1506,
          1514,
          1543,
          1547,
          1549,
          1560,
          1582,
          1599,
          1603,
          1622,
          1622,
          1622,
          1625,
          1629,
          1630,
          1657,
          1700,
          1709,
          1716,
          1745,
          1824,
          1829,
          1854,
          1954,
          2061,
          2093,
          2103,
          2115,
          2125,
          2188,
          2244,
          2292,
          2366,
          2452,
          2457,
          2617,
          2830,
          2847,
          2927,
          3151,
          3873,
          4141,
          4363,
          5729
         ],
         "xaxis": "x",
         "y": [
          -7.839895304828652,
          -7.614206951709786,
          -7.614206951709786,
          -7.614206951709786,
          -7.501362775150353,
          -7.501362775150353,
          -7.501362775150353,
          -7.501362775150353,
          -7.501362775150353,
          -7.501362775150353,
          -7.501362775150353,
          -7.501362775150353,
          -7.501362775150353,
          -7.388518598590919,
          -7.388518598590919,
          -7.388518598590919,
          -7.388518598590919,
          -7.388518598590919,
          -7.388518598590919,
          -7.275674422031487,
          -7.275674422031487,
          -7.275674422031487,
          -7.275674422031487,
          -7.275674422031487,
          -7.162830245472053,
          -7.162830245472053,
          -7.162830245472053,
          -7.162830245472053,
          -7.162830245472053,
          -7.162830245472053,
          -7.162830245472053,
          -7.162830245472053,
          -7.04998606891262,
          -7.04998606891262,
          -7.04998606891262,
          -7.04998606891262,
          -7.04998606891262,
          -7.04998606891262,
          -6.937141892353187,
          -6.937141892353187,
          -6.937141892353187,
          -6.937141892353187,
          -6.937141892353187,
          -6.937141892353187,
          -6.937141892353187,
          -6.8242977157937545,
          -6.8242977157937545,
          -6.8242977157937545,
          -6.8242977157937545,
          -6.8242977157937545,
          -6.8242977157937545,
          -6.8242977157937545,
          -6.8242977157937545,
          -6.8242977157937545,
          -6.8242977157937545,
          -6.711453539234321,
          -6.711453539234321,
          -6.711453539234321,
          -6.711453539234321,
          -6.711453539234321,
          -6.711453539234321,
          -6.711453539234321,
          -6.711453539234321,
          -6.598609362674888,
          -6.598609362674888,
          -6.598609362674888,
          -6.598609362674888,
          -6.598609362674888,
          -6.598609362674888,
          -6.598609362674888,
          -6.485765186115454,
          -6.485765186115454,
          -6.485765186115454,
          -6.485765186115454,
          -6.485765186115454,
          -6.485765186115454,
          -6.485765186115454,
          -6.485765186115454,
          -6.372921009556022,
          -6.372921009556022,
          -6.372921009556022,
          -6.372921009556022,
          -6.372921009556022,
          -6.372921009556022,
          -6.372921009556022,
          -6.372921009556022,
          -6.372921009556022,
          -6.372921009556022,
          -6.372921009556022,
          -6.372921009556022,
          -6.372921009556022,
          -6.372921009556022,
          -6.260076832996589,
          -6.260076832996589,
          -6.260076832996589,
          -6.260076832996589,
          -6.260076832996589,
          -6.260076832996589,
          -6.147232656437156,
          -6.147232656437156,
          -6.147232656437156,
          -6.147232656437156,
          -6.147232656437156,
          -6.147232656437156,
          -6.147232656437156,
          -6.034388479877722,
          -6.034388479877722,
          -6.034388479877722,
          -6.034388479877722,
          -5.9215443033182895,
          -5.9215443033182895,
          -5.9215443033182895,
          -5.9215443033182895,
          -5.9215443033182895,
          -5.9215443033182895,
          -5.9215443033182895,
          -5.9215443033182895,
          -5.808700126758856,
          -5.808700126758856,
          -5.808700126758856,
          -5.808700126758856,
          -5.808700126758856,
          -5.808700126758856,
          -5.808700126758856,
          -5.808700126758856,
          -5.808700126758856,
          -5.808700126758856,
          -5.808700126758856,
          -5.695855950199423,
          -5.695855950199423,
          -5.695855950199423,
          -5.695855950199423,
          -5.695855950199423,
          -5.695855950199423,
          -5.58301177363999,
          -5.58301177363999,
          -5.58301177363999,
          -5.58301177363999,
          -5.58301177363999,
          -5.58301177363999,
          -5.58301177363999,
          -5.58301177363999,
          -5.58301177363999,
          -5.58301177363999,
          -5.58301177363999,
          -5.58301177363999,
          -5.58301177363999,
          -5.470167597080557,
          -5.470167597080557,
          -5.470167597080557,
          -5.470167597080557,
          -5.470167597080557,
          -5.470167597080557,
          -5.470167597080557,
          -5.470167597080557,
          -5.470167597080557,
          -5.470167597080557,
          -5.470167597080557,
          -5.357323420521124,
          -5.357323420521124,
          -5.357323420521124,
          -5.357323420521124,
          -5.357323420521124,
          -5.357323420521124,
          -5.357323420521124,
          -5.357323420521124,
          -5.357323420521124,
          -5.357323420521124,
          -5.357323420521124,
          -5.357323420521124,
          -5.24447924396169,
          -5.24447924396169,
          -5.24447924396169,
          -5.24447924396169,
          -5.24447924396169,
          -5.24447924396169,
          -5.24447924396169,
          -5.24447924396169,
          -5.24447924396169,
          -5.24447924396169,
          -5.24447924396169,
          -5.24447924396169,
          -5.24447924396169,
          -5.24447924396169,
          -5.24447924396169,
          -5.24447924396169,
          -5.24447924396169,
          -5.131635067402257,
          -5.131635067402257,
          -5.131635067402257,
          -5.131635067402257,
          -5.131635067402257,
          -5.131635067402257,
          -5.131635067402257,
          -5.0187908908428245,
          -5.0187908908428245,
          -5.0187908908428245,
          -5.0187908908428245,
          -5.0187908908428245,
          -5.0187908908428245,
          -5.0187908908428245,
          -5.0187908908428245,
          -5.0187908908428245,
          -5.0187908908428245,
          -5.0187908908428245,
          -5.0187908908428245,
          -4.905946714283392,
          -4.905946714283392,
          -4.905946714283392,
          -4.905946714283392,
          -4.905946714283392,
          -4.905946714283392,
          -4.905946714283392,
          -4.905946714283392,
          -4.905946714283392,
          -4.905946714283392,
          -4.905946714283392,
          -4.905946714283392,
          -4.905946714283392,
          -4.905946714283392,
          -4.793102537723959,
          -4.793102537723959,
          -4.793102537723959,
          -4.793102537723959,
          -4.793102537723959,
          -4.793102537723959,
          -4.793102537723959,
          -4.793102537723959,
          -4.793102537723959,
          -4.793102537723959,
          -4.793102537723959,
          -4.680258361164525,
          -4.680258361164525,
          -4.680258361164525,
          -4.680258361164525,
          -4.680258361164525,
          -4.680258361164525,
          -4.680258361164525,
          -4.680258361164525,
          -4.680258361164525,
          -4.680258361164525,
          -4.680258361164525,
          -4.680258361164525,
          -4.680258361164525,
          -4.5674141846050915,
          -4.5674141846050915,
          -4.5674141846050915,
          -4.5674141846050915,
          -4.5674141846050915,
          -4.5674141846050915,
          -4.5674141846050915,
          -4.5674141846050915,
          -4.5674141846050915,
          -4.5674141846050915,
          -4.5674141846050915,
          -4.454570008045659,
          -4.454570008045659,
          -4.454570008045659,
          -4.454570008045659,
          -4.454570008045659,
          -4.454570008045659,
          -4.454570008045659,
          -4.454570008045659,
          -4.454570008045659,
          -4.454570008045659,
          -4.454570008045659,
          -4.341725831486226,
          -4.341725831486226,
          -4.228881654926793,
          -4.228881654926793,
          -4.228881654926793,
          -4.228881654926793,
          -4.228881654926793,
          -4.1160374783673594,
          -4.1160374783673594,
          -4.1160374783673594,
          -4.1160374783673594,
          -4.1160374783673594,
          -4.1160374783673594,
          -4.1160374783673594,
          -4.003193301807927,
          -4.003193301807927,
          -4.003193301807927,
          -4.003193301807927,
          -4.003193301807927,
          -3.890349125248494,
          -3.890349125248494,
          -3.890349125248494,
          -3.890349125248494,
          -3.77750494868906,
          -3.77750494868906,
          -3.77750494868906,
          -3.77750494868906,
          -3.77750494868906,
          -3.77750494868906,
          -3.77750494868906,
          -3.77750494868906,
          -3.77750494868906,
          -3.77750494868906,
          -3.77750494868906,
          -3.77750494868906,
          -3.6646607721296274,
          -3.6646607721296274,
          -3.6646607721296274,
          -3.6646607721296274,
          -3.6646607721296274,
          -3.6646607721296274,
          -3.5518165955701946,
          -3.5518165955701946,
          -3.5518165955701946,
          -3.5518165955701946,
          -3.5518165955701946,
          -3.5518165955701946,
          -3.5518165955701946,
          -3.5518165955701946,
          -3.5518165955701946,
          -3.5518165955701946,
          -3.438972419010761,
          -3.438972419010761,
          -3.438972419010761,
          -3.438972419010761,
          -3.438972419010761,
          -3.438972419010761,
          -3.438972419010761,
          -3.438972419010761,
          -3.438972419010761,
          -3.326128242451328,
          -3.326128242451328,
          -3.326128242451328,
          -3.326128242451328,
          -3.326128242451328,
          -3.326128242451328,
          -3.326128242451328,
          -3.326128242451328,
          -3.326128242451328,
          -3.326128242451328,
          -3.326128242451328,
          -3.326128242451328,
          -3.326128242451328,
          -3.326128242451328,
          -3.326128242451328,
          -3.326128242451328,
          -3.326128242451328,
          -3.2132840658918953,
          -3.2132840658918953,
          -3.2132840658918953,
          -3.2132840658918953,
          -3.2132840658918953,
          -3.2132840658918953,
          -3.2132840658918953,
          -3.2132840658918953,
          -3.2132840658918953,
          -3.2132840658918953,
          -3.2132840658918953,
          -3.2132840658918953,
          -3.2132840658918953,
          -3.2132840658918953,
          -3.2132840658918953,
          -3.1004398893324616,
          -3.1004398893324616,
          -3.1004398893324616,
          -3.1004398893324616,
          -3.1004398893324616,
          -3.1004398893324616,
          -3.1004398893324616,
          -2.987595712773029,
          -2.987595712773029,
          -2.987595712773029,
          -2.987595712773029,
          -2.987595712773029,
          -2.987595712773029,
          -2.987595712773029,
          -2.987595712773029,
          -2.987595712773029,
          -2.987595712773029,
          -2.874751536213596,
          -2.874751536213596,
          -2.874751536213596,
          -2.874751536213596,
          -2.874751536213596,
          -2.874751536213596,
          -2.874751536213596,
          -2.874751536213596,
          -2.7619073596541623,
          -2.7619073596541623,
          -2.7619073596541623,
          -2.7619073596541623,
          -2.7619073596541623,
          -2.6490631830947295,
          -2.6490631830947295,
          -2.6490631830947295,
          -2.6490631830947295,
          -2.6490631830947295,
          -2.6490631830947295,
          -2.6490631830947295,
          -2.6490631830947295,
          -2.6490631830947295,
          -2.6490631830947295,
          -2.6490631830947295,
          -2.6490631830947295,
          -2.536219006535296,
          -2.536219006535296,
          -2.536219006535296,
          -2.536219006535296,
          -2.423374829975863,
          -2.423374829975863,
          -2.423374829975863,
          -2.423374829975863,
          -2.3105306534164303,
          -2.3105306534164303,
          -2.3105306534164303,
          -2.3105306534164303,
          -2.3105306534164303,
          -2.3105306534164303,
          -2.3105306534164303,
          -2.3105306534164303,
          -2.3105306534164303,
          -2.1976864768569966,
          -2.1976864768569966,
          -2.1976864768569966,
          -2.1976864768569966,
          -2.1976864768569966,
          -2.1976864768569966,
          -2.1976864768569966,
          -2.1976864768569966,
          -2.084842300297564,
          -2.084842300297564,
          -2.084842300297564,
          -2.084842300297564,
          -2.084842300297564,
          -2.084842300297564,
          -2.084842300297564,
          -2.084842300297564,
          -1.971998123738131,
          -1.971998123738131,
          -1.971998123738131,
          -1.8591539471786973,
          -1.8591539471786973,
          -1.8591539471786973,
          -1.8591539471786973,
          -1.8591539471786973,
          -1.8591539471786973,
          -1.8591539471786973,
          -1.8591539471786973,
          -1.8591539471786973,
          -1.8591539471786973,
          -1.7463097706192645,
          -1.7463097706192645,
          -1.7463097706192645,
          -1.7463097706192645,
          -1.7463097706192645,
          -1.6334655940598317,
          -1.6334655940598317,
          -1.6334655940598317,
          -1.6334655940598317,
          -1.6334655940598317,
          -1.6334655940598317,
          -1.6334655940598317,
          -1.6334655940598317,
          -1.6334655940598317,
          -1.6334655940598317,
          -1.520621417500398,
          -1.520621417500398,
          -1.520621417500398,
          -1.520621417500398,
          -1.520621417500398,
          -1.520621417500398,
          -1.4077772409409652,
          -1.4077772409409652,
          -1.4077772409409652,
          -1.4077772409409652,
          -1.4077772409409652,
          -1.4077772409409652,
          -1.4077772409409652,
          -1.4077772409409652,
          -1.4077772409409652,
          -1.4077772409409652,
          -1.4077772409409652,
          -1.2949330643815324,
          -1.2949330643815324,
          -1.2949330643815324,
          -1.2949330643815324,
          -1.2949330643815324,
          -1.2949330643815324,
          -1.2949330643815324,
          -1.2949330643815324,
          -1.1820888878220988,
          -1.1820888878220988,
          -1.1820888878220988,
          -1.1820888878220988,
          -1.069244711262666,
          -1.069244711262666,
          -1.069244711262666,
          -0.9564005347032332,
          -0.9564005347032332,
          -0.9564005347032332,
          -0.9564005347032332,
          -0.8435563581437995,
          -0.8435563581437995,
          -0.8435563581437995,
          -0.7307121815843667,
          -0.7307121815843667,
          -0.7307121815843667,
          -0.7307121815843667,
          -0.7307121815843667,
          -0.6178680050249339,
          -0.6178680050249339,
          -0.6178680050249339,
          -0.6178680050249339,
          -0.6178680050249339,
          -0.6178680050249339,
          -0.5050238284655002,
          -0.3921796519060674,
          -0.3921796519060674,
          -0.3921796519060674,
          -0.3921796519060674,
          -0.2793354753466346,
          -0.2793354753466346,
          -0.2793354753466346,
          -0.2793354753466346,
          -0.2793354753466346,
          -0.2793354753466346,
          -0.1664912987872018,
          -0.1664912987872018,
          -0.1664912987872018,
          -0.1664912987872018,
          -0.05364712222776724,
          -0.05364712222776724,
          -0.05364712222776724,
          -0.05364712222776724,
          0.059197054331665555,
          0.059197054331665555,
          0.059197054331665555,
          0.059197054331665555,
          0.059197054331665555,
          0.059197054331665555,
          0.059197054331665555,
          0.059197054331665555,
          0.059197054331665555,
          0.17204123089109835,
          0.17204123089109835,
          0.17204123089109835,
          0.17204123089109835,
          0.17204123089109835,
          0.17204123089109835,
          0.28488540745053115,
          0.28488540745053115,
          0.28488540745053115,
          0.28488540745053115,
          0.28488540745053115,
          0.28488540745053115,
          0.39772958400996394,
          0.39772958400996394,
          0.5105737605693967,
          0.5105737605693967,
          0.5105737605693967,
          0.5105737605693967,
          0.5105737605693967,
          0.6234179371288313,
          0.6234179371288313,
          0.6234179371288313,
          0.6234179371288313,
          0.6234179371288313,
          0.6234179371288313,
          0.6234179371288313,
          0.6234179371288313,
          0.6234179371288313,
          0.7362621136882641,
          0.7362621136882641,
          0.7362621136882641,
          0.7362621136882641,
          0.7362621136882641,
          0.7362621136882641,
          0.7362621136882641,
          0.8491062902476969,
          0.8491062902476969,
          0.8491062902476969,
          0.8491062902476969,
          0.8491062902476969,
          0.9619504668071297,
          0.9619504668071297,
          0.9619504668071297,
          0.9619504668071297,
          0.9619504668071297,
          0.9619504668071297,
          1.0747946433665625,
          1.0747946433665625,
          1.0747946433665625,
          1.0747946433665625,
          1.0747946433665625,
          1.0747946433665625,
          1.1876388199259953,
          1.1876388199259953,
          1.3004829964854299,
          1.3004829964854299,
          1.3004829964854299,
          1.3004829964854299,
          1.3004829964854299,
          1.4133271730448627,
          1.4133271730448627,
          1.4133271730448627,
          1.4133271730448627,
          1.4133271730448627,
          1.4133271730448627,
          1.4133271730448627,
          1.5261713496042955,
          1.5261713496042955,
          1.5261713496042955,
          1.5261713496042955,
          1.5261713496042955,
          1.5261713496042955,
          1.6390155261637283,
          1.6390155261637283,
          1.6390155261637283,
          1.6390155261637283,
          1.6390155261637283,
          1.751859702723161,
          1.751859702723161,
          1.751859702723161,
          1.751859702723161,
          1.751859702723161,
          1.751859702723161,
          1.751859702723161,
          1.8647038792825938,
          1.8647038792825938,
          1.8647038792825938,
          1.8647038792825938,
          1.8647038792825938,
          1.9775480558420284,
          1.9775480558420284,
          2.090392232401461,
          2.090392232401461,
          2.203236408960894,
          2.203236408960894,
          2.203236408960894,
          2.203236408960894,
          2.203236408960894,
          2.203236408960894,
          2.203236408960894,
          2.316080585520327,
          2.316080585520327,
          2.316080585520327,
          2.316080585520327,
          2.4289247620797596,
          2.4289247620797596,
          2.4289247620797596,
          2.5417689386391924,
          2.5417689386391924,
          2.654613115198627,
          2.654613115198627,
          2.654613115198627,
          2.654613115198627,
          2.654613115198627,
          2.654613115198627,
          2.654613115198627,
          2.654613115198627,
          2.7674572917580598,
          2.7674572917580598,
          2.7674572917580598,
          2.7674572917580598,
          2.7674572917580598,
          2.8803014683174926,
          2.9931456448769254,
          2.9931456448769254,
          2.9931456448769254,
          2.9931456448769254,
          2.9931456448769254,
          2.9931456448769254,
          3.105989821436358,
          3.105989821436358,
          3.105989821436358,
          3.105989821436358,
          3.2188339979957927,
          3.2188339979957927,
          3.2188339979957927,
          3.2188339979957927,
          3.3316781745552255,
          3.3316781745552255,
          3.3316781745552255,
          3.3316781745552255,
          3.3316781745552255,
          3.4445223511146583,
          3.557366527674091,
          3.557366527674091,
          3.557366527674091,
          3.557366527674091,
          3.557366527674091,
          3.557366527674091,
          3.670210704233524,
          3.670210704233524,
          3.670210704233524,
          3.7830548807929567,
          3.7830548807929567,
          3.7830548807929567,
          3.7830548807929567,
          3.8958990573523913,
          3.8958990573523913,
          3.8958990573523913,
          3.8958990573523913,
          4.008743233911824,
          4.008743233911824,
          4.008743233911824,
          4.008743233911824,
          4.121587410471257,
          4.121587410471257,
          4.121587410471257,
          4.121587410471257,
          4.23443158703069,
          4.23443158703069,
          4.23443158703069,
          4.3472757635901225,
          4.3472757635901225,
          4.460119940149555,
          4.460119940149555,
          4.57296411670899,
          4.57296411670899,
          4.57296411670899,
          4.57296411670899,
          4.685808293268423,
          4.685808293268423,
          4.685808293268423,
          4.685808293268423,
          4.685808293268423,
          4.798652469827855,
          4.798652469827855,
          4.798652469827855,
          4.798652469827855,
          4.911496646387288,
          4.911496646387288,
          4.911496646387288,
          4.911496646387288,
          5.024340822946721,
          5.024340822946721,
          5.137184999506154,
          5.137184999506154,
          5.137184999506154,
          5.137184999506154,
          5.137184999506154,
          5.137184999506154,
          5.250029176065588,
          5.250029176065588,
          5.362873352625021,
          5.362873352625021,
          5.362873352625021,
          5.362873352625021,
          5.475717529184454,
          5.475717529184454,
          5.475717529184454,
          5.475717529184454,
          5.475717529184454,
          5.475717529184454,
          5.475717529184454,
          5.475717529184454,
          5.588561705743887,
          5.70140588230332,
          5.814250058862752,
          5.814250058862752,
          5.814250058862752,
          5.927094235422187,
          5.927094235422187,
          6.03993841198162,
          6.1527825885410525,
          6.1527825885410525,
          6.1527825885410525,
          6.1527825885410525,
          6.1527825885410525,
          6.265626765100485,
          6.265626765100485,
          6.378470941659918,
          6.378470941659918,
          6.491315118219353,
          6.6041592947787855,
          6.6041592947787855,
          6.6041592947787855,
          6.6041592947787855,
          6.717003471338218,
          6.717003471338218,
          6.717003471338218,
          6.717003471338218,
          6.717003471338218,
          6.829847647897651,
          6.829847647897651,
          6.829847647897651,
          6.942691824457084,
          7.055536001016517,
          7.055536001016517,
          7.168380177575951,
          7.168380177575951,
          7.168380177575951,
          7.168380177575951,
          7.281224354135384,
          7.281224354135384,
          7.394068530694817,
          7.394068530694817,
          7.394068530694817,
          7.394068530694817,
          7.394068530694817,
          7.50691270725425,
          7.50691270725425,
          7.50691270725425,
          7.50691270725425,
          7.50691270725425,
          7.50691270725425,
          7.50691270725425,
          7.619756883813682,
          7.619756883813682,
          7.619756883813682,
          7.619756883813682,
          7.84544523693255,
          7.84544523693255,
          7.84544523693255,
          7.84544523693255,
          7.84544523693255,
          7.958289413491981,
          8.071133590051415,
          8.071133590051415,
          8.071133590051415,
          8.18397776661085,
          8.18397776661085,
          8.18397776661085,
          8.18397776661085,
          8.18397776661085,
          8.296821943170281,
          8.296821943170281,
          8.296821943170281,
          8.296821943170281,
          8.296821943170281,
          8.409666119729716,
          8.409666119729716,
          8.409666119729716,
          8.409666119729716,
          8.409666119729716,
          8.409666119729716,
          8.409666119729716,
          8.409666119729716,
          8.409666119729716,
          8.409666119729716,
          8.409666119729716,
          8.522510296289147,
          8.522510296289147,
          8.522510296289147,
          8.522510296289147,
          8.522510296289147,
          8.522510296289147,
          8.522510296289147,
          8.522510296289147,
          8.635354472848581,
          8.748198649408012,
          8.748198649408012,
          8.861042825967447,
          8.861042825967447,
          8.861042825967447,
          8.861042825967447,
          9.086731179086312,
          9.086731179086312,
          9.086731179086312,
          9.086731179086312,
          9.086731179086312,
          9.199575355645747,
          9.199575355645747,
          9.199575355645747,
          9.312419532205178,
          9.312419532205178,
          9.312419532205178,
          9.425263708764613,
          9.538107885324047,
          9.538107885324047,
          9.538107885324047,
          9.538107885324047,
          9.538107885324047,
          9.650952061883478,
          9.650952061883478,
          9.763796238442913,
          9.876640415002344,
          9.876640415002344,
          9.989484591561778,
          9.989484591561778,
          9.989484591561778,
          10.102328768121213,
          10.102328768121213,
          10.328017121240078,
          10.328017121240078,
          10.44086129779951,
          10.44086129779951,
          10.553705474358944,
          10.666549650918375,
          10.666549650918375,
          10.666549650918375,
          10.666549650918375,
          10.666549650918375,
          10.666549650918375,
          10.77939382747781,
          10.77939382747781,
          10.77939382747781,
          10.892238004037244,
          10.892238004037244,
          11.005082180596675,
          11.005082180596675,
          11.005082180596675,
          11.005082180596675,
          11.005082180596675,
          11.11792635715611,
          11.23077053371554,
          11.23077053371554,
          11.343614710274975,
          11.45645888683441,
          11.569303063393841,
          11.569303063393841,
          11.569303063393841,
          11.682147239953276,
          11.907835593072141,
          11.907835593072141,
          11.907835593072141,
          12.020679769631572,
          12.020679769631572,
          12.020679769631572,
          12.246368122750441,
          12.359212299309872,
          12.472056475869307,
          12.584900652428738,
          12.584900652428738,
          12.584900652428738,
          12.697744828988172,
          12.810589005547607,
          12.810589005547607,
          12.923433182107038,
          12.923433182107038,
          13.036277358666473,
          13.036277358666473,
          13.036277358666473,
          13.149121535225904,
          13.149121535225904,
          13.261965711785338,
          13.261965711785338,
          13.261965711785338,
          13.37480988834477,
          13.487654064904204,
          13.487654064904204,
          13.487654064904204,
          13.487654064904204,
          13.487654064904204,
          13.71334241802307,
          13.71334241802307,
          13.826186594582504,
          13.939030771141935,
          13.939030771141935,
          14.164719124260804,
          14.164719124260804,
          14.164719124260804,
          14.164719124260804,
          14.164719124260804,
          14.164719124260804,
          14.277563300820235,
          14.277563300820235,
          14.277563300820235,
          14.39040747737967,
          14.5032516539391,
          14.5032516539391,
          14.616095830498535,
          14.72894000705797,
          14.72894000705797,
          14.841784183617401,
          14.954628360176835,
          14.954628360176835,
          14.954628360176835,
          14.954628360176835,
          15.067472536736267,
          15.067472536736267,
          15.067472536736267,
          15.067472536736267,
          15.180316713295701,
          15.293160889855132,
          15.293160889855132,
          15.293160889855132,
          15.406005066414567,
          15.406005066414567,
          15.518849242974001,
          15.518849242974001,
          15.631693419533432,
          15.631693419533432,
          15.744537596092867,
          15.744537596092867,
          15.857381772652298,
          15.970225949211732,
          16.083070125771165,
          16.083070125771165,
          16.083070125771165,
          16.083070125771165,
          16.1959143023306,
          16.421602655449462,
          16.421602655449462,
          16.421602655449462,
          16.534446832008896,
          16.534446832008896,
          16.64729100856833,
          16.64729100856833,
          16.64729100856833,
          16.760135185127766,
          16.760135185127766,
          16.8729793616872,
          16.8729793616872,
          16.8729793616872,
          16.8729793616872,
          16.985823538246628,
          16.985823538246628,
          16.985823538246628,
          16.985823538246628,
          17.211511891365497,
          17.32435606792493,
          17.32435606792493,
          17.32435606792493,
          17.437200244484366,
          17.550044421043793,
          17.550044421043793,
          17.550044421043793,
          17.662888597603228,
          17.775732774162663,
          17.775732774162663,
          18.00142112728153,
          18.452797833519263,
          18.56564201007869,
          18.678486186638125,
          18.79133036319756,
          18.904174539756994,
          19.129862892875856,
          19.24270706943529,
          19.24270706943529,
          19.355551245994725,
          19.355551245994725,
          19.355551245994725,
          19.355551245994725,
          19.355551245994725,
          19.355551245994725,
          19.46839542255416,
          19.46839542255416,
          19.46839542255416,
          19.694083775673022,
          19.694083775673022,
          19.694083775673022,
          19.806927952232456,
          19.806927952232456,
          19.91977212879189,
          20.14546048191076,
          20.258304658470188,
          20.258304658470188,
          20.483993011589057,
          20.483993011589057,
          20.709681364707926,
          20.709681364707926,
          20.709681364707926,
          20.709681364707926,
          20.822525541267353,
          20.935369717826788,
          20.935369717826788,
          20.935369717826788,
          21.048213894386222,
          21.161058070945657,
          21.27390224750509,
          21.27390224750509,
          21.38674642406452,
          21.38674642406452,
          21.38674642406452,
          21.499590600623954,
          21.499590600623954,
          21.499590600623954,
          21.950967306861685,
          21.950967306861685,
          22.06381148342112,
          22.06381148342112,
          22.06381148342112,
          22.06381148342112,
          22.51518818965885,
          22.628032366218285,
          22.74087654277772,
          22.853720719337154,
          22.853720719337154,
          22.966564895896582,
          23.079409072456016,
          23.530785778693748,
          23.756474131812617,
          23.756474131812617,
          23.86931830837205,
          23.982162484931486,
          24.09500666149092,
          24.09500666149092,
          24.207850838050348,
          24.433539191169217,
          24.433539191169217,
          24.54638336772865,
          24.54638336772865,
          24.884915897406948,
          24.884915897406948,
          24.884915897406948,
          25.110604250525817,
          25.33629260364468,
          25.449136780204114,
          25.449136780204114,
          25.449136780204114,
          25.449136780204114,
          25.56198095676355,
          25.78766930988241,
          26.01335766300128,
          26.126201839560714,
          26.23904601612015,
          26.351890192679576,
          26.803266898917315,
          26.803266898917315,
          26.916111075476742,
          26.916111075476742,
          27.028955252036177,
          27.028955252036177,
          27.14179942859561,
          27.254643605155046,
          27.706020311392777,
          27.706020311392777,
          27.81886448795221,
          27.931708664511646,
          27.931708664511646,
          28.044552841071074,
          28.044552841071074,
          28.044552841071074,
          28.157397017630508,
          28.270241194189943,
          28.383085370749377,
          28.495929547308812,
          28.60877372386824,
          28.60877372386824,
          28.721617900427674,
          28.947306253546543,
          29.172994606665405,
          29.172994606665405,
          29.28583878322484,
          29.28583878322484,
          29.51152713634371,
          29.624371312903136,
          29.624371312903136,
          29.624371312903136,
          29.850059666022005,
          30.075748019140875,
          30.188592195700302,
          30.188592195700302,
          30.188592195700302,
          30.301436372259737,
          30.301436372259737,
          30.527124725378606,
          30.63996890193804,
          30.752813078497468,
          31.09134560817577,
          31.09134560817577,
          31.317033961294634,
          31.317033961294634,
          31.429878137854068,
          31.429878137854068,
          31.429878137854068,
          31.542722314413503,
          31.768410667532372,
          31.768410667532372,
          31.994099020651234,
          32.2197873737701,
          32.33263155032953,
          32.5583199034484,
          32.896852433126696,
          33.00969660968613,
          33.122540786245565,
          33.348229139364435,
          33.5739174924833,
          33.68676166904273,
          33.799605845602166,
          34.02529419872103,
          34.13813837528046,
          34.476670904958766,
          34.70235925807763,
          34.70235925807763,
          34.81520343463706,
          34.81520343463706,
          34.81520343463706,
          34.81520343463706,
          35.15373596431536,
          35.37942431743423,
          35.49226849399366,
          35.60511267055309,
          35.83080102367196,
          35.83080102367196,
          36.169333553350256,
          36.395021906469125,
          36.620710259587995,
          36.95924278926629,
          37.52346367206346,
          37.52346367206346,
          37.86199620174175,
          38.20052873142006,
          38.313372907979485,
          38.42621708453892,
          38.65190543765779,
          38.76474961421722,
          38.87759379077665,
          39.55465885013325,
          39.55465885013325,
          39.55465885013325,
          39.667503026692685,
          39.667503026692685,
          39.893191379811554,
          40.11887973293042,
          40.11887973293042,
          40.57025643916815,
          40.68310061572758,
          40.90878896884645,
          41.021633145405886,
          41.585854028203045,
          41.69869820476248,
          41.811542381321914,
          42.03723073444078,
          42.262919087559645,
          42.488607440678514,
          42.488607440678514,
          42.60145161723795,
          43.05282832347568,
          43.27851667659454,
          43.617049206272846,
          43.617049206272846,
          43.84273755939171,
          44.18127008907001,
          44.18127008907001,
          44.63264679530774,
          44.63264679530774,
          45.084023501545474,
          45.084023501545474,
          45.19686767810491,
          45.42255603122377,
          46.09962109058037,
          46.32530944369924,
          46.438153620258674,
          46.438153620258674,
          46.66384197337754,
          46.66384197337754,
          47.00237450305584,
          47.00237450305584,
          47.2280628561747,
          47.45375120929357,
          47.67943956241243,
          47.79228373897187,
          47.9051279155313,
          48.01797209209074,
          48.356504621769034,
          48.46934879832847,
          48.5821929748879,
          49.033569681125634,
          49.259258034244496,
          49.37210221080393,
          49.484946387363365,
          49.5977905639228,
          49.936323093601096,
          49.936323093601096,
          50.38769979983883,
          50.72623232951713,
          50.839076506076566,
          51.17760903575486,
          51.403297388873725,
          51.96751827167089,
          51.96751827167089,
          51.96751827167089,
          52.19320662478976,
          52.306050801349194,
          52.531739154468056,
          53.09596003726522,
          53.208804213824656,
          53.77302509662182,
          54.45009015597842,
          54.56293433253786,
          54.78862268565672,
          54.78862268565672,
          54.901466862216154,
          55.01431103877559,
          55.01431103877559,
          55.01431103877559,
          55.46568774501332,
          56.14275280436992,
          57.04550621684538,
          57.384038746523686,
          57.609727099642555,
          57.722571276201975,
          58.62532468867745,
          58.73816886523689,
          58.85101304179631,
          58.85101304179631,
          59.076701394915176,
          59.18954557147461,
          59.41523392459348,
          60.54367569018781,
          60.54367569018781,
          61.220740749544404,
          61.446429102663274,
          61.67211745578214,
          62.01064998546045,
          62.12349416201987,
          63.02624757449534,
          63.02624757449534,
          63.02624757449534,
          63.139091751054764,
          63.36478010417363,
          63.47762428073307,
          63.5904684572925,
          63.5904684572925,
          63.5904684572925,
          63.5904684572925,
          64.15468934008967,
          64.2675335166491,
          64.2675335166491,
          64.38037769320853,
          64.6060660463274,
          64.6060660463274,
          64.83175439944627,
          65.17028692912457,
          65.283131105684,
          65.73450781192173,
          66.07304034160003,
          66.41157287127832,
          66.52441704783776,
          67.08863793063493,
          67.20148210719437,
          67.3143262837538,
          67.42717046031323,
          67.42717046031323,
          67.76570298999152,
          67.9913913431104,
          67.9913913431104,
          68.55561222590757,
          69.00698893214529,
          69.3455214618236,
          69.45836563838303,
          69.90974234462075,
          71.71524916957169,
          71.94093752269055,
          72.27947005236885,
          72.84369093516602,
          72.95653511172544,
          73.40791181796318,
          73.40791181796318,
          73.97213270076035,
          74.53635358355751,
          74.53635358355751,
          74.64919776011695,
          74.76204193667638,
          75.32626281947354,
          75.43910699603298,
          75.43910699603298,
          75.55195117259241,
          75.66479534915185,
          76.229016231949,
          77.13176964442448,
          77.13176964442448,
          77.5831463506622,
          77.69599052722164,
          78.03452305689994,
          78.03452305689994,
          78.03452305689994,
          78.26021141001881,
          78.5987439396971,
          78.71158811625654,
          79.05012064593484,
          79.05012064593484,
          79.84002988185087,
          80.2914065880886,
          82.20975758959896,
          83.22535517863386,
          83.78957606143103,
          84.57948529734706,
          85.14370618014422,
          85.25655035670366,
          85.59508288638196,
          85.7079270629414,
          85.93361541606026,
          87.0620571816546,
          87.17490135821402,
          87.62627806445175,
          87.85196641757062,
          88.30334312380835,
          88.41618730036778,
          89.54462906596211,
          89.77031741908098,
          89.99600577219985,
          90.67307083155644,
          91.01160336123475,
          91.80151259715078,
          92.25288930338851,
          94.50977283457718,
          94.50977283457718,
          94.9611495408149,
          95.07399371737434,
          95.2996820704932,
          96.08959130640923,
          96.54096801264697,
          96.9923447188847,
          97.10518889544413,
          97.21803307200356,
          97.89509813136017,
          99.36207242663279,
          99.47491660319223,
          100.60335836878656,
          101.84464431094032,
          101.95748848749976,
          106.92263225611481,
          107.59969731547142,
          107.9382298451497,
          110.42080172945724,
          110.75933425913554,
          111.43639931849214,
          111.662087671611,
          111.662087671611,
          112.3391527309676,
          113.12906196688364,
          113.12906196688364,
          115.3859454980723,
          115.95016638086946,
          116.17585473398833,
          116.28869891054777,
          117.75567320582039,
          117.86851738237982,
          118.09420573549869,
          118.09420573549869,
          120.01255673700905,
          120.01255673700905,
          120.91531014948453,
          122.26944026819771,
          125.20338885874298,
          129.15293503832314,
          129.15293503832314,
          130.28137680391745,
          132.31257198198728,
          132.76394868822499,
          132.76394868822499,
          134.23092298349763,
          135.02083221941365,
          135.24652057253252,
          135.58505310221082,
          135.58505310221082,
          136.03642980844856,
          138.1804691630778,
          138.40615751619666,
          138.5190016927561,
          139.3089109286721,
          139.9859759880287,
          140.21166434114758,
          140.55019687082589,
          141.45295028330133,
          142.58139204889568,
          144.16121052072774,
          144.61258722696547,
          145.28965228632208,
          145.28965228632208,
          145.62818481600036,
          148.4492892299862,
          149.9162635252588,
          156.57406994226537,
          159.50801853281064,
          160.86214865152382,
          161.65205788743987,
          162.55481129991534,
          165.8272924201389,
          166.27866912637663,
          166.5043574794955,
          167.74564342164925,
          170.22821530595678,
          172.14656630746714,
          172.59794301370488,
          174.7419823683341,
          174.7419823683341,
          174.7419823683341,
          175.0805148980124,
          175.53189160425015,
          175.64473578080958,
          178.69152854791426,
          183.5438281399699,
          184.5594257290048,
          185.3493349649208,
          188.6218160851444,
          197.5365060333396,
          198.10072691613675,
          200.9218313301226,
          212.2062489860659,
          224.28057587792523,
          227.8915895278271,
          229.02003129342143,
          230.37416141213464,
          231.50260317772896,
          238.61178630097325,
          244.9310601883015,
          250.3475806631543,
          258.69804972855235,
          268.4026489126636,
          268.96686979546075,
          287.02193804497006,
          311.0577476521293,
          312.97609865363967,
          322.0036327783943,
          347.2807283277073,
          428.754223803618,
          458.99646312154607,
          484.04787031774026,
          638.1930154979258
         ],
         "yaxis": "y"
        }
       ],
       "layout": {
        "autosize": false,
        "coloraxis": {
         "colorbar": {
          "title": {
           "text": "Profit"
          }
         },
         "colorscale": [
          [
           0,
           "#0d0887"
          ],
          [
           0.1111111111111111,
           "#46039f"
          ],
          [
           0.2222222222222222,
           "#7201a8"
          ],
          [
           0.3333333333333333,
           "#9c179e"
          ],
          [
           0.4444444444444444,
           "#bd3786"
          ],
          [
           0.5555555555555556,
           "#d8576b"
          ],
          [
           0.6666666666666666,
           "#ed7953"
          ],
          [
           0.7777777777777778,
           "#fb9f3a"
          ],
          [
           0.8888888888888888,
           "#fdca26"
          ],
          [
           1,
           "#f0f921"
          ]
         ]
        },
        "height": 600,
        "legend": {
         "tracegroupgap": 0
        },
        "margin": {
         "t": 60
        },
        "template": {
         "data": {
          "bar": [
           {
            "error_x": {
             "color": "#2a3f5f"
            },
            "error_y": {
             "color": "#2a3f5f"
            },
            "marker": {
             "line": {
              "color": "#E5ECF6",
              "width": 0.5
             },
             "pattern": {
              "fillmode": "overlay",
              "size": 10,
              "solidity": 0.2
             }
            },
            "type": "bar"
           }
          ],
          "barpolar": [
           {
            "marker": {
             "line": {
              "color": "#E5ECF6",
              "width": 0.5
             },
             "pattern": {
              "fillmode": "overlay",
              "size": 10,
              "solidity": 0.2
             }
            },
            "type": "barpolar"
           }
          ],
          "carpet": [
           {
            "aaxis": {
             "endlinecolor": "#2a3f5f",
             "gridcolor": "white",
             "linecolor": "white",
             "minorgridcolor": "white",
             "startlinecolor": "#2a3f5f"
            },
            "baxis": {
             "endlinecolor": "#2a3f5f",
             "gridcolor": "white",
             "linecolor": "white",
             "minorgridcolor": "white",
             "startlinecolor": "#2a3f5f"
            },
            "type": "carpet"
           }
          ],
          "choropleth": [
           {
            "colorbar": {
             "outlinewidth": 0,
             "ticks": ""
            },
            "type": "choropleth"
           }
          ],
          "contour": [
           {
            "colorbar": {
             "outlinewidth": 0,
             "ticks": ""
            },
            "colorscale": [
             [
              0,
              "#0d0887"
             ],
             [
              0.1111111111111111,
              "#46039f"
             ],
             [
              0.2222222222222222,
              "#7201a8"
             ],
             [
              0.3333333333333333,
              "#9c179e"
             ],
             [
              0.4444444444444444,
              "#bd3786"
             ],
             [
              0.5555555555555556,
              "#d8576b"
             ],
             [
              0.6666666666666666,
              "#ed7953"
             ],
             [
              0.7777777777777778,
              "#fb9f3a"
             ],
             [
              0.8888888888888888,
              "#fdca26"
             ],
             [
              1,
              "#f0f921"
             ]
            ],
            "type": "contour"
           }
          ],
          "contourcarpet": [
           {
            "colorbar": {
             "outlinewidth": 0,
             "ticks": ""
            },
            "type": "contourcarpet"
           }
          ],
          "heatmap": [
           {
            "colorbar": {
             "outlinewidth": 0,
             "ticks": ""
            },
            "colorscale": [
             [
              0,
              "#0d0887"
             ],
             [
              0.1111111111111111,
              "#46039f"
             ],
             [
              0.2222222222222222,
              "#7201a8"
             ],
             [
              0.3333333333333333,
              "#9c179e"
             ],
             [
              0.4444444444444444,
              "#bd3786"
             ],
             [
              0.5555555555555556,
              "#d8576b"
             ],
             [
              0.6666666666666666,
              "#ed7953"
             ],
             [
              0.7777777777777778,
              "#fb9f3a"
             ],
             [
              0.8888888888888888,
              "#fdca26"
             ],
             [
              1,
              "#f0f921"
             ]
            ],
            "type": "heatmap"
           }
          ],
          "heatmapgl": [
           {
            "colorbar": {
             "outlinewidth": 0,
             "ticks": ""
            },
            "colorscale": [
             [
              0,
              "#0d0887"
             ],
             [
              0.1111111111111111,
              "#46039f"
             ],
             [
              0.2222222222222222,
              "#7201a8"
             ],
             [
              0.3333333333333333,
              "#9c179e"
             ],
             [
              0.4444444444444444,
              "#bd3786"
             ],
             [
              0.5555555555555556,
              "#d8576b"
             ],
             [
              0.6666666666666666,
              "#ed7953"
             ],
             [
              0.7777777777777778,
              "#fb9f3a"
             ],
             [
              0.8888888888888888,
              "#fdca26"
             ],
             [
              1,
              "#f0f921"
             ]
            ],
            "type": "heatmapgl"
           }
          ],
          "histogram": [
           {
            "marker": {
             "pattern": {
              "fillmode": "overlay",
              "size": 10,
              "solidity": 0.2
             }
            },
            "type": "histogram"
           }
          ],
          "histogram2d": [
           {
            "colorbar": {
             "outlinewidth": 0,
             "ticks": ""
            },
            "colorscale": [
             [
              0,
              "#0d0887"
             ],
             [
              0.1111111111111111,
              "#46039f"
             ],
             [
              0.2222222222222222,
              "#7201a8"
             ],
             [
              0.3333333333333333,
              "#9c179e"
             ],
             [
              0.4444444444444444,
              "#bd3786"
             ],
             [
              0.5555555555555556,
              "#d8576b"
             ],
             [
              0.6666666666666666,
              "#ed7953"
             ],
             [
              0.7777777777777778,
              "#fb9f3a"
             ],
             [
              0.8888888888888888,
              "#fdca26"
             ],
             [
              1,
              "#f0f921"
             ]
            ],
            "type": "histogram2d"
           }
          ],
          "histogram2dcontour": [
           {
            "colorbar": {
             "outlinewidth": 0,
             "ticks": ""
            },
            "colorscale": [
             [
              0,
              "#0d0887"
             ],
             [
              0.1111111111111111,
              "#46039f"
             ],
             [
              0.2222222222222222,
              "#7201a8"
             ],
             [
              0.3333333333333333,
              "#9c179e"
             ],
             [
              0.4444444444444444,
              "#bd3786"
             ],
             [
              0.5555555555555556,
              "#d8576b"
             ],
             [
              0.6666666666666666,
              "#ed7953"
             ],
             [
              0.7777777777777778,
              "#fb9f3a"
             ],
             [
              0.8888888888888888,
              "#fdca26"
             ],
             [
              1,
              "#f0f921"
             ]
            ],
            "type": "histogram2dcontour"
           }
          ],
          "mesh3d": [
           {
            "colorbar": {
             "outlinewidth": 0,
             "ticks": ""
            },
            "type": "mesh3d"
           }
          ],
          "parcoords": [
           {
            "line": {
             "colorbar": {
              "outlinewidth": 0,
              "ticks": ""
             }
            },
            "type": "parcoords"
           }
          ],
          "pie": [
           {
            "automargin": true,
            "type": "pie"
           }
          ],
          "scatter": [
           {
            "fillpattern": {
             "fillmode": "overlay",
             "size": 10,
             "solidity": 0.2
            },
            "type": "scatter"
           }
          ],
          "scatter3d": [
           {
            "line": {
             "colorbar": {
              "outlinewidth": 0,
              "ticks": ""
             }
            },
            "marker": {
             "colorbar": {
              "outlinewidth": 0,
              "ticks": ""
             }
            },
            "type": "scatter3d"
           }
          ],
          "scattercarpet": [
           {
            "marker": {
             "colorbar": {
              "outlinewidth": 0,
              "ticks": ""
             }
            },
            "type": "scattercarpet"
           }
          ],
          "scattergeo": [
           {
            "marker": {
             "colorbar": {
              "outlinewidth": 0,
              "ticks": ""
             }
            },
            "type": "scattergeo"
           }
          ],
          "scattergl": [
           {
            "marker": {
             "colorbar": {
              "outlinewidth": 0,
              "ticks": ""
             }
            },
            "type": "scattergl"
           }
          ],
          "scattermapbox": [
           {
            "marker": {
             "colorbar": {
              "outlinewidth": 0,
              "ticks": ""
             }
            },
            "type": "scattermapbox"
           }
          ],
          "scatterpolar": [
           {
            "marker": {
             "colorbar": {
              "outlinewidth": 0,
              "ticks": ""
             }
            },
            "type": "scatterpolar"
           }
          ],
          "scatterpolargl": [
           {
            "marker": {
             "colorbar": {
              "outlinewidth": 0,
              "ticks": ""
             }
            },
            "type": "scatterpolargl"
           }
          ],
          "scatterternary": [
           {
            "marker": {
             "colorbar": {
              "outlinewidth": 0,
              "ticks": ""
             }
            },
            "type": "scatterternary"
           }
          ],
          "surface": [
           {
            "colorbar": {
             "outlinewidth": 0,
             "ticks": ""
            },
            "colorscale": [
             [
              0,
              "#0d0887"
             ],
             [
              0.1111111111111111,
              "#46039f"
             ],
             [
              0.2222222222222222,
              "#7201a8"
             ],
             [
              0.3333333333333333,
              "#9c179e"
             ],
             [
              0.4444444444444444,
              "#bd3786"
             ],
             [
              0.5555555555555556,
              "#d8576b"
             ],
             [
              0.6666666666666666,
              "#ed7953"
             ],
             [
              0.7777777777777778,
              "#fb9f3a"
             ],
             [
              0.8888888888888888,
              "#fdca26"
             ],
             [
              1,
              "#f0f921"
             ]
            ],
            "type": "surface"
           }
          ],
          "table": [
           {
            "cells": {
             "fill": {
              "color": "#EBF0F8"
             },
             "line": {
              "color": "white"
             }
            },
            "header": {
             "fill": {
              "color": "#C8D4E3"
             },
             "line": {
              "color": "white"
             }
            },
            "type": "table"
           }
          ]
         },
         "layout": {
          "annotationdefaults": {
           "arrowcolor": "#2a3f5f",
           "arrowhead": 0,
           "arrowwidth": 1
          },
          "autotypenumbers": "strict",
          "coloraxis": {
           "colorbar": {
            "outlinewidth": 0,
            "ticks": ""
           }
          },
          "colorscale": {
           "diverging": [
            [
             0,
             "#8e0152"
            ],
            [
             0.1,
             "#c51b7d"
            ],
            [
             0.2,
             "#de77ae"
            ],
            [
             0.3,
             "#f1b6da"
            ],
            [
             0.4,
             "#fde0ef"
            ],
            [
             0.5,
             "#f7f7f7"
            ],
            [
             0.6,
             "#e6f5d0"
            ],
            [
             0.7,
             "#b8e186"
            ],
            [
             0.8,
             "#7fbc41"
            ],
            [
             0.9,
             "#4d9221"
            ],
            [
             1,
             "#276419"
            ]
           ],
           "sequential": [
            [
             0,
             "#0d0887"
            ],
            [
             0.1111111111111111,
             "#46039f"
            ],
            [
             0.2222222222222222,
             "#7201a8"
            ],
            [
             0.3333333333333333,
             "#9c179e"
            ],
            [
             0.4444444444444444,
             "#bd3786"
            ],
            [
             0.5555555555555556,
             "#d8576b"
            ],
            [
             0.6666666666666666,
             "#ed7953"
            ],
            [
             0.7777777777777778,
             "#fb9f3a"
            ],
            [
             0.8888888888888888,
             "#fdca26"
            ],
            [
             1,
             "#f0f921"
            ]
           ],
           "sequentialminus": [
            [
             0,
             "#0d0887"
            ],
            [
             0.1111111111111111,
             "#46039f"
            ],
            [
             0.2222222222222222,
             "#7201a8"
            ],
            [
             0.3333333333333333,
             "#9c179e"
            ],
            [
             0.4444444444444444,
             "#bd3786"
            ],
            [
             0.5555555555555556,
             "#d8576b"
            ],
            [
             0.6666666666666666,
             "#ed7953"
            ],
            [
             0.7777777777777778,
             "#fb9f3a"
            ],
            [
             0.8888888888888888,
             "#fdca26"
            ],
            [
             1,
             "#f0f921"
            ]
           ]
          },
          "colorway": [
           "#636efa",
           "#EF553B",
           "#00cc96",
           "#ab63fa",
           "#FFA15A",
           "#19d3f3",
           "#FF6692",
           "#B6E880",
           "#FF97FF",
           "#FECB52"
          ],
          "font": {
           "color": "#2a3f5f"
          },
          "geo": {
           "bgcolor": "white",
           "lakecolor": "white",
           "landcolor": "#E5ECF6",
           "showlakes": true,
           "showland": true,
           "subunitcolor": "white"
          },
          "hoverlabel": {
           "align": "left"
          },
          "hovermode": "closest",
          "mapbox": {
           "style": "light"
          },
          "paper_bgcolor": "white",
          "plot_bgcolor": "#E5ECF6",
          "polar": {
           "angularaxis": {
            "gridcolor": "white",
            "linecolor": "white",
            "ticks": ""
           },
           "bgcolor": "#E5ECF6",
           "radialaxis": {
            "gridcolor": "white",
            "linecolor": "white",
            "ticks": ""
           }
          },
          "scene": {
           "xaxis": {
            "backgroundcolor": "#E5ECF6",
            "gridcolor": "white",
            "gridwidth": 2,
            "linecolor": "white",
            "showbackground": true,
            "ticks": "",
            "zerolinecolor": "white"
           },
           "yaxis": {
            "backgroundcolor": "#E5ECF6",
            "gridcolor": "white",
            "gridwidth": 2,
            "linecolor": "white",
            "showbackground": true,
            "ticks": "",
            "zerolinecolor": "white"
           },
           "zaxis": {
            "backgroundcolor": "#E5ECF6",
            "gridcolor": "white",
            "gridwidth": 2,
            "linecolor": "white",
            "showbackground": true,
            "ticks": "",
            "zerolinecolor": "white"
           }
          },
          "shapedefaults": {
           "line": {
            "color": "#2a3f5f"
           }
          },
          "ternary": {
           "aaxis": {
            "gridcolor": "white",
            "linecolor": "white",
            "ticks": ""
           },
           "baxis": {
            "gridcolor": "white",
            "linecolor": "white",
            "ticks": ""
           },
           "bgcolor": "#E5ECF6",
           "caxis": {
            "gridcolor": "white",
            "linecolor": "white",
            "ticks": ""
           }
          },
          "title": {
           "x": 0.05
          },
          "xaxis": {
           "automargin": true,
           "gridcolor": "white",
           "linecolor": "white",
           "ticks": "",
           "title": {
            "standoff": 15
           },
           "zerolinecolor": "white",
           "zerolinewidth": 2
          },
          "yaxis": {
           "automargin": true,
           "gridcolor": "white",
           "linecolor": "white",
           "ticks": "",
           "title": {
            "standoff": 15
           },
           "zerolinecolor": "white",
           "zerolinewidth": 2
          }
         }
        },
        "title": {
         "text": "Amount Vs Profit"
        },
        "width": 900,
        "xaxis": {
         "anchor": "y",
         "domain": [
          0,
          1
         ],
         "title": {
          "text": "Amount"
         }
        },
        "yaxis": {
         "anchor": "x",
         "domain": [
          0,
          1
         ],
         "title": {
          "text": "Profit"
         }
        }
       }
      }
     },
     "metadata": {},
     "output_type": "display_data"
    }
   ],
   "source": [
    "fig = px.scatter(data_frame=new_df, x='Amount', y='Profit', color='Profit', trendline='ols')\n",
    "fig.update_layout(title='Amount Vs Profit', autosize=False, height=600, width=900)\n",
    "fig.show()"
   ]
  },
  {
   "cell_type": "markdown",
   "metadata": {},
   "source": [
    "# Profit By Sub-Category"
   ]
  },
  {
   "cell_type": "code",
   "execution_count": 56,
   "metadata": {},
   "outputs": [
    {
     "data": {
      "text/plain": [
       "array(['Electronic Games', 'Phones', 'Trousers', 'Saree', 'Chairs',\n",
       "       'Accessories', 'Shirt', 'Stole', 'T-shirt', 'Printers',\n",
       "       'Bookcases', 'Skirt', 'Leggings', 'Hankerchief', 'Kurti',\n",
       "       'Furnishings', 'Tables'], dtype=object)"
      ]
     },
     "execution_count": 56,
     "metadata": {},
     "output_type": "execute_result"
    }
   ],
   "source": [
    "new_df['Sub-Category'].unique()"
   ]
  },
  {
   "cell_type": "code",
   "execution_count": 60,
   "metadata": {},
   "outputs": [
    {
     "data": {
      "text/html": [
       "<div>\n",
       "<style scoped>\n",
       "    .dataframe tbody tr th:only-of-type {\n",
       "        vertical-align: middle;\n",
       "    }\n",
       "\n",
       "    .dataframe tbody tr th {\n",
       "        vertical-align: top;\n",
       "    }\n",
       "\n",
       "    .dataframe thead th {\n",
       "        text-align: right;\n",
       "    }\n",
       "</style>\n",
       "<table border=\"1\" class=\"dataframe\">\n",
       "  <thead>\n",
       "    <tr style=\"text-align: right;\">\n",
       "      <th></th>\n",
       "      <th>Sub-Category</th>\n",
       "      <th>Profit</th>\n",
       "    </tr>\n",
       "  </thead>\n",
       "  <tbody>\n",
       "    <tr>\n",
       "      <th>9</th>\n",
       "      <td>Printers</td>\n",
       "      <td>8606</td>\n",
       "    </tr>\n",
       "    <tr>\n",
       "      <th>1</th>\n",
       "      <td>Bookcases</td>\n",
       "      <td>6516</td>\n",
       "    </tr>\n",
       "    <tr>\n",
       "      <th>10</th>\n",
       "      <td>Saree</td>\n",
       "      <td>4057</td>\n",
       "    </tr>\n",
       "    <tr>\n",
       "      <th>0</th>\n",
       "      <td>Accessories</td>\n",
       "      <td>3353</td>\n",
       "    </tr>\n",
       "    <tr>\n",
       "      <th>15</th>\n",
       "      <td>Tables</td>\n",
       "      <td>3139</td>\n",
       "    </tr>\n",
       "  </tbody>\n",
       "</table>\n",
       "</div>"
      ],
      "text/plain": [
       "   Sub-Category  Profit\n",
       "9      Printers    8606\n",
       "1     Bookcases    6516\n",
       "10        Saree    4057\n",
       "0   Accessories    3353\n",
       "15       Tables    3139"
      ]
     },
     "execution_count": 60,
     "metadata": {},
     "output_type": "execute_result"
    }
   ],
   "source": [
    "profit_by_sub_cat = new_df.groupby('Sub-Category')['Profit'].sum().reset_index().sort_values(by='Profit', ascending=False).head(5)\n",
    "profit_by_sub_cat"
   ]
  },
  {
   "cell_type": "code",
   "execution_count": 64,
   "metadata": {},
   "outputs": [
    {
     "data": {
      "application/vnd.plotly.v1+json": {
       "config": {
        "plotlyServerURL": "https://plot.ly"
       },
       "data": [
        {
         "alignmentgroup": "True",
         "hovertemplate": "Sub-Category=%{y}<br>Profit=%{x}<extra></extra>",
         "legendgroup": "Printers",
         "marker": {
          "color": "#636efa",
          "pattern": {
           "shape": ""
          }
         },
         "name": "Printers",
         "offsetgroup": "Printers",
         "orientation": "h",
         "showlegend": true,
         "textposition": "auto",
         "type": "bar",
         "x": [
          8606
         ],
         "xaxis": "x",
         "y": [
          "Printers"
         ],
         "yaxis": "y"
        },
        {
         "alignmentgroup": "True",
         "hovertemplate": "Sub-Category=%{y}<br>Profit=%{x}<extra></extra>",
         "legendgroup": "Bookcases",
         "marker": {
          "color": "#EF553B",
          "pattern": {
           "shape": ""
          }
         },
         "name": "Bookcases",
         "offsetgroup": "Bookcases",
         "orientation": "h",
         "showlegend": true,
         "textposition": "auto",
         "type": "bar",
         "x": [
          6516
         ],
         "xaxis": "x",
         "y": [
          "Bookcases"
         ],
         "yaxis": "y"
        },
        {
         "alignmentgroup": "True",
         "hovertemplate": "Sub-Category=%{y}<br>Profit=%{x}<extra></extra>",
         "legendgroup": "Saree",
         "marker": {
          "color": "#00cc96",
          "pattern": {
           "shape": ""
          }
         },
         "name": "Saree",
         "offsetgroup": "Saree",
         "orientation": "h",
         "showlegend": true,
         "textposition": "auto",
         "type": "bar",
         "x": [
          4057
         ],
         "xaxis": "x",
         "y": [
          "Saree"
         ],
         "yaxis": "y"
        },
        {
         "alignmentgroup": "True",
         "hovertemplate": "Sub-Category=%{y}<br>Profit=%{x}<extra></extra>",
         "legendgroup": "Accessories",
         "marker": {
          "color": "#ab63fa",
          "pattern": {
           "shape": ""
          }
         },
         "name": "Accessories",
         "offsetgroup": "Accessories",
         "orientation": "h",
         "showlegend": true,
         "textposition": "auto",
         "type": "bar",
         "x": [
          3353
         ],
         "xaxis": "x",
         "y": [
          "Accessories"
         ],
         "yaxis": "y"
        },
        {
         "alignmentgroup": "True",
         "hovertemplate": "Sub-Category=%{y}<br>Profit=%{x}<extra></extra>",
         "legendgroup": "Tables",
         "marker": {
          "color": "#FFA15A",
          "pattern": {
           "shape": ""
          }
         },
         "name": "Tables",
         "offsetgroup": "Tables",
         "orientation": "h",
         "showlegend": true,
         "textposition": "auto",
         "type": "bar",
         "x": [
          3139
         ],
         "xaxis": "x",
         "y": [
          "Tables"
         ],
         "yaxis": "y"
        }
       ],
       "layout": {
        "barmode": "relative",
        "legend": {
         "title": {
          "text": "Sub-Category"
         },
         "tracegroupgap": 0
        },
        "margin": {
         "t": 60
        },
        "template": {
         "data": {
          "bar": [
           {
            "error_x": {
             "color": "#2a3f5f"
            },
            "error_y": {
             "color": "#2a3f5f"
            },
            "marker": {
             "line": {
              "color": "#E5ECF6",
              "width": 0.5
             },
             "pattern": {
              "fillmode": "overlay",
              "size": 10,
              "solidity": 0.2
             }
            },
            "type": "bar"
           }
          ],
          "barpolar": [
           {
            "marker": {
             "line": {
              "color": "#E5ECF6",
              "width": 0.5
             },
             "pattern": {
              "fillmode": "overlay",
              "size": 10,
              "solidity": 0.2
             }
            },
            "type": "barpolar"
           }
          ],
          "carpet": [
           {
            "aaxis": {
             "endlinecolor": "#2a3f5f",
             "gridcolor": "white",
             "linecolor": "white",
             "minorgridcolor": "white",
             "startlinecolor": "#2a3f5f"
            },
            "baxis": {
             "endlinecolor": "#2a3f5f",
             "gridcolor": "white",
             "linecolor": "white",
             "minorgridcolor": "white",
             "startlinecolor": "#2a3f5f"
            },
            "type": "carpet"
           }
          ],
          "choropleth": [
           {
            "colorbar": {
             "outlinewidth": 0,
             "ticks": ""
            },
            "type": "choropleth"
           }
          ],
          "contour": [
           {
            "colorbar": {
             "outlinewidth": 0,
             "ticks": ""
            },
            "colorscale": [
             [
              0,
              "#0d0887"
             ],
             [
              0.1111111111111111,
              "#46039f"
             ],
             [
              0.2222222222222222,
              "#7201a8"
             ],
             [
              0.3333333333333333,
              "#9c179e"
             ],
             [
              0.4444444444444444,
              "#bd3786"
             ],
             [
              0.5555555555555556,
              "#d8576b"
             ],
             [
              0.6666666666666666,
              "#ed7953"
             ],
             [
              0.7777777777777778,
              "#fb9f3a"
             ],
             [
              0.8888888888888888,
              "#fdca26"
             ],
             [
              1,
              "#f0f921"
             ]
            ],
            "type": "contour"
           }
          ],
          "contourcarpet": [
           {
            "colorbar": {
             "outlinewidth": 0,
             "ticks": ""
            },
            "type": "contourcarpet"
           }
          ],
          "heatmap": [
           {
            "colorbar": {
             "outlinewidth": 0,
             "ticks": ""
            },
            "colorscale": [
             [
              0,
              "#0d0887"
             ],
             [
              0.1111111111111111,
              "#46039f"
             ],
             [
              0.2222222222222222,
              "#7201a8"
             ],
             [
              0.3333333333333333,
              "#9c179e"
             ],
             [
              0.4444444444444444,
              "#bd3786"
             ],
             [
              0.5555555555555556,
              "#d8576b"
             ],
             [
              0.6666666666666666,
              "#ed7953"
             ],
             [
              0.7777777777777778,
              "#fb9f3a"
             ],
             [
              0.8888888888888888,
              "#fdca26"
             ],
             [
              1,
              "#f0f921"
             ]
            ],
            "type": "heatmap"
           }
          ],
          "heatmapgl": [
           {
            "colorbar": {
             "outlinewidth": 0,
             "ticks": ""
            },
            "colorscale": [
             [
              0,
              "#0d0887"
             ],
             [
              0.1111111111111111,
              "#46039f"
             ],
             [
              0.2222222222222222,
              "#7201a8"
             ],
             [
              0.3333333333333333,
              "#9c179e"
             ],
             [
              0.4444444444444444,
              "#bd3786"
             ],
             [
              0.5555555555555556,
              "#d8576b"
             ],
             [
              0.6666666666666666,
              "#ed7953"
             ],
             [
              0.7777777777777778,
              "#fb9f3a"
             ],
             [
              0.8888888888888888,
              "#fdca26"
             ],
             [
              1,
              "#f0f921"
             ]
            ],
            "type": "heatmapgl"
           }
          ],
          "histogram": [
           {
            "marker": {
             "pattern": {
              "fillmode": "overlay",
              "size": 10,
              "solidity": 0.2
             }
            },
            "type": "histogram"
           }
          ],
          "histogram2d": [
           {
            "colorbar": {
             "outlinewidth": 0,
             "ticks": ""
            },
            "colorscale": [
             [
              0,
              "#0d0887"
             ],
             [
              0.1111111111111111,
              "#46039f"
             ],
             [
              0.2222222222222222,
              "#7201a8"
             ],
             [
              0.3333333333333333,
              "#9c179e"
             ],
             [
              0.4444444444444444,
              "#bd3786"
             ],
             [
              0.5555555555555556,
              "#d8576b"
             ],
             [
              0.6666666666666666,
              "#ed7953"
             ],
             [
              0.7777777777777778,
              "#fb9f3a"
             ],
             [
              0.8888888888888888,
              "#fdca26"
             ],
             [
              1,
              "#f0f921"
             ]
            ],
            "type": "histogram2d"
           }
          ],
          "histogram2dcontour": [
           {
            "colorbar": {
             "outlinewidth": 0,
             "ticks": ""
            },
            "colorscale": [
             [
              0,
              "#0d0887"
             ],
             [
              0.1111111111111111,
              "#46039f"
             ],
             [
              0.2222222222222222,
              "#7201a8"
             ],
             [
              0.3333333333333333,
              "#9c179e"
             ],
             [
              0.4444444444444444,
              "#bd3786"
             ],
             [
              0.5555555555555556,
              "#d8576b"
             ],
             [
              0.6666666666666666,
              "#ed7953"
             ],
             [
              0.7777777777777778,
              "#fb9f3a"
             ],
             [
              0.8888888888888888,
              "#fdca26"
             ],
             [
              1,
              "#f0f921"
             ]
            ],
            "type": "histogram2dcontour"
           }
          ],
          "mesh3d": [
           {
            "colorbar": {
             "outlinewidth": 0,
             "ticks": ""
            },
            "type": "mesh3d"
           }
          ],
          "parcoords": [
           {
            "line": {
             "colorbar": {
              "outlinewidth": 0,
              "ticks": ""
             }
            },
            "type": "parcoords"
           }
          ],
          "pie": [
           {
            "automargin": true,
            "type": "pie"
           }
          ],
          "scatter": [
           {
            "fillpattern": {
             "fillmode": "overlay",
             "size": 10,
             "solidity": 0.2
            },
            "type": "scatter"
           }
          ],
          "scatter3d": [
           {
            "line": {
             "colorbar": {
              "outlinewidth": 0,
              "ticks": ""
             }
            },
            "marker": {
             "colorbar": {
              "outlinewidth": 0,
              "ticks": ""
             }
            },
            "type": "scatter3d"
           }
          ],
          "scattercarpet": [
           {
            "marker": {
             "colorbar": {
              "outlinewidth": 0,
              "ticks": ""
             }
            },
            "type": "scattercarpet"
           }
          ],
          "scattergeo": [
           {
            "marker": {
             "colorbar": {
              "outlinewidth": 0,
              "ticks": ""
             }
            },
            "type": "scattergeo"
           }
          ],
          "scattergl": [
           {
            "marker": {
             "colorbar": {
              "outlinewidth": 0,
              "ticks": ""
             }
            },
            "type": "scattergl"
           }
          ],
          "scattermapbox": [
           {
            "marker": {
             "colorbar": {
              "outlinewidth": 0,
              "ticks": ""
             }
            },
            "type": "scattermapbox"
           }
          ],
          "scatterpolar": [
           {
            "marker": {
             "colorbar": {
              "outlinewidth": 0,
              "ticks": ""
             }
            },
            "type": "scatterpolar"
           }
          ],
          "scatterpolargl": [
           {
            "marker": {
             "colorbar": {
              "outlinewidth": 0,
              "ticks": ""
             }
            },
            "type": "scatterpolargl"
           }
          ],
          "scatterternary": [
           {
            "marker": {
             "colorbar": {
              "outlinewidth": 0,
              "ticks": ""
             }
            },
            "type": "scatterternary"
           }
          ],
          "surface": [
           {
            "colorbar": {
             "outlinewidth": 0,
             "ticks": ""
            },
            "colorscale": [
             [
              0,
              "#0d0887"
             ],
             [
              0.1111111111111111,
              "#46039f"
             ],
             [
              0.2222222222222222,
              "#7201a8"
             ],
             [
              0.3333333333333333,
              "#9c179e"
             ],
             [
              0.4444444444444444,
              "#bd3786"
             ],
             [
              0.5555555555555556,
              "#d8576b"
             ],
             [
              0.6666666666666666,
              "#ed7953"
             ],
             [
              0.7777777777777778,
              "#fb9f3a"
             ],
             [
              0.8888888888888888,
              "#fdca26"
             ],
             [
              1,
              "#f0f921"
             ]
            ],
            "type": "surface"
           }
          ],
          "table": [
           {
            "cells": {
             "fill": {
              "color": "#EBF0F8"
             },
             "line": {
              "color": "white"
             }
            },
            "header": {
             "fill": {
              "color": "#C8D4E3"
             },
             "line": {
              "color": "white"
             }
            },
            "type": "table"
           }
          ]
         },
         "layout": {
          "annotationdefaults": {
           "arrowcolor": "#2a3f5f",
           "arrowhead": 0,
           "arrowwidth": 1
          },
          "autotypenumbers": "strict",
          "coloraxis": {
           "colorbar": {
            "outlinewidth": 0,
            "ticks": ""
           }
          },
          "colorscale": {
           "diverging": [
            [
             0,
             "#8e0152"
            ],
            [
             0.1,
             "#c51b7d"
            ],
            [
             0.2,
             "#de77ae"
            ],
            [
             0.3,
             "#f1b6da"
            ],
            [
             0.4,
             "#fde0ef"
            ],
            [
             0.5,
             "#f7f7f7"
            ],
            [
             0.6,
             "#e6f5d0"
            ],
            [
             0.7,
             "#b8e186"
            ],
            [
             0.8,
             "#7fbc41"
            ],
            [
             0.9,
             "#4d9221"
            ],
            [
             1,
             "#276419"
            ]
           ],
           "sequential": [
            [
             0,
             "#0d0887"
            ],
            [
             0.1111111111111111,
             "#46039f"
            ],
            [
             0.2222222222222222,
             "#7201a8"
            ],
            [
             0.3333333333333333,
             "#9c179e"
            ],
            [
             0.4444444444444444,
             "#bd3786"
            ],
            [
             0.5555555555555556,
             "#d8576b"
            ],
            [
             0.6666666666666666,
             "#ed7953"
            ],
            [
             0.7777777777777778,
             "#fb9f3a"
            ],
            [
             0.8888888888888888,
             "#fdca26"
            ],
            [
             1,
             "#f0f921"
            ]
           ],
           "sequentialminus": [
            [
             0,
             "#0d0887"
            ],
            [
             0.1111111111111111,
             "#46039f"
            ],
            [
             0.2222222222222222,
             "#7201a8"
            ],
            [
             0.3333333333333333,
             "#9c179e"
            ],
            [
             0.4444444444444444,
             "#bd3786"
            ],
            [
             0.5555555555555556,
             "#d8576b"
            ],
            [
             0.6666666666666666,
             "#ed7953"
            ],
            [
             0.7777777777777778,
             "#fb9f3a"
            ],
            [
             0.8888888888888888,
             "#fdca26"
            ],
            [
             1,
             "#f0f921"
            ]
           ]
          },
          "colorway": [
           "#636efa",
           "#EF553B",
           "#00cc96",
           "#ab63fa",
           "#FFA15A",
           "#19d3f3",
           "#FF6692",
           "#B6E880",
           "#FF97FF",
           "#FECB52"
          ],
          "font": {
           "color": "#2a3f5f"
          },
          "geo": {
           "bgcolor": "white",
           "lakecolor": "white",
           "landcolor": "#E5ECF6",
           "showlakes": true,
           "showland": true,
           "subunitcolor": "white"
          },
          "hoverlabel": {
           "align": "left"
          },
          "hovermode": "closest",
          "mapbox": {
           "style": "light"
          },
          "paper_bgcolor": "white",
          "plot_bgcolor": "#E5ECF6",
          "polar": {
           "angularaxis": {
            "gridcolor": "white",
            "linecolor": "white",
            "ticks": ""
           },
           "bgcolor": "#E5ECF6",
           "radialaxis": {
            "gridcolor": "white",
            "linecolor": "white",
            "ticks": ""
           }
          },
          "scene": {
           "xaxis": {
            "backgroundcolor": "#E5ECF6",
            "gridcolor": "white",
            "gridwidth": 2,
            "linecolor": "white",
            "showbackground": true,
            "ticks": "",
            "zerolinecolor": "white"
           },
           "yaxis": {
            "backgroundcolor": "#E5ECF6",
            "gridcolor": "white",
            "gridwidth": 2,
            "linecolor": "white",
            "showbackground": true,
            "ticks": "",
            "zerolinecolor": "white"
           },
           "zaxis": {
            "backgroundcolor": "#E5ECF6",
            "gridcolor": "white",
            "gridwidth": 2,
            "linecolor": "white",
            "showbackground": true,
            "ticks": "",
            "zerolinecolor": "white"
           }
          },
          "shapedefaults": {
           "line": {
            "color": "#2a3f5f"
           }
          },
          "ternary": {
           "aaxis": {
            "gridcolor": "white",
            "linecolor": "white",
            "ticks": ""
           },
           "baxis": {
            "gridcolor": "white",
            "linecolor": "white",
            "ticks": ""
           },
           "bgcolor": "#E5ECF6",
           "caxis": {
            "gridcolor": "white",
            "linecolor": "white",
            "ticks": ""
           }
          },
          "title": {
           "x": 0.05
          },
          "xaxis": {
           "automargin": true,
           "gridcolor": "white",
           "linecolor": "white",
           "ticks": "",
           "title": {
            "standoff": 15
           },
           "zerolinecolor": "white",
           "zerolinewidth": 2
          },
          "yaxis": {
           "automargin": true,
           "gridcolor": "white",
           "linecolor": "white",
           "ticks": "",
           "title": {
            "standoff": 15
           },
           "zerolinecolor": "white",
           "zerolinewidth": 2
          }
         }
        },
        "title": {
         "text": "Profit by Sub-Category"
        },
        "xaxis": {
         "anchor": "y",
         "domain": [
          0,
          1
         ],
         "title": {
          "text": "Profit"
         }
        },
        "yaxis": {
         "anchor": "x",
         "categoryarray": [
          "Tables",
          "Accessories",
          "Saree",
          "Bookcases",
          "Printers"
         ],
         "categoryorder": "array",
         "domain": [
          0,
          1
         ],
         "title": {
          "text": "Sub-Category"
         }
        }
       }
      }
     },
     "metadata": {},
     "output_type": "display_data"
    }
   ],
   "source": [
    "fig = px.bar(data_frame=profit_by_sub_cat, x='Profit', y='Sub-Category', orientation='h', color='Sub-Category')\n",
    "fig.update_layout(title='Profit by Sub-Category')\n",
    "fig.show()"
   ]
  },
  {
   "cell_type": "markdown",
   "metadata": {},
   "source": [
    "# Total Quantity by Categoty"
   ]
  },
  {
   "cell_type": "code",
   "execution_count": 78,
   "metadata": {},
   "outputs": [
    {
     "data": {
      "text/html": [
       "<div>\n",
       "<style scoped>\n",
       "    .dataframe tbody tr th:only-of-type {\n",
       "        vertical-align: middle;\n",
       "    }\n",
       "\n",
       "    .dataframe tbody tr th {\n",
       "        vertical-align: top;\n",
       "    }\n",
       "\n",
       "    .dataframe thead th {\n",
       "        text-align: right;\n",
       "    }\n",
       "</style>\n",
       "<table border=\"1\" class=\"dataframe\">\n",
       "  <thead>\n",
       "    <tr style=\"text-align: right;\">\n",
       "      <th></th>\n",
       "      <th>Category</th>\n",
       "      <th>Quantity</th>\n",
       "    </tr>\n",
       "  </thead>\n",
       "  <tbody>\n",
       "    <tr>\n",
       "      <th>0</th>\n",
       "      <td>Clothing</td>\n",
       "      <td>3516</td>\n",
       "    </tr>\n",
       "    <tr>\n",
       "      <th>1</th>\n",
       "      <td>Electronics</td>\n",
       "      <td>1154</td>\n",
       "    </tr>\n",
       "    <tr>\n",
       "      <th>2</th>\n",
       "      <td>Furniture</td>\n",
       "      <td>945</td>\n",
       "    </tr>\n",
       "  </tbody>\n",
       "</table>\n",
       "</div>"
      ],
      "text/plain": [
       "      Category  Quantity\n",
       "0     Clothing      3516\n",
       "1  Electronics      1154\n",
       "2    Furniture       945"
      ]
     },
     "execution_count": 78,
     "metadata": {},
     "output_type": "execute_result"
    }
   ],
   "source": [
    "quantity_by_category = new_df.groupby('Category')['Quantity'].sum().reset_index()\n",
    "quantity_by_category"
   ]
  },
  {
   "cell_type": "code",
   "execution_count": 97,
   "metadata": {},
   "outputs": [
    {
     "data": {
      "application/vnd.plotly.v1+json": {
       "config": {
        "plotlyServerURL": "https://plot.ly"
       },
       "data": [
        {
         "domain": {
          "x": [
           0,
           1
          ],
          "y": [
           0,
           1
          ]
         },
         "hole": 0.5,
         "hoverinfo": "label+value",
         "hovertemplate": "Category=%{label}<br>Quantity=%{value}<extra></extra>",
         "labels": [
          "Clothing",
          "Electronics",
          "Furniture"
         ],
         "legendgroup": "",
         "name": "",
         "showlegend": true,
         "textinfo": "percent+label",
         "type": "pie",
         "values": [
          3516,
          1154,
          945
         ]
        }
       ],
       "layout": {
        "autosize": false,
        "height": 500,
        "legend": {
         "tracegroupgap": 0
        },
        "margin": {
         "t": 60
        },
        "piecolorway": [
         "rgb(112, 40, 74)",
         "rgb(156, 63, 93)",
         "rgb(200, 88, 108)",
         "rgb(220, 113, 118)",
         "rgb(238, 138, 130)",
         "rgb(245, 186, 152)",
         "rgb(251, 230, 197)"
        ],
        "template": {
         "data": {
          "bar": [
           {
            "error_x": {
             "color": "#2a3f5f"
            },
            "error_y": {
             "color": "#2a3f5f"
            },
            "marker": {
             "line": {
              "color": "#E5ECF6",
              "width": 0.5
             },
             "pattern": {
              "fillmode": "overlay",
              "size": 10,
              "solidity": 0.2
             }
            },
            "type": "bar"
           }
          ],
          "barpolar": [
           {
            "marker": {
             "line": {
              "color": "#E5ECF6",
              "width": 0.5
             },
             "pattern": {
              "fillmode": "overlay",
              "size": 10,
              "solidity": 0.2
             }
            },
            "type": "barpolar"
           }
          ],
          "carpet": [
           {
            "aaxis": {
             "endlinecolor": "#2a3f5f",
             "gridcolor": "white",
             "linecolor": "white",
             "minorgridcolor": "white",
             "startlinecolor": "#2a3f5f"
            },
            "baxis": {
             "endlinecolor": "#2a3f5f",
             "gridcolor": "white",
             "linecolor": "white",
             "minorgridcolor": "white",
             "startlinecolor": "#2a3f5f"
            },
            "type": "carpet"
           }
          ],
          "choropleth": [
           {
            "colorbar": {
             "outlinewidth": 0,
             "ticks": ""
            },
            "type": "choropleth"
           }
          ],
          "contour": [
           {
            "colorbar": {
             "outlinewidth": 0,
             "ticks": ""
            },
            "colorscale": [
             [
              0,
              "#0d0887"
             ],
             [
              0.1111111111111111,
              "#46039f"
             ],
             [
              0.2222222222222222,
              "#7201a8"
             ],
             [
              0.3333333333333333,
              "#9c179e"
             ],
             [
              0.4444444444444444,
              "#bd3786"
             ],
             [
              0.5555555555555556,
              "#d8576b"
             ],
             [
              0.6666666666666666,
              "#ed7953"
             ],
             [
              0.7777777777777778,
              "#fb9f3a"
             ],
             [
              0.8888888888888888,
              "#fdca26"
             ],
             [
              1,
              "#f0f921"
             ]
            ],
            "type": "contour"
           }
          ],
          "contourcarpet": [
           {
            "colorbar": {
             "outlinewidth": 0,
             "ticks": ""
            },
            "type": "contourcarpet"
           }
          ],
          "heatmap": [
           {
            "colorbar": {
             "outlinewidth": 0,
             "ticks": ""
            },
            "colorscale": [
             [
              0,
              "#0d0887"
             ],
             [
              0.1111111111111111,
              "#46039f"
             ],
             [
              0.2222222222222222,
              "#7201a8"
             ],
             [
              0.3333333333333333,
              "#9c179e"
             ],
             [
              0.4444444444444444,
              "#bd3786"
             ],
             [
              0.5555555555555556,
              "#d8576b"
             ],
             [
              0.6666666666666666,
              "#ed7953"
             ],
             [
              0.7777777777777778,
              "#fb9f3a"
             ],
             [
              0.8888888888888888,
              "#fdca26"
             ],
             [
              1,
              "#f0f921"
             ]
            ],
            "type": "heatmap"
           }
          ],
          "heatmapgl": [
           {
            "colorbar": {
             "outlinewidth": 0,
             "ticks": ""
            },
            "colorscale": [
             [
              0,
              "#0d0887"
             ],
             [
              0.1111111111111111,
              "#46039f"
             ],
             [
              0.2222222222222222,
              "#7201a8"
             ],
             [
              0.3333333333333333,
              "#9c179e"
             ],
             [
              0.4444444444444444,
              "#bd3786"
             ],
             [
              0.5555555555555556,
              "#d8576b"
             ],
             [
              0.6666666666666666,
              "#ed7953"
             ],
             [
              0.7777777777777778,
              "#fb9f3a"
             ],
             [
              0.8888888888888888,
              "#fdca26"
             ],
             [
              1,
              "#f0f921"
             ]
            ],
            "type": "heatmapgl"
           }
          ],
          "histogram": [
           {
            "marker": {
             "pattern": {
              "fillmode": "overlay",
              "size": 10,
              "solidity": 0.2
             }
            },
            "type": "histogram"
           }
          ],
          "histogram2d": [
           {
            "colorbar": {
             "outlinewidth": 0,
             "ticks": ""
            },
            "colorscale": [
             [
              0,
              "#0d0887"
             ],
             [
              0.1111111111111111,
              "#46039f"
             ],
             [
              0.2222222222222222,
              "#7201a8"
             ],
             [
              0.3333333333333333,
              "#9c179e"
             ],
             [
              0.4444444444444444,
              "#bd3786"
             ],
             [
              0.5555555555555556,
              "#d8576b"
             ],
             [
              0.6666666666666666,
              "#ed7953"
             ],
             [
              0.7777777777777778,
              "#fb9f3a"
             ],
             [
              0.8888888888888888,
              "#fdca26"
             ],
             [
              1,
              "#f0f921"
             ]
            ],
            "type": "histogram2d"
           }
          ],
          "histogram2dcontour": [
           {
            "colorbar": {
             "outlinewidth": 0,
             "ticks": ""
            },
            "colorscale": [
             [
              0,
              "#0d0887"
             ],
             [
              0.1111111111111111,
              "#46039f"
             ],
             [
              0.2222222222222222,
              "#7201a8"
             ],
             [
              0.3333333333333333,
              "#9c179e"
             ],
             [
              0.4444444444444444,
              "#bd3786"
             ],
             [
              0.5555555555555556,
              "#d8576b"
             ],
             [
              0.6666666666666666,
              "#ed7953"
             ],
             [
              0.7777777777777778,
              "#fb9f3a"
             ],
             [
              0.8888888888888888,
              "#fdca26"
             ],
             [
              1,
              "#f0f921"
             ]
            ],
            "type": "histogram2dcontour"
           }
          ],
          "mesh3d": [
           {
            "colorbar": {
             "outlinewidth": 0,
             "ticks": ""
            },
            "type": "mesh3d"
           }
          ],
          "parcoords": [
           {
            "line": {
             "colorbar": {
              "outlinewidth": 0,
              "ticks": ""
             }
            },
            "type": "parcoords"
           }
          ],
          "pie": [
           {
            "automargin": true,
            "type": "pie"
           }
          ],
          "scatter": [
           {
            "fillpattern": {
             "fillmode": "overlay",
             "size": 10,
             "solidity": 0.2
            },
            "type": "scatter"
           }
          ],
          "scatter3d": [
           {
            "line": {
             "colorbar": {
              "outlinewidth": 0,
              "ticks": ""
             }
            },
            "marker": {
             "colorbar": {
              "outlinewidth": 0,
              "ticks": ""
             }
            },
            "type": "scatter3d"
           }
          ],
          "scattercarpet": [
           {
            "marker": {
             "colorbar": {
              "outlinewidth": 0,
              "ticks": ""
             }
            },
            "type": "scattercarpet"
           }
          ],
          "scattergeo": [
           {
            "marker": {
             "colorbar": {
              "outlinewidth": 0,
              "ticks": ""
             }
            },
            "type": "scattergeo"
           }
          ],
          "scattergl": [
           {
            "marker": {
             "colorbar": {
              "outlinewidth": 0,
              "ticks": ""
             }
            },
            "type": "scattergl"
           }
          ],
          "scattermapbox": [
           {
            "marker": {
             "colorbar": {
              "outlinewidth": 0,
              "ticks": ""
             }
            },
            "type": "scattermapbox"
           }
          ],
          "scatterpolar": [
           {
            "marker": {
             "colorbar": {
              "outlinewidth": 0,
              "ticks": ""
             }
            },
            "type": "scatterpolar"
           }
          ],
          "scatterpolargl": [
           {
            "marker": {
             "colorbar": {
              "outlinewidth": 0,
              "ticks": ""
             }
            },
            "type": "scatterpolargl"
           }
          ],
          "scatterternary": [
           {
            "marker": {
             "colorbar": {
              "outlinewidth": 0,
              "ticks": ""
             }
            },
            "type": "scatterternary"
           }
          ],
          "surface": [
           {
            "colorbar": {
             "outlinewidth": 0,
             "ticks": ""
            },
            "colorscale": [
             [
              0,
              "#0d0887"
             ],
             [
              0.1111111111111111,
              "#46039f"
             ],
             [
              0.2222222222222222,
              "#7201a8"
             ],
             [
              0.3333333333333333,
              "#9c179e"
             ],
             [
              0.4444444444444444,
              "#bd3786"
             ],
             [
              0.5555555555555556,
              "#d8576b"
             ],
             [
              0.6666666666666666,
              "#ed7953"
             ],
             [
              0.7777777777777778,
              "#fb9f3a"
             ],
             [
              0.8888888888888888,
              "#fdca26"
             ],
             [
              1,
              "#f0f921"
             ]
            ],
            "type": "surface"
           }
          ],
          "table": [
           {
            "cells": {
             "fill": {
              "color": "#EBF0F8"
             },
             "line": {
              "color": "white"
             }
            },
            "header": {
             "fill": {
              "color": "#C8D4E3"
             },
             "line": {
              "color": "white"
             }
            },
            "type": "table"
           }
          ]
         },
         "layout": {
          "annotationdefaults": {
           "arrowcolor": "#2a3f5f",
           "arrowhead": 0,
           "arrowwidth": 1
          },
          "autotypenumbers": "strict",
          "coloraxis": {
           "colorbar": {
            "outlinewidth": 0,
            "ticks": ""
           }
          },
          "colorscale": {
           "diverging": [
            [
             0,
             "#8e0152"
            ],
            [
             0.1,
             "#c51b7d"
            ],
            [
             0.2,
             "#de77ae"
            ],
            [
             0.3,
             "#f1b6da"
            ],
            [
             0.4,
             "#fde0ef"
            ],
            [
             0.5,
             "#f7f7f7"
            ],
            [
             0.6,
             "#e6f5d0"
            ],
            [
             0.7,
             "#b8e186"
            ],
            [
             0.8,
             "#7fbc41"
            ],
            [
             0.9,
             "#4d9221"
            ],
            [
             1,
             "#276419"
            ]
           ],
           "sequential": [
            [
             0,
             "#0d0887"
            ],
            [
             0.1111111111111111,
             "#46039f"
            ],
            [
             0.2222222222222222,
             "#7201a8"
            ],
            [
             0.3333333333333333,
             "#9c179e"
            ],
            [
             0.4444444444444444,
             "#bd3786"
            ],
            [
             0.5555555555555556,
             "#d8576b"
            ],
            [
             0.6666666666666666,
             "#ed7953"
            ],
            [
             0.7777777777777778,
             "#fb9f3a"
            ],
            [
             0.8888888888888888,
             "#fdca26"
            ],
            [
             1,
             "#f0f921"
            ]
           ],
           "sequentialminus": [
            [
             0,
             "#0d0887"
            ],
            [
             0.1111111111111111,
             "#46039f"
            ],
            [
             0.2222222222222222,
             "#7201a8"
            ],
            [
             0.3333333333333333,
             "#9c179e"
            ],
            [
             0.4444444444444444,
             "#bd3786"
            ],
            [
             0.5555555555555556,
             "#d8576b"
            ],
            [
             0.6666666666666666,
             "#ed7953"
            ],
            [
             0.7777777777777778,
             "#fb9f3a"
            ],
            [
             0.8888888888888888,
             "#fdca26"
            ],
            [
             1,
             "#f0f921"
            ]
           ]
          },
          "colorway": [
           "#636efa",
           "#EF553B",
           "#00cc96",
           "#ab63fa",
           "#FFA15A",
           "#19d3f3",
           "#FF6692",
           "#B6E880",
           "#FF97FF",
           "#FECB52"
          ],
          "font": {
           "color": "#2a3f5f"
          },
          "geo": {
           "bgcolor": "white",
           "lakecolor": "white",
           "landcolor": "#E5ECF6",
           "showlakes": true,
           "showland": true,
           "subunitcolor": "white"
          },
          "hoverlabel": {
           "align": "left"
          },
          "hovermode": "closest",
          "mapbox": {
           "style": "light"
          },
          "paper_bgcolor": "white",
          "plot_bgcolor": "#E5ECF6",
          "polar": {
           "angularaxis": {
            "gridcolor": "white",
            "linecolor": "white",
            "ticks": ""
           },
           "bgcolor": "#E5ECF6",
           "radialaxis": {
            "gridcolor": "white",
            "linecolor": "white",
            "ticks": ""
           }
          },
          "scene": {
           "xaxis": {
            "backgroundcolor": "#E5ECF6",
            "gridcolor": "white",
            "gridwidth": 2,
            "linecolor": "white",
            "showbackground": true,
            "ticks": "",
            "zerolinecolor": "white"
           },
           "yaxis": {
            "backgroundcolor": "#E5ECF6",
            "gridcolor": "white",
            "gridwidth": 2,
            "linecolor": "white",
            "showbackground": true,
            "ticks": "",
            "zerolinecolor": "white"
           },
           "zaxis": {
            "backgroundcolor": "#E5ECF6",
            "gridcolor": "white",
            "gridwidth": 2,
            "linecolor": "white",
            "showbackground": true,
            "ticks": "",
            "zerolinecolor": "white"
           }
          },
          "shapedefaults": {
           "line": {
            "color": "#2a3f5f"
           }
          },
          "ternary": {
           "aaxis": {
            "gridcolor": "white",
            "linecolor": "white",
            "ticks": ""
           },
           "baxis": {
            "gridcolor": "white",
            "linecolor": "white",
            "ticks": ""
           },
           "bgcolor": "#E5ECF6",
           "caxis": {
            "gridcolor": "white",
            "linecolor": "white",
            "ticks": ""
           }
          },
          "title": {
           "x": 0.05
          },
          "xaxis": {
           "automargin": true,
           "gridcolor": "white",
           "linecolor": "white",
           "ticks": "",
           "title": {
            "standoff": 15
           },
           "zerolinecolor": "white",
           "zerolinewidth": 2
          },
          "yaxis": {
           "automargin": true,
           "gridcolor": "white",
           "linecolor": "white",
           "ticks": "",
           "title": {
            "standoff": 15
           },
           "zerolinecolor": "white",
           "zerolinewidth": 2
          }
         }
        },
        "title": {
         "text": "Total Quantity by Category"
        },
        "width": 800
       }
      }
     },
     "metadata": {},
     "output_type": "display_data"
    }
   ],
   "source": [
    "fig = px.pie(data_frame=quantity_by_category, names='Category', labels='Category', values='Quantity', hole=0.5, color_discrete_sequence=px.colors.sequential.Burgyl_r)\n",
    "fig.update_layout(title='Total Quantity by Category', autosize=False, height=500, width=800)\n",
    "fig.update_traces(textinfo='percent+label', hoverinfo='label+value')\n",
    "fig.show()"
   ]
  },
  {
   "cell_type": "markdown",
   "metadata": {},
   "source": [
    "# Sum of quantity by Payment Mode"
   ]
  },
  {
   "cell_type": "code",
   "execution_count": 96,
   "metadata": {},
   "outputs": [
    {
     "data": {
      "text/html": [
       "<div>\n",
       "<style scoped>\n",
       "    .dataframe tbody tr th:only-of-type {\n",
       "        vertical-align: middle;\n",
       "    }\n",
       "\n",
       "    .dataframe tbody tr th {\n",
       "        vertical-align: top;\n",
       "    }\n",
       "\n",
       "    .dataframe thead th {\n",
       "        text-align: right;\n",
       "    }\n",
       "</style>\n",
       "<table border=\"1\" class=\"dataframe\">\n",
       "  <thead>\n",
       "    <tr style=\"text-align: right;\">\n",
       "      <th></th>\n",
       "      <th>PaymentMode</th>\n",
       "      <th>Quantity</th>\n",
       "    </tr>\n",
       "  </thead>\n",
       "  <tbody>\n",
       "    <tr>\n",
       "      <th>0</th>\n",
       "      <td>COD</td>\n",
       "      <td>2456</td>\n",
       "    </tr>\n",
       "    <tr>\n",
       "      <th>1</th>\n",
       "      <td>Credit Card</td>\n",
       "      <td>672</td>\n",
       "    </tr>\n",
       "    <tr>\n",
       "      <th>2</th>\n",
       "      <td>Debit Card</td>\n",
       "      <td>741</td>\n",
       "    </tr>\n",
       "    <tr>\n",
       "      <th>3</th>\n",
       "      <td>EMI</td>\n",
       "      <td>589</td>\n",
       "    </tr>\n",
       "    <tr>\n",
       "      <th>4</th>\n",
       "      <td>UPI</td>\n",
       "      <td>1157</td>\n",
       "    </tr>\n",
       "  </tbody>\n",
       "</table>\n",
       "</div>"
      ],
      "text/plain": [
       "   PaymentMode  Quantity\n",
       "0          COD      2456\n",
       "1  Credit Card       672\n",
       "2   Debit Card       741\n",
       "3          EMI       589\n",
       "4          UPI      1157"
      ]
     },
     "execution_count": 96,
     "metadata": {},
     "output_type": "execute_result"
    }
   ],
   "source": [
    "quan_by_pay_mode = new_df.groupby('PaymentMode')['Quantity'].sum().reset_index()\n",
    "quan_by_pay_mode"
   ]
  },
  {
   "cell_type": "code",
   "execution_count": 103,
   "metadata": {},
   "outputs": [
    {
     "data": {
      "application/vnd.plotly.v1+json": {
       "config": {
        "plotlyServerURL": "https://plot.ly"
       },
       "data": [
        {
         "domain": {
          "x": [
           0,
           1
          ],
          "y": [
           0,
           1
          ]
         },
         "hole": 0.5,
         "hoverinfo": "label+value",
         "hovertemplate": "PaymentMode=%{label}<br>Quantity=%{value}<extra></extra>",
         "labels": [
          "COD",
          "Credit Card",
          "Debit Card",
          "EMI",
          "UPI"
         ],
         "legendgroup": "",
         "name": "",
         "showlegend": true,
         "textinfo": "percent+label",
         "type": "pie",
         "values": [
          2456,
          672,
          741,
          589,
          1157
         ]
        }
       ],
       "layout": {
        "autosize": false,
        "height": 500,
        "legend": {
         "tracegroupgap": 0
        },
        "margin": {
         "t": 60
        },
        "piecolorway": [
         "rgb(36, 86, 104)",
         "rgb(15, 114, 121)",
         "rgb(13, 143, 129)",
         "rgb(57, 171, 126)",
         "rgb(110, 197, 116)",
         "rgb(169, 220, 103)",
         "rgb(237, 239, 93)"
        ],
        "template": {
         "data": {
          "bar": [
           {
            "error_x": {
             "color": "#2a3f5f"
            },
            "error_y": {
             "color": "#2a3f5f"
            },
            "marker": {
             "line": {
              "color": "#E5ECF6",
              "width": 0.5
             },
             "pattern": {
              "fillmode": "overlay",
              "size": 10,
              "solidity": 0.2
             }
            },
            "type": "bar"
           }
          ],
          "barpolar": [
           {
            "marker": {
             "line": {
              "color": "#E5ECF6",
              "width": 0.5
             },
             "pattern": {
              "fillmode": "overlay",
              "size": 10,
              "solidity": 0.2
             }
            },
            "type": "barpolar"
           }
          ],
          "carpet": [
           {
            "aaxis": {
             "endlinecolor": "#2a3f5f",
             "gridcolor": "white",
             "linecolor": "white",
             "minorgridcolor": "white",
             "startlinecolor": "#2a3f5f"
            },
            "baxis": {
             "endlinecolor": "#2a3f5f",
             "gridcolor": "white",
             "linecolor": "white",
             "minorgridcolor": "white",
             "startlinecolor": "#2a3f5f"
            },
            "type": "carpet"
           }
          ],
          "choropleth": [
           {
            "colorbar": {
             "outlinewidth": 0,
             "ticks": ""
            },
            "type": "choropleth"
           }
          ],
          "contour": [
           {
            "colorbar": {
             "outlinewidth": 0,
             "ticks": ""
            },
            "colorscale": [
             [
              0,
              "#0d0887"
             ],
             [
              0.1111111111111111,
              "#46039f"
             ],
             [
              0.2222222222222222,
              "#7201a8"
             ],
             [
              0.3333333333333333,
              "#9c179e"
             ],
             [
              0.4444444444444444,
              "#bd3786"
             ],
             [
              0.5555555555555556,
              "#d8576b"
             ],
             [
              0.6666666666666666,
              "#ed7953"
             ],
             [
              0.7777777777777778,
              "#fb9f3a"
             ],
             [
              0.8888888888888888,
              "#fdca26"
             ],
             [
              1,
              "#f0f921"
             ]
            ],
            "type": "contour"
           }
          ],
          "contourcarpet": [
           {
            "colorbar": {
             "outlinewidth": 0,
             "ticks": ""
            },
            "type": "contourcarpet"
           }
          ],
          "heatmap": [
           {
            "colorbar": {
             "outlinewidth": 0,
             "ticks": ""
            },
            "colorscale": [
             [
              0,
              "#0d0887"
             ],
             [
              0.1111111111111111,
              "#46039f"
             ],
             [
              0.2222222222222222,
              "#7201a8"
             ],
             [
              0.3333333333333333,
              "#9c179e"
             ],
             [
              0.4444444444444444,
              "#bd3786"
             ],
             [
              0.5555555555555556,
              "#d8576b"
             ],
             [
              0.6666666666666666,
              "#ed7953"
             ],
             [
              0.7777777777777778,
              "#fb9f3a"
             ],
             [
              0.8888888888888888,
              "#fdca26"
             ],
             [
              1,
              "#f0f921"
             ]
            ],
            "type": "heatmap"
           }
          ],
          "heatmapgl": [
           {
            "colorbar": {
             "outlinewidth": 0,
             "ticks": ""
            },
            "colorscale": [
             [
              0,
              "#0d0887"
             ],
             [
              0.1111111111111111,
              "#46039f"
             ],
             [
              0.2222222222222222,
              "#7201a8"
             ],
             [
              0.3333333333333333,
              "#9c179e"
             ],
             [
              0.4444444444444444,
              "#bd3786"
             ],
             [
              0.5555555555555556,
              "#d8576b"
             ],
             [
              0.6666666666666666,
              "#ed7953"
             ],
             [
              0.7777777777777778,
              "#fb9f3a"
             ],
             [
              0.8888888888888888,
              "#fdca26"
             ],
             [
              1,
              "#f0f921"
             ]
            ],
            "type": "heatmapgl"
           }
          ],
          "histogram": [
           {
            "marker": {
             "pattern": {
              "fillmode": "overlay",
              "size": 10,
              "solidity": 0.2
             }
            },
            "type": "histogram"
           }
          ],
          "histogram2d": [
           {
            "colorbar": {
             "outlinewidth": 0,
             "ticks": ""
            },
            "colorscale": [
             [
              0,
              "#0d0887"
             ],
             [
              0.1111111111111111,
              "#46039f"
             ],
             [
              0.2222222222222222,
              "#7201a8"
             ],
             [
              0.3333333333333333,
              "#9c179e"
             ],
             [
              0.4444444444444444,
              "#bd3786"
             ],
             [
              0.5555555555555556,
              "#d8576b"
             ],
             [
              0.6666666666666666,
              "#ed7953"
             ],
             [
              0.7777777777777778,
              "#fb9f3a"
             ],
             [
              0.8888888888888888,
              "#fdca26"
             ],
             [
              1,
              "#f0f921"
             ]
            ],
            "type": "histogram2d"
           }
          ],
          "histogram2dcontour": [
           {
            "colorbar": {
             "outlinewidth": 0,
             "ticks": ""
            },
            "colorscale": [
             [
              0,
              "#0d0887"
             ],
             [
              0.1111111111111111,
              "#46039f"
             ],
             [
              0.2222222222222222,
              "#7201a8"
             ],
             [
              0.3333333333333333,
              "#9c179e"
             ],
             [
              0.4444444444444444,
              "#bd3786"
             ],
             [
              0.5555555555555556,
              "#d8576b"
             ],
             [
              0.6666666666666666,
              "#ed7953"
             ],
             [
              0.7777777777777778,
              "#fb9f3a"
             ],
             [
              0.8888888888888888,
              "#fdca26"
             ],
             [
              1,
              "#f0f921"
             ]
            ],
            "type": "histogram2dcontour"
           }
          ],
          "mesh3d": [
           {
            "colorbar": {
             "outlinewidth": 0,
             "ticks": ""
            },
            "type": "mesh3d"
           }
          ],
          "parcoords": [
           {
            "line": {
             "colorbar": {
              "outlinewidth": 0,
              "ticks": ""
             }
            },
            "type": "parcoords"
           }
          ],
          "pie": [
           {
            "automargin": true,
            "type": "pie"
           }
          ],
          "scatter": [
           {
            "fillpattern": {
             "fillmode": "overlay",
             "size": 10,
             "solidity": 0.2
            },
            "type": "scatter"
           }
          ],
          "scatter3d": [
           {
            "line": {
             "colorbar": {
              "outlinewidth": 0,
              "ticks": ""
             }
            },
            "marker": {
             "colorbar": {
              "outlinewidth": 0,
              "ticks": ""
             }
            },
            "type": "scatter3d"
           }
          ],
          "scattercarpet": [
           {
            "marker": {
             "colorbar": {
              "outlinewidth": 0,
              "ticks": ""
             }
            },
            "type": "scattercarpet"
           }
          ],
          "scattergeo": [
           {
            "marker": {
             "colorbar": {
              "outlinewidth": 0,
              "ticks": ""
             }
            },
            "type": "scattergeo"
           }
          ],
          "scattergl": [
           {
            "marker": {
             "colorbar": {
              "outlinewidth": 0,
              "ticks": ""
             }
            },
            "type": "scattergl"
           }
          ],
          "scattermapbox": [
           {
            "marker": {
             "colorbar": {
              "outlinewidth": 0,
              "ticks": ""
             }
            },
            "type": "scattermapbox"
           }
          ],
          "scatterpolar": [
           {
            "marker": {
             "colorbar": {
              "outlinewidth": 0,
              "ticks": ""
             }
            },
            "type": "scatterpolar"
           }
          ],
          "scatterpolargl": [
           {
            "marker": {
             "colorbar": {
              "outlinewidth": 0,
              "ticks": ""
             }
            },
            "type": "scatterpolargl"
           }
          ],
          "scatterternary": [
           {
            "marker": {
             "colorbar": {
              "outlinewidth": 0,
              "ticks": ""
             }
            },
            "type": "scatterternary"
           }
          ],
          "surface": [
           {
            "colorbar": {
             "outlinewidth": 0,
             "ticks": ""
            },
            "colorscale": [
             [
              0,
              "#0d0887"
             ],
             [
              0.1111111111111111,
              "#46039f"
             ],
             [
              0.2222222222222222,
              "#7201a8"
             ],
             [
              0.3333333333333333,
              "#9c179e"
             ],
             [
              0.4444444444444444,
              "#bd3786"
             ],
             [
              0.5555555555555556,
              "#d8576b"
             ],
             [
              0.6666666666666666,
              "#ed7953"
             ],
             [
              0.7777777777777778,
              "#fb9f3a"
             ],
             [
              0.8888888888888888,
              "#fdca26"
             ],
             [
              1,
              "#f0f921"
             ]
            ],
            "type": "surface"
           }
          ],
          "table": [
           {
            "cells": {
             "fill": {
              "color": "#EBF0F8"
             },
             "line": {
              "color": "white"
             }
            },
            "header": {
             "fill": {
              "color": "#C8D4E3"
             },
             "line": {
              "color": "white"
             }
            },
            "type": "table"
           }
          ]
         },
         "layout": {
          "annotationdefaults": {
           "arrowcolor": "#2a3f5f",
           "arrowhead": 0,
           "arrowwidth": 1
          },
          "autotypenumbers": "strict",
          "coloraxis": {
           "colorbar": {
            "outlinewidth": 0,
            "ticks": ""
           }
          },
          "colorscale": {
           "diverging": [
            [
             0,
             "#8e0152"
            ],
            [
             0.1,
             "#c51b7d"
            ],
            [
             0.2,
             "#de77ae"
            ],
            [
             0.3,
             "#f1b6da"
            ],
            [
             0.4,
             "#fde0ef"
            ],
            [
             0.5,
             "#f7f7f7"
            ],
            [
             0.6,
             "#e6f5d0"
            ],
            [
             0.7,
             "#b8e186"
            ],
            [
             0.8,
             "#7fbc41"
            ],
            [
             0.9,
             "#4d9221"
            ],
            [
             1,
             "#276419"
            ]
           ],
           "sequential": [
            [
             0,
             "#0d0887"
            ],
            [
             0.1111111111111111,
             "#46039f"
            ],
            [
             0.2222222222222222,
             "#7201a8"
            ],
            [
             0.3333333333333333,
             "#9c179e"
            ],
            [
             0.4444444444444444,
             "#bd3786"
            ],
            [
             0.5555555555555556,
             "#d8576b"
            ],
            [
             0.6666666666666666,
             "#ed7953"
            ],
            [
             0.7777777777777778,
             "#fb9f3a"
            ],
            [
             0.8888888888888888,
             "#fdca26"
            ],
            [
             1,
             "#f0f921"
            ]
           ],
           "sequentialminus": [
            [
             0,
             "#0d0887"
            ],
            [
             0.1111111111111111,
             "#46039f"
            ],
            [
             0.2222222222222222,
             "#7201a8"
            ],
            [
             0.3333333333333333,
             "#9c179e"
            ],
            [
             0.4444444444444444,
             "#bd3786"
            ],
            [
             0.5555555555555556,
             "#d8576b"
            ],
            [
             0.6666666666666666,
             "#ed7953"
            ],
            [
             0.7777777777777778,
             "#fb9f3a"
            ],
            [
             0.8888888888888888,
             "#fdca26"
            ],
            [
             1,
             "#f0f921"
            ]
           ]
          },
          "colorway": [
           "#636efa",
           "#EF553B",
           "#00cc96",
           "#ab63fa",
           "#FFA15A",
           "#19d3f3",
           "#FF6692",
           "#B6E880",
           "#FF97FF",
           "#FECB52"
          ],
          "font": {
           "color": "#2a3f5f"
          },
          "geo": {
           "bgcolor": "white",
           "lakecolor": "white",
           "landcolor": "#E5ECF6",
           "showlakes": true,
           "showland": true,
           "subunitcolor": "white"
          },
          "hoverlabel": {
           "align": "left"
          },
          "hovermode": "closest",
          "mapbox": {
           "style": "light"
          },
          "paper_bgcolor": "white",
          "plot_bgcolor": "#E5ECF6",
          "polar": {
           "angularaxis": {
            "gridcolor": "white",
            "linecolor": "white",
            "ticks": ""
           },
           "bgcolor": "#E5ECF6",
           "radialaxis": {
            "gridcolor": "white",
            "linecolor": "white",
            "ticks": ""
           }
          },
          "scene": {
           "xaxis": {
            "backgroundcolor": "#E5ECF6",
            "gridcolor": "white",
            "gridwidth": 2,
            "linecolor": "white",
            "showbackground": true,
            "ticks": "",
            "zerolinecolor": "white"
           },
           "yaxis": {
            "backgroundcolor": "#E5ECF6",
            "gridcolor": "white",
            "gridwidth": 2,
            "linecolor": "white",
            "showbackground": true,
            "ticks": "",
            "zerolinecolor": "white"
           },
           "zaxis": {
            "backgroundcolor": "#E5ECF6",
            "gridcolor": "white",
            "gridwidth": 2,
            "linecolor": "white",
            "showbackground": true,
            "ticks": "",
            "zerolinecolor": "white"
           }
          },
          "shapedefaults": {
           "line": {
            "color": "#2a3f5f"
           }
          },
          "ternary": {
           "aaxis": {
            "gridcolor": "white",
            "linecolor": "white",
            "ticks": ""
           },
           "baxis": {
            "gridcolor": "white",
            "linecolor": "white",
            "ticks": ""
           },
           "bgcolor": "#E5ECF6",
           "caxis": {
            "gridcolor": "white",
            "linecolor": "white",
            "ticks": ""
           }
          },
          "title": {
           "x": 0.05
          },
          "xaxis": {
           "automargin": true,
           "gridcolor": "white",
           "linecolor": "white",
           "ticks": "",
           "title": {
            "standoff": 15
           },
           "zerolinecolor": "white",
           "zerolinewidth": 2
          },
          "yaxis": {
           "automargin": true,
           "gridcolor": "white",
           "linecolor": "white",
           "ticks": "",
           "title": {
            "standoff": 15
           },
           "zerolinecolor": "white",
           "zerolinewidth": 2
          }
         }
        },
        "title": {
         "text": "Total Quantity by Payment Mode"
        },
        "width": 800
       }
      }
     },
     "metadata": {},
     "output_type": "display_data"
    }
   ],
   "source": [
    "fig = px.pie(data_frame=quan_by_pay_mode, names='PaymentMode', labels='PaymentMode', values='Quantity', hole=0.5, color_discrete_sequence=px.colors.sequential.Aggrnyl)\n",
    "fig.update_layout(title='Total Quantity by Payment Mode', autosize=False, height=500, width=800)\n",
    "fig.update_traces(textinfo='percent+label', hoverinfo='label+value')\n",
    "fig.show()"
   ]
  },
  {
   "cell_type": "markdown",
   "metadata": {},
   "source": [
    "# Sum Of Amount By Customer name"
   ]
  },
  {
   "cell_type": "code",
   "execution_count": 108,
   "metadata": {},
   "outputs": [
    {
     "data": {
      "text/html": [
       "<div>\n",
       "<style scoped>\n",
       "    .dataframe tbody tr th:only-of-type {\n",
       "        vertical-align: middle;\n",
       "    }\n",
       "\n",
       "    .dataframe tbody tr th {\n",
       "        vertical-align: top;\n",
       "    }\n",
       "\n",
       "    .dataframe thead th {\n",
       "        text-align: right;\n",
       "    }\n",
       "</style>\n",
       "<table border=\"1\" class=\"dataframe\">\n",
       "  <thead>\n",
       "    <tr style=\"text-align: right;\">\n",
       "      <th></th>\n",
       "      <th>CustomerName</th>\n",
       "      <th>Amount</th>\n",
       "    </tr>\n",
       "  </thead>\n",
       "  <tbody>\n",
       "    <tr>\n",
       "      <th>102</th>\n",
       "      <td>Harivansh</td>\n",
       "      <td>9902</td>\n",
       "    </tr>\n",
       "    <tr>\n",
       "      <th>142</th>\n",
       "      <td>Madhav</td>\n",
       "      <td>9365</td>\n",
       "    </tr>\n",
       "    <tr>\n",
       "      <th>141</th>\n",
       "      <td>Madan Mohan</td>\n",
       "      <td>7766</td>\n",
       "    </tr>\n",
       "    <tr>\n",
       "      <th>259</th>\n",
       "      <td>Shiva</td>\n",
       "      <td>6339</td>\n",
       "    </tr>\n",
       "    <tr>\n",
       "      <th>328</th>\n",
       "      <td>Vishakha</td>\n",
       "      <td>6120</td>\n",
       "    </tr>\n",
       "  </tbody>\n",
       "</table>\n",
       "</div>"
      ],
      "text/plain": [
       "    CustomerName  Amount\n",
       "102    Harivansh    9902\n",
       "142       Madhav    9365\n",
       "141  Madan Mohan    7766\n",
       "259        Shiva    6339\n",
       "328     Vishakha    6120"
      ]
     },
     "execution_count": 108,
     "metadata": {},
     "output_type": "execute_result"
    }
   ],
   "source": [
    "amount_by_cus = new_df.groupby('CustomerName')['Amount'].sum().reset_index().sort_values(by='Amount', ascending=False).head()\n",
    "amount_by_cus"
   ]
  },
  {
   "cell_type": "code",
   "execution_count": 117,
   "metadata": {},
   "outputs": [
    {
     "data": {
      "application/vnd.plotly.v1+json": {
       "config": {
        "plotlyServerURL": "https://plot.ly"
       },
       "data": [
        {
         "alignmentgroup": "True",
         "hovertemplate": "CustomerName=%{x}<br>Amount=%{y}<extra></extra>",
         "legendgroup": "",
         "marker": {
          "color": "rgb(103,0,13)",
          "pattern": {
           "shape": ""
          }
         },
         "name": "",
         "offsetgroup": "",
         "orientation": "v",
         "showlegend": false,
         "textposition": "auto",
         "type": "bar",
         "x": [
          "Harivansh",
          "Madhav",
          "Madan Mohan",
          "Shiva",
          "Vishakha"
         ],
         "xaxis": "x",
         "y": [
          9902,
          9365,
          7766,
          6339,
          6120
         ],
         "yaxis": "y"
        }
       ],
       "layout": {
        "autosize": false,
        "barmode": "relative",
        "height": 600,
        "legend": {
         "tracegroupgap": 0
        },
        "margin": {
         "t": 60
        },
        "template": {
         "data": {
          "bar": [
           {
            "error_x": {
             "color": "#2a3f5f"
            },
            "error_y": {
             "color": "#2a3f5f"
            },
            "marker": {
             "line": {
              "color": "#E5ECF6",
              "width": 0.5
             },
             "pattern": {
              "fillmode": "overlay",
              "size": 10,
              "solidity": 0.2
             }
            },
            "type": "bar"
           }
          ],
          "barpolar": [
           {
            "marker": {
             "line": {
              "color": "#E5ECF6",
              "width": 0.5
             },
             "pattern": {
              "fillmode": "overlay",
              "size": 10,
              "solidity": 0.2
             }
            },
            "type": "barpolar"
           }
          ],
          "carpet": [
           {
            "aaxis": {
             "endlinecolor": "#2a3f5f",
             "gridcolor": "white",
             "linecolor": "white",
             "minorgridcolor": "white",
             "startlinecolor": "#2a3f5f"
            },
            "baxis": {
             "endlinecolor": "#2a3f5f",
             "gridcolor": "white",
             "linecolor": "white",
             "minorgridcolor": "white",
             "startlinecolor": "#2a3f5f"
            },
            "type": "carpet"
           }
          ],
          "choropleth": [
           {
            "colorbar": {
             "outlinewidth": 0,
             "ticks": ""
            },
            "type": "choropleth"
           }
          ],
          "contour": [
           {
            "colorbar": {
             "outlinewidth": 0,
             "ticks": ""
            },
            "colorscale": [
             [
              0,
              "#0d0887"
             ],
             [
              0.1111111111111111,
              "#46039f"
             ],
             [
              0.2222222222222222,
              "#7201a8"
             ],
             [
              0.3333333333333333,
              "#9c179e"
             ],
             [
              0.4444444444444444,
              "#bd3786"
             ],
             [
              0.5555555555555556,
              "#d8576b"
             ],
             [
              0.6666666666666666,
              "#ed7953"
             ],
             [
              0.7777777777777778,
              "#fb9f3a"
             ],
             [
              0.8888888888888888,
              "#fdca26"
             ],
             [
              1,
              "#f0f921"
             ]
            ],
            "type": "contour"
           }
          ],
          "contourcarpet": [
           {
            "colorbar": {
             "outlinewidth": 0,
             "ticks": ""
            },
            "type": "contourcarpet"
           }
          ],
          "heatmap": [
           {
            "colorbar": {
             "outlinewidth": 0,
             "ticks": ""
            },
            "colorscale": [
             [
              0,
              "#0d0887"
             ],
             [
              0.1111111111111111,
              "#46039f"
             ],
             [
              0.2222222222222222,
              "#7201a8"
             ],
             [
              0.3333333333333333,
              "#9c179e"
             ],
             [
              0.4444444444444444,
              "#bd3786"
             ],
             [
              0.5555555555555556,
              "#d8576b"
             ],
             [
              0.6666666666666666,
              "#ed7953"
             ],
             [
              0.7777777777777778,
              "#fb9f3a"
             ],
             [
              0.8888888888888888,
              "#fdca26"
             ],
             [
              1,
              "#f0f921"
             ]
            ],
            "type": "heatmap"
           }
          ],
          "heatmapgl": [
           {
            "colorbar": {
             "outlinewidth": 0,
             "ticks": ""
            },
            "colorscale": [
             [
              0,
              "#0d0887"
             ],
             [
              0.1111111111111111,
              "#46039f"
             ],
             [
              0.2222222222222222,
              "#7201a8"
             ],
             [
              0.3333333333333333,
              "#9c179e"
             ],
             [
              0.4444444444444444,
              "#bd3786"
             ],
             [
              0.5555555555555556,
              "#d8576b"
             ],
             [
              0.6666666666666666,
              "#ed7953"
             ],
             [
              0.7777777777777778,
              "#fb9f3a"
             ],
             [
              0.8888888888888888,
              "#fdca26"
             ],
             [
              1,
              "#f0f921"
             ]
            ],
            "type": "heatmapgl"
           }
          ],
          "histogram": [
           {
            "marker": {
             "pattern": {
              "fillmode": "overlay",
              "size": 10,
              "solidity": 0.2
             }
            },
            "type": "histogram"
           }
          ],
          "histogram2d": [
           {
            "colorbar": {
             "outlinewidth": 0,
             "ticks": ""
            },
            "colorscale": [
             [
              0,
              "#0d0887"
             ],
             [
              0.1111111111111111,
              "#46039f"
             ],
             [
              0.2222222222222222,
              "#7201a8"
             ],
             [
              0.3333333333333333,
              "#9c179e"
             ],
             [
              0.4444444444444444,
              "#bd3786"
             ],
             [
              0.5555555555555556,
              "#d8576b"
             ],
             [
              0.6666666666666666,
              "#ed7953"
             ],
             [
              0.7777777777777778,
              "#fb9f3a"
             ],
             [
              0.8888888888888888,
              "#fdca26"
             ],
             [
              1,
              "#f0f921"
             ]
            ],
            "type": "histogram2d"
           }
          ],
          "histogram2dcontour": [
           {
            "colorbar": {
             "outlinewidth": 0,
             "ticks": ""
            },
            "colorscale": [
             [
              0,
              "#0d0887"
             ],
             [
              0.1111111111111111,
              "#46039f"
             ],
             [
              0.2222222222222222,
              "#7201a8"
             ],
             [
              0.3333333333333333,
              "#9c179e"
             ],
             [
              0.4444444444444444,
              "#bd3786"
             ],
             [
              0.5555555555555556,
              "#d8576b"
             ],
             [
              0.6666666666666666,
              "#ed7953"
             ],
             [
              0.7777777777777778,
              "#fb9f3a"
             ],
             [
              0.8888888888888888,
              "#fdca26"
             ],
             [
              1,
              "#f0f921"
             ]
            ],
            "type": "histogram2dcontour"
           }
          ],
          "mesh3d": [
           {
            "colorbar": {
             "outlinewidth": 0,
             "ticks": ""
            },
            "type": "mesh3d"
           }
          ],
          "parcoords": [
           {
            "line": {
             "colorbar": {
              "outlinewidth": 0,
              "ticks": ""
             }
            },
            "type": "parcoords"
           }
          ],
          "pie": [
           {
            "automargin": true,
            "type": "pie"
           }
          ],
          "scatter": [
           {
            "fillpattern": {
             "fillmode": "overlay",
             "size": 10,
             "solidity": 0.2
            },
            "type": "scatter"
           }
          ],
          "scatter3d": [
           {
            "line": {
             "colorbar": {
              "outlinewidth": 0,
              "ticks": ""
             }
            },
            "marker": {
             "colorbar": {
              "outlinewidth": 0,
              "ticks": ""
             }
            },
            "type": "scatter3d"
           }
          ],
          "scattercarpet": [
           {
            "marker": {
             "colorbar": {
              "outlinewidth": 0,
              "ticks": ""
             }
            },
            "type": "scattercarpet"
           }
          ],
          "scattergeo": [
           {
            "marker": {
             "colorbar": {
              "outlinewidth": 0,
              "ticks": ""
             }
            },
            "type": "scattergeo"
           }
          ],
          "scattergl": [
           {
            "marker": {
             "colorbar": {
              "outlinewidth": 0,
              "ticks": ""
             }
            },
            "type": "scattergl"
           }
          ],
          "scattermapbox": [
           {
            "marker": {
             "colorbar": {
              "outlinewidth": 0,
              "ticks": ""
             }
            },
            "type": "scattermapbox"
           }
          ],
          "scatterpolar": [
           {
            "marker": {
             "colorbar": {
              "outlinewidth": 0,
              "ticks": ""
             }
            },
            "type": "scatterpolar"
           }
          ],
          "scatterpolargl": [
           {
            "marker": {
             "colorbar": {
              "outlinewidth": 0,
              "ticks": ""
             }
            },
            "type": "scatterpolargl"
           }
          ],
          "scatterternary": [
           {
            "marker": {
             "colorbar": {
              "outlinewidth": 0,
              "ticks": ""
             }
            },
            "type": "scatterternary"
           }
          ],
          "surface": [
           {
            "colorbar": {
             "outlinewidth": 0,
             "ticks": ""
            },
            "colorscale": [
             [
              0,
              "#0d0887"
             ],
             [
              0.1111111111111111,
              "#46039f"
             ],
             [
              0.2222222222222222,
              "#7201a8"
             ],
             [
              0.3333333333333333,
              "#9c179e"
             ],
             [
              0.4444444444444444,
              "#bd3786"
             ],
             [
              0.5555555555555556,
              "#d8576b"
             ],
             [
              0.6666666666666666,
              "#ed7953"
             ],
             [
              0.7777777777777778,
              "#fb9f3a"
             ],
             [
              0.8888888888888888,
              "#fdca26"
             ],
             [
              1,
              "#f0f921"
             ]
            ],
            "type": "surface"
           }
          ],
          "table": [
           {
            "cells": {
             "fill": {
              "color": "#EBF0F8"
             },
             "line": {
              "color": "white"
             }
            },
            "header": {
             "fill": {
              "color": "#C8D4E3"
             },
             "line": {
              "color": "white"
             }
            },
            "type": "table"
           }
          ]
         },
         "layout": {
          "annotationdefaults": {
           "arrowcolor": "#2a3f5f",
           "arrowhead": 0,
           "arrowwidth": 1
          },
          "autotypenumbers": "strict",
          "coloraxis": {
           "colorbar": {
            "outlinewidth": 0,
            "ticks": ""
           }
          },
          "colorscale": {
           "diverging": [
            [
             0,
             "#8e0152"
            ],
            [
             0.1,
             "#c51b7d"
            ],
            [
             0.2,
             "#de77ae"
            ],
            [
             0.3,
             "#f1b6da"
            ],
            [
             0.4,
             "#fde0ef"
            ],
            [
             0.5,
             "#f7f7f7"
            ],
            [
             0.6,
             "#e6f5d0"
            ],
            [
             0.7,
             "#b8e186"
            ],
            [
             0.8,
             "#7fbc41"
            ],
            [
             0.9,
             "#4d9221"
            ],
            [
             1,
             "#276419"
            ]
           ],
           "sequential": [
            [
             0,
             "#0d0887"
            ],
            [
             0.1111111111111111,
             "#46039f"
            ],
            [
             0.2222222222222222,
             "#7201a8"
            ],
            [
             0.3333333333333333,
             "#9c179e"
            ],
            [
             0.4444444444444444,
             "#bd3786"
            ],
            [
             0.5555555555555556,
             "#d8576b"
            ],
            [
             0.6666666666666666,
             "#ed7953"
            ],
            [
             0.7777777777777778,
             "#fb9f3a"
            ],
            [
             0.8888888888888888,
             "#fdca26"
            ],
            [
             1,
             "#f0f921"
            ]
           ],
           "sequentialminus": [
            [
             0,
             "#0d0887"
            ],
            [
             0.1111111111111111,
             "#46039f"
            ],
            [
             0.2222222222222222,
             "#7201a8"
            ],
            [
             0.3333333333333333,
             "#9c179e"
            ],
            [
             0.4444444444444444,
             "#bd3786"
            ],
            [
             0.5555555555555556,
             "#d8576b"
            ],
            [
             0.6666666666666666,
             "#ed7953"
            ],
            [
             0.7777777777777778,
             "#fb9f3a"
            ],
            [
             0.8888888888888888,
             "#fdca26"
            ],
            [
             1,
             "#f0f921"
            ]
           ]
          },
          "colorway": [
           "#636efa",
           "#EF553B",
           "#00cc96",
           "#ab63fa",
           "#FFA15A",
           "#19d3f3",
           "#FF6692",
           "#B6E880",
           "#FF97FF",
           "#FECB52"
          ],
          "font": {
           "color": "#2a3f5f"
          },
          "geo": {
           "bgcolor": "white",
           "lakecolor": "white",
           "landcolor": "#E5ECF6",
           "showlakes": true,
           "showland": true,
           "subunitcolor": "white"
          },
          "hoverlabel": {
           "align": "left"
          },
          "hovermode": "closest",
          "mapbox": {
           "style": "light"
          },
          "paper_bgcolor": "white",
          "plot_bgcolor": "#E5ECF6",
          "polar": {
           "angularaxis": {
            "gridcolor": "white",
            "linecolor": "white",
            "ticks": ""
           },
           "bgcolor": "#E5ECF6",
           "radialaxis": {
            "gridcolor": "white",
            "linecolor": "white",
            "ticks": ""
           }
          },
          "scene": {
           "xaxis": {
            "backgroundcolor": "#E5ECF6",
            "gridcolor": "white",
            "gridwidth": 2,
            "linecolor": "white",
            "showbackground": true,
            "ticks": "",
            "zerolinecolor": "white"
           },
           "yaxis": {
            "backgroundcolor": "#E5ECF6",
            "gridcolor": "white",
            "gridwidth": 2,
            "linecolor": "white",
            "showbackground": true,
            "ticks": "",
            "zerolinecolor": "white"
           },
           "zaxis": {
            "backgroundcolor": "#E5ECF6",
            "gridcolor": "white",
            "gridwidth": 2,
            "linecolor": "white",
            "showbackground": true,
            "ticks": "",
            "zerolinecolor": "white"
           }
          },
          "shapedefaults": {
           "line": {
            "color": "#2a3f5f"
           }
          },
          "ternary": {
           "aaxis": {
            "gridcolor": "white",
            "linecolor": "white",
            "ticks": ""
           },
           "baxis": {
            "gridcolor": "white",
            "linecolor": "white",
            "ticks": ""
           },
           "bgcolor": "#E5ECF6",
           "caxis": {
            "gridcolor": "white",
            "linecolor": "white",
            "ticks": ""
           }
          },
          "title": {
           "x": 0.05
          },
          "xaxis": {
           "automargin": true,
           "gridcolor": "white",
           "linecolor": "white",
           "ticks": "",
           "title": {
            "standoff": 15
           },
           "zerolinecolor": "white",
           "zerolinewidth": 2
          },
          "yaxis": {
           "automargin": true,
           "gridcolor": "white",
           "linecolor": "white",
           "ticks": "",
           "title": {
            "standoff": 15
           },
           "zerolinecolor": "white",
           "zerolinewidth": 2
          }
         }
        },
        "title": {
         "text": "Top 5 Customers by Amount"
        },
        "width": 800,
        "xaxis": {
         "anchor": "y",
         "domain": [
          0,
          1
         ],
         "title": {
          "text": "CustomerName"
         }
        },
        "yaxis": {
         "anchor": "x",
         "domain": [
          0,
          1
         ],
         "title": {
          "text": "Amount"
         }
        }
       }
      }
     },
     "metadata": {},
     "output_type": "display_data"
    }
   ],
   "source": [
    "fig = px.bar(data_frame=amount_by_cus, x='CustomerName', y='Amount', color_discrete_sequence=px.colors.sequential.Reds_r)\n",
    "fig.update_layout(title='Top 5 Customers by Amount', autosize=False, height=600, width=800)\n",
    "fig.show()"
   ]
  },
  {
   "cell_type": "markdown",
   "metadata": {},
   "source": [
    "# Amount by State"
   ]
  },
  {
   "cell_type": "code",
   "execution_count": 118,
   "metadata": {},
   "outputs": [
    {
     "data": {
      "text/html": [
       "<div>\n",
       "<style scoped>\n",
       "    .dataframe tbody tr th:only-of-type {\n",
       "        vertical-align: middle;\n",
       "    }\n",
       "\n",
       "    .dataframe tbody tr th {\n",
       "        vertical-align: top;\n",
       "    }\n",
       "\n",
       "    .dataframe thead th {\n",
       "        text-align: right;\n",
       "    }\n",
       "</style>\n",
       "<table border=\"1\" class=\"dataframe\">\n",
       "  <thead>\n",
       "    <tr style=\"text-align: right;\">\n",
       "      <th></th>\n",
       "      <th>Order ID</th>\n",
       "      <th>Amount</th>\n",
       "      <th>Profit</th>\n",
       "      <th>Quantity</th>\n",
       "      <th>Category</th>\n",
       "      <th>Sub-Category</th>\n",
       "      <th>PaymentMode</th>\n",
       "      <th>Order Date</th>\n",
       "      <th>CustomerName</th>\n",
       "      <th>State</th>\n",
       "      <th>City</th>\n",
       "      <th>Order_Year</th>\n",
       "      <th>Order_Month</th>\n",
       "    </tr>\n",
       "  </thead>\n",
       "  <tbody>\n",
       "    <tr>\n",
       "      <th>0</th>\n",
       "      <td>B-25681</td>\n",
       "      <td>1096</td>\n",
       "      <td>658</td>\n",
       "      <td>7</td>\n",
       "      <td>Electronics</td>\n",
       "      <td>Electronic Games</td>\n",
       "      <td>COD</td>\n",
       "      <td>2018-04-06</td>\n",
       "      <td>Bhawna</td>\n",
       "      <td>Madhya Pradesh</td>\n",
       "      <td>Indore</td>\n",
       "      <td>2018</td>\n",
       "      <td>4</td>\n",
       "    </tr>\n",
       "    <tr>\n",
       "      <th>1</th>\n",
       "      <td>B-25681</td>\n",
       "      <td>1625</td>\n",
       "      <td>-77</td>\n",
       "      <td>3</td>\n",
       "      <td>Electronics</td>\n",
       "      <td>Phones</td>\n",
       "      <td>EMI</td>\n",
       "      <td>2018-04-06</td>\n",
       "      <td>Bhawna</td>\n",
       "      <td>Madhya Pradesh</td>\n",
       "      <td>Indore</td>\n",
       "      <td>2018</td>\n",
       "      <td>4</td>\n",
       "    </tr>\n",
       "    <tr>\n",
       "      <th>2</th>\n",
       "      <td>B-25681</td>\n",
       "      <td>523</td>\n",
       "      <td>204</td>\n",
       "      <td>7</td>\n",
       "      <td>Clothing</td>\n",
       "      <td>Trousers</td>\n",
       "      <td>COD</td>\n",
       "      <td>2018-04-06</td>\n",
       "      <td>Bhawna</td>\n",
       "      <td>Madhya Pradesh</td>\n",
       "      <td>Indore</td>\n",
       "      <td>2018</td>\n",
       "      <td>4</td>\n",
       "    </tr>\n",
       "    <tr>\n",
       "      <th>3</th>\n",
       "      <td>B-25681</td>\n",
       "      <td>44</td>\n",
       "      <td>-3</td>\n",
       "      <td>1</td>\n",
       "      <td>Clothing</td>\n",
       "      <td>Saree</td>\n",
       "      <td>Debit Card</td>\n",
       "      <td>2018-04-06</td>\n",
       "      <td>Bhawna</td>\n",
       "      <td>Madhya Pradesh</td>\n",
       "      <td>Indore</td>\n",
       "      <td>2018</td>\n",
       "      <td>4</td>\n",
       "    </tr>\n",
       "    <tr>\n",
       "      <th>4</th>\n",
       "      <td>B-25681</td>\n",
       "      <td>243</td>\n",
       "      <td>-14</td>\n",
       "      <td>2</td>\n",
       "      <td>Furniture</td>\n",
       "      <td>Chairs</td>\n",
       "      <td>COD</td>\n",
       "      <td>2018-04-06</td>\n",
       "      <td>Bhawna</td>\n",
       "      <td>Madhya Pradesh</td>\n",
       "      <td>Indore</td>\n",
       "      <td>2018</td>\n",
       "      <td>4</td>\n",
       "    </tr>\n",
       "  </tbody>\n",
       "</table>\n",
       "</div>"
      ],
      "text/plain": [
       "  Order ID  Amount  Profit  Quantity     Category      Sub-Category  \\\n",
       "0  B-25681    1096     658         7  Electronics  Electronic Games   \n",
       "1  B-25681    1625     -77         3  Electronics            Phones   \n",
       "2  B-25681     523     204         7     Clothing          Trousers   \n",
       "3  B-25681      44      -3         1     Clothing             Saree   \n",
       "4  B-25681     243     -14         2    Furniture            Chairs   \n",
       "\n",
       "  PaymentMode Order Date CustomerName           State    City  Order_Year  \\\n",
       "0         COD 2018-04-06       Bhawna  Madhya Pradesh  Indore        2018   \n",
       "1         EMI 2018-04-06       Bhawna  Madhya Pradesh  Indore        2018   \n",
       "2         COD 2018-04-06       Bhawna  Madhya Pradesh  Indore        2018   \n",
       "3  Debit Card 2018-04-06       Bhawna  Madhya Pradesh  Indore        2018   \n",
       "4         COD 2018-04-06       Bhawna  Madhya Pradesh  Indore        2018   \n",
       "\n",
       "   Order_Month  \n",
       "0            4  \n",
       "1            4  \n",
       "2            4  \n",
       "3            4  \n",
       "4            4  "
      ]
     },
     "execution_count": 118,
     "metadata": {},
     "output_type": "execute_result"
    }
   ],
   "source": [
    "new_df.head()"
   ]
  },
  {
   "cell_type": "code",
   "execution_count": 119,
   "metadata": {},
   "outputs": [
    {
     "data": {
      "text/html": [
       "<div>\n",
       "<style scoped>\n",
       "    .dataframe tbody tr th:only-of-type {\n",
       "        vertical-align: middle;\n",
       "    }\n",
       "\n",
       "    .dataframe tbody tr th {\n",
       "        vertical-align: top;\n",
       "    }\n",
       "\n",
       "    .dataframe thead th {\n",
       "        text-align: right;\n",
       "    }\n",
       "</style>\n",
       "<table border=\"1\" class=\"dataframe\">\n",
       "  <thead>\n",
       "    <tr style=\"text-align: right;\">\n",
       "      <th></th>\n",
       "      <th>State</th>\n",
       "      <th>Amount</th>\n",
       "    </tr>\n",
       "  </thead>\n",
       "  <tbody>\n",
       "    <tr>\n",
       "      <th>0</th>\n",
       "      <td>Andhra Pradesh</td>\n",
       "      <td>13256</td>\n",
       "    </tr>\n",
       "    <tr>\n",
       "      <th>1</th>\n",
       "      <td>Bihar</td>\n",
       "      <td>13417</td>\n",
       "    </tr>\n",
       "    <tr>\n",
       "      <th>2</th>\n",
       "      <td>Delhi</td>\n",
       "      <td>22957</td>\n",
       "    </tr>\n",
       "    <tr>\n",
       "      <th>3</th>\n",
       "      <td>Goa</td>\n",
       "      <td>6705</td>\n",
       "    </tr>\n",
       "    <tr>\n",
       "      <th>4</th>\n",
       "      <td>Gujarat</td>\n",
       "      <td>21371</td>\n",
       "    </tr>\n",
       "    <tr>\n",
       "      <th>5</th>\n",
       "      <td>Haryana</td>\n",
       "      <td>8863</td>\n",
       "    </tr>\n",
       "    <tr>\n",
       "      <th>6</th>\n",
       "      <td>Himachal Pradesh</td>\n",
       "      <td>8666</td>\n",
       "    </tr>\n",
       "    <tr>\n",
       "      <th>7</th>\n",
       "      <td>Jammu and Kashmir</td>\n",
       "      <td>10829</td>\n",
       "    </tr>\n",
       "    <tr>\n",
       "      <th>8</th>\n",
       "      <td>Karnataka</td>\n",
       "      <td>12520</td>\n",
       "    </tr>\n",
       "    <tr>\n",
       "      <th>9</th>\n",
       "      <td>Kerala</td>\n",
       "      <td>13871</td>\n",
       "    </tr>\n",
       "    <tr>\n",
       "      <th>10</th>\n",
       "      <td>Madhya Pradesh</td>\n",
       "      <td>87463</td>\n",
       "    </tr>\n",
       "    <tr>\n",
       "      <th>11</th>\n",
       "      <td>Maharashtra</td>\n",
       "      <td>102498</td>\n",
       "    </tr>\n",
       "    <tr>\n",
       "      <th>12</th>\n",
       "      <td>Nagaland</td>\n",
       "      <td>11993</td>\n",
       "    </tr>\n",
       "    <tr>\n",
       "      <th>13</th>\n",
       "      <td>Punjab</td>\n",
       "      <td>16786</td>\n",
       "    </tr>\n",
       "    <tr>\n",
       "      <th>14</th>\n",
       "      <td>Rajasthan</td>\n",
       "      <td>22334</td>\n",
       "    </tr>\n",
       "    <tr>\n",
       "      <th>15</th>\n",
       "      <td>Sikkim</td>\n",
       "      <td>5276</td>\n",
       "    </tr>\n",
       "    <tr>\n",
       "      <th>16</th>\n",
       "      <td>Tamil Nadu</td>\n",
       "      <td>6276</td>\n",
       "    </tr>\n",
       "    <tr>\n",
       "      <th>17</th>\n",
       "      <td>Uttar Pradesh</td>\n",
       "      <td>38362</td>\n",
       "    </tr>\n",
       "    <tr>\n",
       "      <th>18</th>\n",
       "      <td>West Bengal</td>\n",
       "      <td>14328</td>\n",
       "    </tr>\n",
       "  </tbody>\n",
       "</table>\n",
       "</div>"
      ],
      "text/plain": [
       "                State  Amount\n",
       "0      Andhra Pradesh   13256\n",
       "1               Bihar   13417\n",
       "2               Delhi   22957\n",
       "3                 Goa    6705\n",
       "4             Gujarat   21371\n",
       "5             Haryana    8863\n",
       "6    Himachal Pradesh    8666\n",
       "7   Jammu and Kashmir   10829\n",
       "8           Karnataka   12520\n",
       "9             Kerala    13871\n",
       "10     Madhya Pradesh   87463\n",
       "11        Maharashtra  102498\n",
       "12           Nagaland   11993\n",
       "13             Punjab   16786\n",
       "14          Rajasthan   22334\n",
       "15             Sikkim    5276\n",
       "16         Tamil Nadu    6276\n",
       "17      Uttar Pradesh   38362\n",
       "18        West Bengal   14328"
      ]
     },
     "execution_count": 119,
     "metadata": {},
     "output_type": "execute_result"
    }
   ],
   "source": [
    "amount_by_state = new_df.groupby('State')['Amount'].sum().reset_index()\n",
    "amount_by_state"
   ]
  },
  {
   "cell_type": "code",
   "execution_count": 124,
   "metadata": {},
   "outputs": [
    {
     "data": {
      "application/vnd.plotly.v1+json": {
       "config": {
        "plotlyServerURL": "https://plot.ly"
       },
       "data": [
        {
         "alignmentgroup": "True",
         "hovertemplate": "State=%{x}<br>Amount=%{y}<extra></extra>",
         "legendgroup": "",
         "marker": {
          "color": "#00224e",
          "pattern": {
           "shape": ""
          }
         },
         "name": "",
         "offsetgroup": "",
         "orientation": "v",
         "showlegend": false,
         "textposition": "auto",
         "type": "bar",
         "x": [
          "Andhra Pradesh",
          "Bihar",
          "Delhi",
          "Goa",
          "Gujarat",
          "Haryana",
          "Himachal Pradesh",
          "Jammu and Kashmir",
          "Karnataka",
          "Kerala ",
          "Madhya Pradesh",
          "Maharashtra",
          "Nagaland",
          "Punjab",
          "Rajasthan",
          "Sikkim",
          "Tamil Nadu",
          "Uttar Pradesh",
          "West Bengal"
         ],
         "xaxis": "x",
         "y": [
          13256,
          13417,
          22957,
          6705,
          21371,
          8863,
          8666,
          10829,
          12520,
          13871,
          87463,
          102498,
          11993,
          16786,
          22334,
          5276,
          6276,
          38362,
          14328
         ],
         "yaxis": "y"
        }
       ],
       "layout": {
        "autosize": false,
        "barmode": "relative",
        "height": 600,
        "legend": {
         "tracegroupgap": 0
        },
        "margin": {
         "t": 60
        },
        "template": {
         "data": {
          "bar": [
           {
            "error_x": {
             "color": "#2a3f5f"
            },
            "error_y": {
             "color": "#2a3f5f"
            },
            "marker": {
             "line": {
              "color": "#E5ECF6",
              "width": 0.5
             },
             "pattern": {
              "fillmode": "overlay",
              "size": 10,
              "solidity": 0.2
             }
            },
            "type": "bar"
           }
          ],
          "barpolar": [
           {
            "marker": {
             "line": {
              "color": "#E5ECF6",
              "width": 0.5
             },
             "pattern": {
              "fillmode": "overlay",
              "size": 10,
              "solidity": 0.2
             }
            },
            "type": "barpolar"
           }
          ],
          "carpet": [
           {
            "aaxis": {
             "endlinecolor": "#2a3f5f",
             "gridcolor": "white",
             "linecolor": "white",
             "minorgridcolor": "white",
             "startlinecolor": "#2a3f5f"
            },
            "baxis": {
             "endlinecolor": "#2a3f5f",
             "gridcolor": "white",
             "linecolor": "white",
             "minorgridcolor": "white",
             "startlinecolor": "#2a3f5f"
            },
            "type": "carpet"
           }
          ],
          "choropleth": [
           {
            "colorbar": {
             "outlinewidth": 0,
             "ticks": ""
            },
            "type": "choropleth"
           }
          ],
          "contour": [
           {
            "colorbar": {
             "outlinewidth": 0,
             "ticks": ""
            },
            "colorscale": [
             [
              0,
              "#0d0887"
             ],
             [
              0.1111111111111111,
              "#46039f"
             ],
             [
              0.2222222222222222,
              "#7201a8"
             ],
             [
              0.3333333333333333,
              "#9c179e"
             ],
             [
              0.4444444444444444,
              "#bd3786"
             ],
             [
              0.5555555555555556,
              "#d8576b"
             ],
             [
              0.6666666666666666,
              "#ed7953"
             ],
             [
              0.7777777777777778,
              "#fb9f3a"
             ],
             [
              0.8888888888888888,
              "#fdca26"
             ],
             [
              1,
              "#f0f921"
             ]
            ],
            "type": "contour"
           }
          ],
          "contourcarpet": [
           {
            "colorbar": {
             "outlinewidth": 0,
             "ticks": ""
            },
            "type": "contourcarpet"
           }
          ],
          "heatmap": [
           {
            "colorbar": {
             "outlinewidth": 0,
             "ticks": ""
            },
            "colorscale": [
             [
              0,
              "#0d0887"
             ],
             [
              0.1111111111111111,
              "#46039f"
             ],
             [
              0.2222222222222222,
              "#7201a8"
             ],
             [
              0.3333333333333333,
              "#9c179e"
             ],
             [
              0.4444444444444444,
              "#bd3786"
             ],
             [
              0.5555555555555556,
              "#d8576b"
             ],
             [
              0.6666666666666666,
              "#ed7953"
             ],
             [
              0.7777777777777778,
              "#fb9f3a"
             ],
             [
              0.8888888888888888,
              "#fdca26"
             ],
             [
              1,
              "#f0f921"
             ]
            ],
            "type": "heatmap"
           }
          ],
          "heatmapgl": [
           {
            "colorbar": {
             "outlinewidth": 0,
             "ticks": ""
            },
            "colorscale": [
             [
              0,
              "#0d0887"
             ],
             [
              0.1111111111111111,
              "#46039f"
             ],
             [
              0.2222222222222222,
              "#7201a8"
             ],
             [
              0.3333333333333333,
              "#9c179e"
             ],
             [
              0.4444444444444444,
              "#bd3786"
             ],
             [
              0.5555555555555556,
              "#d8576b"
             ],
             [
              0.6666666666666666,
              "#ed7953"
             ],
             [
              0.7777777777777778,
              "#fb9f3a"
             ],
             [
              0.8888888888888888,
              "#fdca26"
             ],
             [
              1,
              "#f0f921"
             ]
            ],
            "type": "heatmapgl"
           }
          ],
          "histogram": [
           {
            "marker": {
             "pattern": {
              "fillmode": "overlay",
              "size": 10,
              "solidity": 0.2
             }
            },
            "type": "histogram"
           }
          ],
          "histogram2d": [
           {
            "colorbar": {
             "outlinewidth": 0,
             "ticks": ""
            },
            "colorscale": [
             [
              0,
              "#0d0887"
             ],
             [
              0.1111111111111111,
              "#46039f"
             ],
             [
              0.2222222222222222,
              "#7201a8"
             ],
             [
              0.3333333333333333,
              "#9c179e"
             ],
             [
              0.4444444444444444,
              "#bd3786"
             ],
             [
              0.5555555555555556,
              "#d8576b"
             ],
             [
              0.6666666666666666,
              "#ed7953"
             ],
             [
              0.7777777777777778,
              "#fb9f3a"
             ],
             [
              0.8888888888888888,
              "#fdca26"
             ],
             [
              1,
              "#f0f921"
             ]
            ],
            "type": "histogram2d"
           }
          ],
          "histogram2dcontour": [
           {
            "colorbar": {
             "outlinewidth": 0,
             "ticks": ""
            },
            "colorscale": [
             [
              0,
              "#0d0887"
             ],
             [
              0.1111111111111111,
              "#46039f"
             ],
             [
              0.2222222222222222,
              "#7201a8"
             ],
             [
              0.3333333333333333,
              "#9c179e"
             ],
             [
              0.4444444444444444,
              "#bd3786"
             ],
             [
              0.5555555555555556,
              "#d8576b"
             ],
             [
              0.6666666666666666,
              "#ed7953"
             ],
             [
              0.7777777777777778,
              "#fb9f3a"
             ],
             [
              0.8888888888888888,
              "#fdca26"
             ],
             [
              1,
              "#f0f921"
             ]
            ],
            "type": "histogram2dcontour"
           }
          ],
          "mesh3d": [
           {
            "colorbar": {
             "outlinewidth": 0,
             "ticks": ""
            },
            "type": "mesh3d"
           }
          ],
          "parcoords": [
           {
            "line": {
             "colorbar": {
              "outlinewidth": 0,
              "ticks": ""
             }
            },
            "type": "parcoords"
           }
          ],
          "pie": [
           {
            "automargin": true,
            "type": "pie"
           }
          ],
          "scatter": [
           {
            "fillpattern": {
             "fillmode": "overlay",
             "size": 10,
             "solidity": 0.2
            },
            "type": "scatter"
           }
          ],
          "scatter3d": [
           {
            "line": {
             "colorbar": {
              "outlinewidth": 0,
              "ticks": ""
             }
            },
            "marker": {
             "colorbar": {
              "outlinewidth": 0,
              "ticks": ""
             }
            },
            "type": "scatter3d"
           }
          ],
          "scattercarpet": [
           {
            "marker": {
             "colorbar": {
              "outlinewidth": 0,
              "ticks": ""
             }
            },
            "type": "scattercarpet"
           }
          ],
          "scattergeo": [
           {
            "marker": {
             "colorbar": {
              "outlinewidth": 0,
              "ticks": ""
             }
            },
            "type": "scattergeo"
           }
          ],
          "scattergl": [
           {
            "marker": {
             "colorbar": {
              "outlinewidth": 0,
              "ticks": ""
             }
            },
            "type": "scattergl"
           }
          ],
          "scattermapbox": [
           {
            "marker": {
             "colorbar": {
              "outlinewidth": 0,
              "ticks": ""
             }
            },
            "type": "scattermapbox"
           }
          ],
          "scatterpolar": [
           {
            "marker": {
             "colorbar": {
              "outlinewidth": 0,
              "ticks": ""
             }
            },
            "type": "scatterpolar"
           }
          ],
          "scatterpolargl": [
           {
            "marker": {
             "colorbar": {
              "outlinewidth": 0,
              "ticks": ""
             }
            },
            "type": "scatterpolargl"
           }
          ],
          "scatterternary": [
           {
            "marker": {
             "colorbar": {
              "outlinewidth": 0,
              "ticks": ""
             }
            },
            "type": "scatterternary"
           }
          ],
          "surface": [
           {
            "colorbar": {
             "outlinewidth": 0,
             "ticks": ""
            },
            "colorscale": [
             [
              0,
              "#0d0887"
             ],
             [
              0.1111111111111111,
              "#46039f"
             ],
             [
              0.2222222222222222,
              "#7201a8"
             ],
             [
              0.3333333333333333,
              "#9c179e"
             ],
             [
              0.4444444444444444,
              "#bd3786"
             ],
             [
              0.5555555555555556,
              "#d8576b"
             ],
             [
              0.6666666666666666,
              "#ed7953"
             ],
             [
              0.7777777777777778,
              "#fb9f3a"
             ],
             [
              0.8888888888888888,
              "#fdca26"
             ],
             [
              1,
              "#f0f921"
             ]
            ],
            "type": "surface"
           }
          ],
          "table": [
           {
            "cells": {
             "fill": {
              "color": "#EBF0F8"
             },
             "line": {
              "color": "white"
             }
            },
            "header": {
             "fill": {
              "color": "#C8D4E3"
             },
             "line": {
              "color": "white"
             }
            },
            "type": "table"
           }
          ]
         },
         "layout": {
          "annotationdefaults": {
           "arrowcolor": "#2a3f5f",
           "arrowhead": 0,
           "arrowwidth": 1
          },
          "autotypenumbers": "strict",
          "coloraxis": {
           "colorbar": {
            "outlinewidth": 0,
            "ticks": ""
           }
          },
          "colorscale": {
           "diverging": [
            [
             0,
             "#8e0152"
            ],
            [
             0.1,
             "#c51b7d"
            ],
            [
             0.2,
             "#de77ae"
            ],
            [
             0.3,
             "#f1b6da"
            ],
            [
             0.4,
             "#fde0ef"
            ],
            [
             0.5,
             "#f7f7f7"
            ],
            [
             0.6,
             "#e6f5d0"
            ],
            [
             0.7,
             "#b8e186"
            ],
            [
             0.8,
             "#7fbc41"
            ],
            [
             0.9,
             "#4d9221"
            ],
            [
             1,
             "#276419"
            ]
           ],
           "sequential": [
            [
             0,
             "#0d0887"
            ],
            [
             0.1111111111111111,
             "#46039f"
            ],
            [
             0.2222222222222222,
             "#7201a8"
            ],
            [
             0.3333333333333333,
             "#9c179e"
            ],
            [
             0.4444444444444444,
             "#bd3786"
            ],
            [
             0.5555555555555556,
             "#d8576b"
            ],
            [
             0.6666666666666666,
             "#ed7953"
            ],
            [
             0.7777777777777778,
             "#fb9f3a"
            ],
            [
             0.8888888888888888,
             "#fdca26"
            ],
            [
             1,
             "#f0f921"
            ]
           ],
           "sequentialminus": [
            [
             0,
             "#0d0887"
            ],
            [
             0.1111111111111111,
             "#46039f"
            ],
            [
             0.2222222222222222,
             "#7201a8"
            ],
            [
             0.3333333333333333,
             "#9c179e"
            ],
            [
             0.4444444444444444,
             "#bd3786"
            ],
            [
             0.5555555555555556,
             "#d8576b"
            ],
            [
             0.6666666666666666,
             "#ed7953"
            ],
            [
             0.7777777777777778,
             "#fb9f3a"
            ],
            [
             0.8888888888888888,
             "#fdca26"
            ],
            [
             1,
             "#f0f921"
            ]
           ]
          },
          "colorway": [
           "#636efa",
           "#EF553B",
           "#00cc96",
           "#ab63fa",
           "#FFA15A",
           "#19d3f3",
           "#FF6692",
           "#B6E880",
           "#FF97FF",
           "#FECB52"
          ],
          "font": {
           "color": "#2a3f5f"
          },
          "geo": {
           "bgcolor": "white",
           "lakecolor": "white",
           "landcolor": "#E5ECF6",
           "showlakes": true,
           "showland": true,
           "subunitcolor": "white"
          },
          "hoverlabel": {
           "align": "left"
          },
          "hovermode": "closest",
          "mapbox": {
           "style": "light"
          },
          "paper_bgcolor": "white",
          "plot_bgcolor": "#E5ECF6",
          "polar": {
           "angularaxis": {
            "gridcolor": "white",
            "linecolor": "white",
            "ticks": ""
           },
           "bgcolor": "#E5ECF6",
           "radialaxis": {
            "gridcolor": "white",
            "linecolor": "white",
            "ticks": ""
           }
          },
          "scene": {
           "xaxis": {
            "backgroundcolor": "#E5ECF6",
            "gridcolor": "white",
            "gridwidth": 2,
            "linecolor": "white",
            "showbackground": true,
            "ticks": "",
            "zerolinecolor": "white"
           },
           "yaxis": {
            "backgroundcolor": "#E5ECF6",
            "gridcolor": "white",
            "gridwidth": 2,
            "linecolor": "white",
            "showbackground": true,
            "ticks": "",
            "zerolinecolor": "white"
           },
           "zaxis": {
            "backgroundcolor": "#E5ECF6",
            "gridcolor": "white",
            "gridwidth": 2,
            "linecolor": "white",
            "showbackground": true,
            "ticks": "",
            "zerolinecolor": "white"
           }
          },
          "shapedefaults": {
           "line": {
            "color": "#2a3f5f"
           }
          },
          "ternary": {
           "aaxis": {
            "gridcolor": "white",
            "linecolor": "white",
            "ticks": ""
           },
           "baxis": {
            "gridcolor": "white",
            "linecolor": "white",
            "ticks": ""
           },
           "bgcolor": "#E5ECF6",
           "caxis": {
            "gridcolor": "white",
            "linecolor": "white",
            "ticks": ""
           }
          },
          "title": {
           "x": 0.05
          },
          "xaxis": {
           "automargin": true,
           "gridcolor": "white",
           "linecolor": "white",
           "ticks": "",
           "title": {
            "standoff": 15
           },
           "zerolinecolor": "white",
           "zerolinewidth": 2
          },
          "yaxis": {
           "automargin": true,
           "gridcolor": "white",
           "linecolor": "white",
           "ticks": "",
           "title": {
            "standoff": 15
           },
           "zerolinecolor": "white",
           "zerolinewidth": 2
          }
         }
        },
        "title": {
         "text": "Amount by State"
        },
        "width": 1100,
        "xaxis": {
         "anchor": "y",
         "domain": [
          0,
          1
         ],
         "title": {
          "text": "State"
         }
        },
        "yaxis": {
         "anchor": "x",
         "domain": [
          0,
          1
         ],
         "title": {
          "text": "Amount"
         }
        }
       }
      }
     },
     "metadata": {},
     "output_type": "display_data"
    }
   ],
   "source": [
    "fig = px.bar(data_frame=amount_by_state, x='State', y='Amount', color_discrete_sequence=px.colors.sequential.Cividis)\n",
    "fig.update_layout(title='Amount by State', autosize=False, height=600, width=1100)\n",
    "fig.show()"
   ]
  },
  {
   "cell_type": "markdown",
   "metadata": {},
   "source": [
    "# Total Amount by State According to Category"
   ]
  },
  {
   "cell_type": "code",
   "execution_count": 136,
   "metadata": {},
   "outputs": [
    {
     "data": {
      "text/html": [
       "<div>\n",
       "<style scoped>\n",
       "    .dataframe tbody tr th:only-of-type {\n",
       "        vertical-align: middle;\n",
       "    }\n",
       "\n",
       "    .dataframe tbody tr th {\n",
       "        vertical-align: top;\n",
       "    }\n",
       "\n",
       "    .dataframe thead th {\n",
       "        text-align: right;\n",
       "    }\n",
       "</style>\n",
       "<table border=\"1\" class=\"dataframe\">\n",
       "  <thead>\n",
       "    <tr style=\"text-align: right;\">\n",
       "      <th></th>\n",
       "      <th>State</th>\n",
       "      <th>Category</th>\n",
       "      <th>Amount</th>\n",
       "    </tr>\n",
       "  </thead>\n",
       "  <tbody>\n",
       "    <tr>\n",
       "      <th>0</th>\n",
       "      <td>Andhra Pradesh</td>\n",
       "      <td>Clothing</td>\n",
       "      <td>3244</td>\n",
       "    </tr>\n",
       "    <tr>\n",
       "      <th>1</th>\n",
       "      <td>Andhra Pradesh</td>\n",
       "      <td>Electronics</td>\n",
       "      <td>4505</td>\n",
       "    </tr>\n",
       "    <tr>\n",
       "      <th>2</th>\n",
       "      <td>Andhra Pradesh</td>\n",
       "      <td>Furniture</td>\n",
       "      <td>5507</td>\n",
       "    </tr>\n",
       "    <tr>\n",
       "      <th>3</th>\n",
       "      <td>Bihar</td>\n",
       "      <td>Clothing</td>\n",
       "      <td>3437</td>\n",
       "    </tr>\n",
       "    <tr>\n",
       "      <th>4</th>\n",
       "      <td>Bihar</td>\n",
       "      <td>Electronics</td>\n",
       "      <td>7357</td>\n",
       "    </tr>\n",
       "    <tr>\n",
       "      <th>5</th>\n",
       "      <td>Bihar</td>\n",
       "      <td>Furniture</td>\n",
       "      <td>2623</td>\n",
       "    </tr>\n",
       "    <tr>\n",
       "      <th>6</th>\n",
       "      <td>Delhi</td>\n",
       "      <td>Clothing</td>\n",
       "      <td>6310</td>\n",
       "    </tr>\n",
       "    <tr>\n",
       "      <th>7</th>\n",
       "      <td>Delhi</td>\n",
       "      <td>Electronics</td>\n",
       "      <td>5111</td>\n",
       "    </tr>\n",
       "    <tr>\n",
       "      <th>8</th>\n",
       "      <td>Delhi</td>\n",
       "      <td>Furniture</td>\n",
       "      <td>11536</td>\n",
       "    </tr>\n",
       "    <tr>\n",
       "      <th>9</th>\n",
       "      <td>Goa</td>\n",
       "      <td>Clothing</td>\n",
       "      <td>2385</td>\n",
       "    </tr>\n",
       "    <tr>\n",
       "      <th>10</th>\n",
       "      <td>Goa</td>\n",
       "      <td>Electronics</td>\n",
       "      <td>2157</td>\n",
       "    </tr>\n",
       "    <tr>\n",
       "      <th>11</th>\n",
       "      <td>Goa</td>\n",
       "      <td>Furniture</td>\n",
       "      <td>2163</td>\n",
       "    </tr>\n",
       "    <tr>\n",
       "      <th>12</th>\n",
       "      <td>Gujarat</td>\n",
       "      <td>Clothing</td>\n",
       "      <td>8072</td>\n",
       "    </tr>\n",
       "    <tr>\n",
       "      <th>13</th>\n",
       "      <td>Gujarat</td>\n",
       "      <td>Electronics</td>\n",
       "      <td>4981</td>\n",
       "    </tr>\n",
       "    <tr>\n",
       "      <th>14</th>\n",
       "      <td>Gujarat</td>\n",
       "      <td>Furniture</td>\n",
       "      <td>8318</td>\n",
       "    </tr>\n",
       "    <tr>\n",
       "      <th>15</th>\n",
       "      <td>Haryana</td>\n",
       "      <td>Clothing</td>\n",
       "      <td>2854</td>\n",
       "    </tr>\n",
       "    <tr>\n",
       "      <th>16</th>\n",
       "      <td>Haryana</td>\n",
       "      <td>Electronics</td>\n",
       "      <td>2584</td>\n",
       "    </tr>\n",
       "    <tr>\n",
       "      <th>17</th>\n",
       "      <td>Haryana</td>\n",
       "      <td>Furniture</td>\n",
       "      <td>3425</td>\n",
       "    </tr>\n",
       "    <tr>\n",
       "      <th>18</th>\n",
       "      <td>Himachal Pradesh</td>\n",
       "      <td>Clothing</td>\n",
       "      <td>1337</td>\n",
       "    </tr>\n",
       "    <tr>\n",
       "      <th>19</th>\n",
       "      <td>Himachal Pradesh</td>\n",
       "      <td>Electronics</td>\n",
       "      <td>4675</td>\n",
       "    </tr>\n",
       "    <tr>\n",
       "      <th>20</th>\n",
       "      <td>Himachal Pradesh</td>\n",
       "      <td>Furniture</td>\n",
       "      <td>2654</td>\n",
       "    </tr>\n",
       "    <tr>\n",
       "      <th>21</th>\n",
       "      <td>Jammu and Kashmir</td>\n",
       "      <td>Clothing</td>\n",
       "      <td>3483</td>\n",
       "    </tr>\n",
       "    <tr>\n",
       "      <th>22</th>\n",
       "      <td>Jammu and Kashmir</td>\n",
       "      <td>Electronics</td>\n",
       "      <td>3817</td>\n",
       "    </tr>\n",
       "    <tr>\n",
       "      <th>23</th>\n",
       "      <td>Jammu and Kashmir</td>\n",
       "      <td>Furniture</td>\n",
       "      <td>3529</td>\n",
       "    </tr>\n",
       "    <tr>\n",
       "      <th>24</th>\n",
       "      <td>Karnataka</td>\n",
       "      <td>Clothing</td>\n",
       "      <td>5012</td>\n",
       "    </tr>\n",
       "    <tr>\n",
       "      <th>25</th>\n",
       "      <td>Karnataka</td>\n",
       "      <td>Electronics</td>\n",
       "      <td>6049</td>\n",
       "    </tr>\n",
       "    <tr>\n",
       "      <th>26</th>\n",
       "      <td>Karnataka</td>\n",
       "      <td>Furniture</td>\n",
       "      <td>1459</td>\n",
       "    </tr>\n",
       "    <tr>\n",
       "      <th>27</th>\n",
       "      <td>Kerala</td>\n",
       "      <td>Clothing</td>\n",
       "      <td>6772</td>\n",
       "    </tr>\n",
       "    <tr>\n",
       "      <th>28</th>\n",
       "      <td>Kerala</td>\n",
       "      <td>Electronics</td>\n",
       "      <td>3029</td>\n",
       "    </tr>\n",
       "    <tr>\n",
       "      <th>29</th>\n",
       "      <td>Kerala</td>\n",
       "      <td>Furniture</td>\n",
       "      <td>4070</td>\n",
       "    </tr>\n",
       "    <tr>\n",
       "      <th>30</th>\n",
       "      <td>Madhya Pradesh</td>\n",
       "      <td>Clothing</td>\n",
       "      <td>29853</td>\n",
       "    </tr>\n",
       "    <tr>\n",
       "      <th>31</th>\n",
       "      <td>Madhya Pradesh</td>\n",
       "      <td>Electronics</td>\n",
       "      <td>34511</td>\n",
       "    </tr>\n",
       "    <tr>\n",
       "      <th>32</th>\n",
       "      <td>Madhya Pradesh</td>\n",
       "      <td>Furniture</td>\n",
       "      <td>23099</td>\n",
       "    </tr>\n",
       "    <tr>\n",
       "      <th>33</th>\n",
       "      <td>Maharashtra</td>\n",
       "      <td>Clothing</td>\n",
       "      <td>29793</td>\n",
       "    </tr>\n",
       "    <tr>\n",
       "      <th>34</th>\n",
       "      <td>Maharashtra</td>\n",
       "      <td>Electronics</td>\n",
       "      <td>46581</td>\n",
       "    </tr>\n",
       "    <tr>\n",
       "      <th>35</th>\n",
       "      <td>Maharashtra</td>\n",
       "      <td>Furniture</td>\n",
       "      <td>26124</td>\n",
       "    </tr>\n",
       "    <tr>\n",
       "      <th>36</th>\n",
       "      <td>Nagaland</td>\n",
       "      <td>Clothing</td>\n",
       "      <td>4140</td>\n",
       "    </tr>\n",
       "    <tr>\n",
       "      <th>37</th>\n",
       "      <td>Nagaland</td>\n",
       "      <td>Electronics</td>\n",
       "      <td>4069</td>\n",
       "    </tr>\n",
       "    <tr>\n",
       "      <th>38</th>\n",
       "      <td>Nagaland</td>\n",
       "      <td>Furniture</td>\n",
       "      <td>3784</td>\n",
       "    </tr>\n",
       "    <tr>\n",
       "      <th>39</th>\n",
       "      <td>Punjab</td>\n",
       "      <td>Clothing</td>\n",
       "      <td>8419</td>\n",
       "    </tr>\n",
       "    <tr>\n",
       "      <th>40</th>\n",
       "      <td>Punjab</td>\n",
       "      <td>Electronics</td>\n",
       "      <td>6129</td>\n",
       "    </tr>\n",
       "    <tr>\n",
       "      <th>41</th>\n",
       "      <td>Punjab</td>\n",
       "      <td>Furniture</td>\n",
       "      <td>2238</td>\n",
       "    </tr>\n",
       "    <tr>\n",
       "      <th>42</th>\n",
       "      <td>Rajasthan</td>\n",
       "      <td>Clothing</td>\n",
       "      <td>7625</td>\n",
       "    </tr>\n",
       "    <tr>\n",
       "      <th>43</th>\n",
       "      <td>Rajasthan</td>\n",
       "      <td>Electronics</td>\n",
       "      <td>9443</td>\n",
       "    </tr>\n",
       "    <tr>\n",
       "      <th>44</th>\n",
       "      <td>Rajasthan</td>\n",
       "      <td>Furniture</td>\n",
       "      <td>5266</td>\n",
       "    </tr>\n",
       "    <tr>\n",
       "      <th>45</th>\n",
       "      <td>Sikkim</td>\n",
       "      <td>Clothing</td>\n",
       "      <td>3139</td>\n",
       "    </tr>\n",
       "    <tr>\n",
       "      <th>46</th>\n",
       "      <td>Sikkim</td>\n",
       "      <td>Electronics</td>\n",
       "      <td>1527</td>\n",
       "    </tr>\n",
       "    <tr>\n",
       "      <th>47</th>\n",
       "      <td>Sikkim</td>\n",
       "      <td>Furniture</td>\n",
       "      <td>610</td>\n",
       "    </tr>\n",
       "    <tr>\n",
       "      <th>48</th>\n",
       "      <td>Tamil Nadu</td>\n",
       "      <td>Clothing</td>\n",
       "      <td>2145</td>\n",
       "    </tr>\n",
       "    <tr>\n",
       "      <th>49</th>\n",
       "      <td>Tamil Nadu</td>\n",
       "      <td>Electronics</td>\n",
       "      <td>1090</td>\n",
       "    </tr>\n",
       "    <tr>\n",
       "      <th>50</th>\n",
       "      <td>Tamil Nadu</td>\n",
       "      <td>Furniture</td>\n",
       "      <td>3041</td>\n",
       "    </tr>\n",
       "    <tr>\n",
       "      <th>51</th>\n",
       "      <td>Uttar Pradesh</td>\n",
       "      <td>Clothing</td>\n",
       "      <td>9669</td>\n",
       "    </tr>\n",
       "    <tr>\n",
       "      <th>52</th>\n",
       "      <td>Uttar Pradesh</td>\n",
       "      <td>Electronics</td>\n",
       "      <td>13499</td>\n",
       "    </tr>\n",
       "    <tr>\n",
       "      <th>53</th>\n",
       "      <td>Uttar Pradesh</td>\n",
       "      <td>Furniture</td>\n",
       "      <td>15194</td>\n",
       "    </tr>\n",
       "    <tr>\n",
       "      <th>54</th>\n",
       "      <td>West Bengal</td>\n",
       "      <td>Clothing</td>\n",
       "      <td>6634</td>\n",
       "    </tr>\n",
       "    <tr>\n",
       "      <th>55</th>\n",
       "      <td>West Bengal</td>\n",
       "      <td>Electronics</td>\n",
       "      <td>5153</td>\n",
       "    </tr>\n",
       "    <tr>\n",
       "      <th>56</th>\n",
       "      <td>West Bengal</td>\n",
       "      <td>Furniture</td>\n",
       "      <td>2541</td>\n",
       "    </tr>\n",
       "  </tbody>\n",
       "</table>\n",
       "</div>"
      ],
      "text/plain": [
       "                State     Category  Amount\n",
       "0      Andhra Pradesh     Clothing    3244\n",
       "1      Andhra Pradesh  Electronics    4505\n",
       "2      Andhra Pradesh    Furniture    5507\n",
       "3               Bihar     Clothing    3437\n",
       "4               Bihar  Electronics    7357\n",
       "5               Bihar    Furniture    2623\n",
       "6               Delhi     Clothing    6310\n",
       "7               Delhi  Electronics    5111\n",
       "8               Delhi    Furniture   11536\n",
       "9                 Goa     Clothing    2385\n",
       "10                Goa  Electronics    2157\n",
       "11                Goa    Furniture    2163\n",
       "12            Gujarat     Clothing    8072\n",
       "13            Gujarat  Electronics    4981\n",
       "14            Gujarat    Furniture    8318\n",
       "15            Haryana     Clothing    2854\n",
       "16            Haryana  Electronics    2584\n",
       "17            Haryana    Furniture    3425\n",
       "18   Himachal Pradesh     Clothing    1337\n",
       "19   Himachal Pradesh  Electronics    4675\n",
       "20   Himachal Pradesh    Furniture    2654\n",
       "21  Jammu and Kashmir     Clothing    3483\n",
       "22  Jammu and Kashmir  Electronics    3817\n",
       "23  Jammu and Kashmir    Furniture    3529\n",
       "24          Karnataka     Clothing    5012\n",
       "25          Karnataka  Electronics    6049\n",
       "26          Karnataka    Furniture    1459\n",
       "27            Kerala      Clothing    6772\n",
       "28            Kerala   Electronics    3029\n",
       "29            Kerala     Furniture    4070\n",
       "30     Madhya Pradesh     Clothing   29853\n",
       "31     Madhya Pradesh  Electronics   34511\n",
       "32     Madhya Pradesh    Furniture   23099\n",
       "33        Maharashtra     Clothing   29793\n",
       "34        Maharashtra  Electronics   46581\n",
       "35        Maharashtra    Furniture   26124\n",
       "36           Nagaland     Clothing    4140\n",
       "37           Nagaland  Electronics    4069\n",
       "38           Nagaland    Furniture    3784\n",
       "39             Punjab     Clothing    8419\n",
       "40             Punjab  Electronics    6129\n",
       "41             Punjab    Furniture    2238\n",
       "42          Rajasthan     Clothing    7625\n",
       "43          Rajasthan  Electronics    9443\n",
       "44          Rajasthan    Furniture    5266\n",
       "45             Sikkim     Clothing    3139\n",
       "46             Sikkim  Electronics    1527\n",
       "47             Sikkim    Furniture     610\n",
       "48         Tamil Nadu     Clothing    2145\n",
       "49         Tamil Nadu  Electronics    1090\n",
       "50         Tamil Nadu    Furniture    3041\n",
       "51      Uttar Pradesh     Clothing    9669\n",
       "52      Uttar Pradesh  Electronics   13499\n",
       "53      Uttar Pradesh    Furniture   15194\n",
       "54        West Bengal     Clothing    6634\n",
       "55        West Bengal  Electronics    5153\n",
       "56        West Bengal    Furniture    2541"
      ]
     },
     "execution_count": 136,
     "metadata": {},
     "output_type": "execute_result"
    }
   ],
   "source": [
    "amount_by_state_by_cat = new_df.groupby(['State', 'Category'])['Amount'].sum().reset_index()\n",
    "amount_by_state_by_cat"
   ]
  },
  {
   "cell_type": "code",
   "execution_count": 139,
   "metadata": {},
   "outputs": [
    {
     "data": {
      "application/vnd.plotly.v1+json": {
       "config": {
        "plotlyServerURL": "https://plot.ly"
       },
       "data": [
        {
         "alignmentgroup": "True",
         "hovertemplate": "Category=Clothing<br>State=%{x}<br>Amount=%{y}<extra></extra>",
         "legendgroup": "Clothing",
         "marker": {
          "color": "#636efa",
          "pattern": {
           "shape": ""
          }
         },
         "name": "Clothing",
         "offsetgroup": "Clothing",
         "orientation": "v",
         "showlegend": true,
         "textposition": "auto",
         "type": "bar",
         "x": [
          "Andhra Pradesh",
          "Bihar",
          "Delhi",
          "Goa",
          "Gujarat",
          "Haryana",
          "Himachal Pradesh",
          "Jammu and Kashmir",
          "Karnataka",
          "Kerala ",
          "Madhya Pradesh",
          "Maharashtra",
          "Nagaland",
          "Punjab",
          "Rajasthan",
          "Sikkim",
          "Tamil Nadu",
          "Uttar Pradesh",
          "West Bengal"
         ],
         "xaxis": "x",
         "y": [
          3244,
          3437,
          6310,
          2385,
          8072,
          2854,
          1337,
          3483,
          5012,
          6772,
          29853,
          29793,
          4140,
          8419,
          7625,
          3139,
          2145,
          9669,
          6634
         ],
         "yaxis": "y"
        },
        {
         "alignmentgroup": "True",
         "hovertemplate": "Category=Electronics<br>State=%{x}<br>Amount=%{y}<extra></extra>",
         "legendgroup": "Electronics",
         "marker": {
          "color": "#EF553B",
          "pattern": {
           "shape": ""
          }
         },
         "name": "Electronics",
         "offsetgroup": "Electronics",
         "orientation": "v",
         "showlegend": true,
         "textposition": "auto",
         "type": "bar",
         "x": [
          "Andhra Pradesh",
          "Bihar",
          "Delhi",
          "Goa",
          "Gujarat",
          "Haryana",
          "Himachal Pradesh",
          "Jammu and Kashmir",
          "Karnataka",
          "Kerala ",
          "Madhya Pradesh",
          "Maharashtra",
          "Nagaland",
          "Punjab",
          "Rajasthan",
          "Sikkim",
          "Tamil Nadu",
          "Uttar Pradesh",
          "West Bengal"
         ],
         "xaxis": "x",
         "y": [
          4505,
          7357,
          5111,
          2157,
          4981,
          2584,
          4675,
          3817,
          6049,
          3029,
          34511,
          46581,
          4069,
          6129,
          9443,
          1527,
          1090,
          13499,
          5153
         ],
         "yaxis": "y"
        },
        {
         "alignmentgroup": "True",
         "hovertemplate": "Category=Furniture<br>State=%{x}<br>Amount=%{y}<extra></extra>",
         "legendgroup": "Furniture",
         "marker": {
          "color": "#00cc96",
          "pattern": {
           "shape": ""
          }
         },
         "name": "Furniture",
         "offsetgroup": "Furniture",
         "orientation": "v",
         "showlegend": true,
         "textposition": "auto",
         "type": "bar",
         "x": [
          "Andhra Pradesh",
          "Bihar",
          "Delhi",
          "Goa",
          "Gujarat",
          "Haryana",
          "Himachal Pradesh",
          "Jammu and Kashmir",
          "Karnataka",
          "Kerala ",
          "Madhya Pradesh",
          "Maharashtra",
          "Nagaland",
          "Punjab",
          "Rajasthan",
          "Sikkim",
          "Tamil Nadu",
          "Uttar Pradesh",
          "West Bengal"
         ],
         "xaxis": "x",
         "y": [
          5507,
          2623,
          11536,
          2163,
          8318,
          3425,
          2654,
          3529,
          1459,
          4070,
          23099,
          26124,
          3784,
          2238,
          5266,
          610,
          3041,
          15194,
          2541
         ],
         "yaxis": "y"
        }
       ],
       "layout": {
        "autosize": false,
        "barmode": "group",
        "height": 600,
        "legend": {
         "title": {
          "text": "Category"
         },
         "tracegroupgap": 0
        },
        "margin": {
         "t": 60
        },
        "template": {
         "data": {
          "bar": [
           {
            "error_x": {
             "color": "#2a3f5f"
            },
            "error_y": {
             "color": "#2a3f5f"
            },
            "marker": {
             "line": {
              "color": "#E5ECF6",
              "width": 0.5
             },
             "pattern": {
              "fillmode": "overlay",
              "size": 10,
              "solidity": 0.2
             }
            },
            "type": "bar"
           }
          ],
          "barpolar": [
           {
            "marker": {
             "line": {
              "color": "#E5ECF6",
              "width": 0.5
             },
             "pattern": {
              "fillmode": "overlay",
              "size": 10,
              "solidity": 0.2
             }
            },
            "type": "barpolar"
           }
          ],
          "carpet": [
           {
            "aaxis": {
             "endlinecolor": "#2a3f5f",
             "gridcolor": "white",
             "linecolor": "white",
             "minorgridcolor": "white",
             "startlinecolor": "#2a3f5f"
            },
            "baxis": {
             "endlinecolor": "#2a3f5f",
             "gridcolor": "white",
             "linecolor": "white",
             "minorgridcolor": "white",
             "startlinecolor": "#2a3f5f"
            },
            "type": "carpet"
           }
          ],
          "choropleth": [
           {
            "colorbar": {
             "outlinewidth": 0,
             "ticks": ""
            },
            "type": "choropleth"
           }
          ],
          "contour": [
           {
            "colorbar": {
             "outlinewidth": 0,
             "ticks": ""
            },
            "colorscale": [
             [
              0,
              "#0d0887"
             ],
             [
              0.1111111111111111,
              "#46039f"
             ],
             [
              0.2222222222222222,
              "#7201a8"
             ],
             [
              0.3333333333333333,
              "#9c179e"
             ],
             [
              0.4444444444444444,
              "#bd3786"
             ],
             [
              0.5555555555555556,
              "#d8576b"
             ],
             [
              0.6666666666666666,
              "#ed7953"
             ],
             [
              0.7777777777777778,
              "#fb9f3a"
             ],
             [
              0.8888888888888888,
              "#fdca26"
             ],
             [
              1,
              "#f0f921"
             ]
            ],
            "type": "contour"
           }
          ],
          "contourcarpet": [
           {
            "colorbar": {
             "outlinewidth": 0,
             "ticks": ""
            },
            "type": "contourcarpet"
           }
          ],
          "heatmap": [
           {
            "colorbar": {
             "outlinewidth": 0,
             "ticks": ""
            },
            "colorscale": [
             [
              0,
              "#0d0887"
             ],
             [
              0.1111111111111111,
              "#46039f"
             ],
             [
              0.2222222222222222,
              "#7201a8"
             ],
             [
              0.3333333333333333,
              "#9c179e"
             ],
             [
              0.4444444444444444,
              "#bd3786"
             ],
             [
              0.5555555555555556,
              "#d8576b"
             ],
             [
              0.6666666666666666,
              "#ed7953"
             ],
             [
              0.7777777777777778,
              "#fb9f3a"
             ],
             [
              0.8888888888888888,
              "#fdca26"
             ],
             [
              1,
              "#f0f921"
             ]
            ],
            "type": "heatmap"
           }
          ],
          "heatmapgl": [
           {
            "colorbar": {
             "outlinewidth": 0,
             "ticks": ""
            },
            "colorscale": [
             [
              0,
              "#0d0887"
             ],
             [
              0.1111111111111111,
              "#46039f"
             ],
             [
              0.2222222222222222,
              "#7201a8"
             ],
             [
              0.3333333333333333,
              "#9c179e"
             ],
             [
              0.4444444444444444,
              "#bd3786"
             ],
             [
              0.5555555555555556,
              "#d8576b"
             ],
             [
              0.6666666666666666,
              "#ed7953"
             ],
             [
              0.7777777777777778,
              "#fb9f3a"
             ],
             [
              0.8888888888888888,
              "#fdca26"
             ],
             [
              1,
              "#f0f921"
             ]
            ],
            "type": "heatmapgl"
           }
          ],
          "histogram": [
           {
            "marker": {
             "pattern": {
              "fillmode": "overlay",
              "size": 10,
              "solidity": 0.2
             }
            },
            "type": "histogram"
           }
          ],
          "histogram2d": [
           {
            "colorbar": {
             "outlinewidth": 0,
             "ticks": ""
            },
            "colorscale": [
             [
              0,
              "#0d0887"
             ],
             [
              0.1111111111111111,
              "#46039f"
             ],
             [
              0.2222222222222222,
              "#7201a8"
             ],
             [
              0.3333333333333333,
              "#9c179e"
             ],
             [
              0.4444444444444444,
              "#bd3786"
             ],
             [
              0.5555555555555556,
              "#d8576b"
             ],
             [
              0.6666666666666666,
              "#ed7953"
             ],
             [
              0.7777777777777778,
              "#fb9f3a"
             ],
             [
              0.8888888888888888,
              "#fdca26"
             ],
             [
              1,
              "#f0f921"
             ]
            ],
            "type": "histogram2d"
           }
          ],
          "histogram2dcontour": [
           {
            "colorbar": {
             "outlinewidth": 0,
             "ticks": ""
            },
            "colorscale": [
             [
              0,
              "#0d0887"
             ],
             [
              0.1111111111111111,
              "#46039f"
             ],
             [
              0.2222222222222222,
              "#7201a8"
             ],
             [
              0.3333333333333333,
              "#9c179e"
             ],
             [
              0.4444444444444444,
              "#bd3786"
             ],
             [
              0.5555555555555556,
              "#d8576b"
             ],
             [
              0.6666666666666666,
              "#ed7953"
             ],
             [
              0.7777777777777778,
              "#fb9f3a"
             ],
             [
              0.8888888888888888,
              "#fdca26"
             ],
             [
              1,
              "#f0f921"
             ]
            ],
            "type": "histogram2dcontour"
           }
          ],
          "mesh3d": [
           {
            "colorbar": {
             "outlinewidth": 0,
             "ticks": ""
            },
            "type": "mesh3d"
           }
          ],
          "parcoords": [
           {
            "line": {
             "colorbar": {
              "outlinewidth": 0,
              "ticks": ""
             }
            },
            "type": "parcoords"
           }
          ],
          "pie": [
           {
            "automargin": true,
            "type": "pie"
           }
          ],
          "scatter": [
           {
            "fillpattern": {
             "fillmode": "overlay",
             "size": 10,
             "solidity": 0.2
            },
            "type": "scatter"
           }
          ],
          "scatter3d": [
           {
            "line": {
             "colorbar": {
              "outlinewidth": 0,
              "ticks": ""
             }
            },
            "marker": {
             "colorbar": {
              "outlinewidth": 0,
              "ticks": ""
             }
            },
            "type": "scatter3d"
           }
          ],
          "scattercarpet": [
           {
            "marker": {
             "colorbar": {
              "outlinewidth": 0,
              "ticks": ""
             }
            },
            "type": "scattercarpet"
           }
          ],
          "scattergeo": [
           {
            "marker": {
             "colorbar": {
              "outlinewidth": 0,
              "ticks": ""
             }
            },
            "type": "scattergeo"
           }
          ],
          "scattergl": [
           {
            "marker": {
             "colorbar": {
              "outlinewidth": 0,
              "ticks": ""
             }
            },
            "type": "scattergl"
           }
          ],
          "scattermapbox": [
           {
            "marker": {
             "colorbar": {
              "outlinewidth": 0,
              "ticks": ""
             }
            },
            "type": "scattermapbox"
           }
          ],
          "scatterpolar": [
           {
            "marker": {
             "colorbar": {
              "outlinewidth": 0,
              "ticks": ""
             }
            },
            "type": "scatterpolar"
           }
          ],
          "scatterpolargl": [
           {
            "marker": {
             "colorbar": {
              "outlinewidth": 0,
              "ticks": ""
             }
            },
            "type": "scatterpolargl"
           }
          ],
          "scatterternary": [
           {
            "marker": {
             "colorbar": {
              "outlinewidth": 0,
              "ticks": ""
             }
            },
            "type": "scatterternary"
           }
          ],
          "surface": [
           {
            "colorbar": {
             "outlinewidth": 0,
             "ticks": ""
            },
            "colorscale": [
             [
              0,
              "#0d0887"
             ],
             [
              0.1111111111111111,
              "#46039f"
             ],
             [
              0.2222222222222222,
              "#7201a8"
             ],
             [
              0.3333333333333333,
              "#9c179e"
             ],
             [
              0.4444444444444444,
              "#bd3786"
             ],
             [
              0.5555555555555556,
              "#d8576b"
             ],
             [
              0.6666666666666666,
              "#ed7953"
             ],
             [
              0.7777777777777778,
              "#fb9f3a"
             ],
             [
              0.8888888888888888,
              "#fdca26"
             ],
             [
              1,
              "#f0f921"
             ]
            ],
            "type": "surface"
           }
          ],
          "table": [
           {
            "cells": {
             "fill": {
              "color": "#EBF0F8"
             },
             "line": {
              "color": "white"
             }
            },
            "header": {
             "fill": {
              "color": "#C8D4E3"
             },
             "line": {
              "color": "white"
             }
            },
            "type": "table"
           }
          ]
         },
         "layout": {
          "annotationdefaults": {
           "arrowcolor": "#2a3f5f",
           "arrowhead": 0,
           "arrowwidth": 1
          },
          "autotypenumbers": "strict",
          "coloraxis": {
           "colorbar": {
            "outlinewidth": 0,
            "ticks": ""
           }
          },
          "colorscale": {
           "diverging": [
            [
             0,
             "#8e0152"
            ],
            [
             0.1,
             "#c51b7d"
            ],
            [
             0.2,
             "#de77ae"
            ],
            [
             0.3,
             "#f1b6da"
            ],
            [
             0.4,
             "#fde0ef"
            ],
            [
             0.5,
             "#f7f7f7"
            ],
            [
             0.6,
             "#e6f5d0"
            ],
            [
             0.7,
             "#b8e186"
            ],
            [
             0.8,
             "#7fbc41"
            ],
            [
             0.9,
             "#4d9221"
            ],
            [
             1,
             "#276419"
            ]
           ],
           "sequential": [
            [
             0,
             "#0d0887"
            ],
            [
             0.1111111111111111,
             "#46039f"
            ],
            [
             0.2222222222222222,
             "#7201a8"
            ],
            [
             0.3333333333333333,
             "#9c179e"
            ],
            [
             0.4444444444444444,
             "#bd3786"
            ],
            [
             0.5555555555555556,
             "#d8576b"
            ],
            [
             0.6666666666666666,
             "#ed7953"
            ],
            [
             0.7777777777777778,
             "#fb9f3a"
            ],
            [
             0.8888888888888888,
             "#fdca26"
            ],
            [
             1,
             "#f0f921"
            ]
           ],
           "sequentialminus": [
            [
             0,
             "#0d0887"
            ],
            [
             0.1111111111111111,
             "#46039f"
            ],
            [
             0.2222222222222222,
             "#7201a8"
            ],
            [
             0.3333333333333333,
             "#9c179e"
            ],
            [
             0.4444444444444444,
             "#bd3786"
            ],
            [
             0.5555555555555556,
             "#d8576b"
            ],
            [
             0.6666666666666666,
             "#ed7953"
            ],
            [
             0.7777777777777778,
             "#fb9f3a"
            ],
            [
             0.8888888888888888,
             "#fdca26"
            ],
            [
             1,
             "#f0f921"
            ]
           ]
          },
          "colorway": [
           "#636efa",
           "#EF553B",
           "#00cc96",
           "#ab63fa",
           "#FFA15A",
           "#19d3f3",
           "#FF6692",
           "#B6E880",
           "#FF97FF",
           "#FECB52"
          ],
          "font": {
           "color": "#2a3f5f"
          },
          "geo": {
           "bgcolor": "white",
           "lakecolor": "white",
           "landcolor": "#E5ECF6",
           "showlakes": true,
           "showland": true,
           "subunitcolor": "white"
          },
          "hoverlabel": {
           "align": "left"
          },
          "hovermode": "closest",
          "mapbox": {
           "style": "light"
          },
          "paper_bgcolor": "white",
          "plot_bgcolor": "#E5ECF6",
          "polar": {
           "angularaxis": {
            "gridcolor": "white",
            "linecolor": "white",
            "ticks": ""
           },
           "bgcolor": "#E5ECF6",
           "radialaxis": {
            "gridcolor": "white",
            "linecolor": "white",
            "ticks": ""
           }
          },
          "scene": {
           "xaxis": {
            "backgroundcolor": "#E5ECF6",
            "gridcolor": "white",
            "gridwidth": 2,
            "linecolor": "white",
            "showbackground": true,
            "ticks": "",
            "zerolinecolor": "white"
           },
           "yaxis": {
            "backgroundcolor": "#E5ECF6",
            "gridcolor": "white",
            "gridwidth": 2,
            "linecolor": "white",
            "showbackground": true,
            "ticks": "",
            "zerolinecolor": "white"
           },
           "zaxis": {
            "backgroundcolor": "#E5ECF6",
            "gridcolor": "white",
            "gridwidth": 2,
            "linecolor": "white",
            "showbackground": true,
            "ticks": "",
            "zerolinecolor": "white"
           }
          },
          "shapedefaults": {
           "line": {
            "color": "#2a3f5f"
           }
          },
          "ternary": {
           "aaxis": {
            "gridcolor": "white",
            "linecolor": "white",
            "ticks": ""
           },
           "baxis": {
            "gridcolor": "white",
            "linecolor": "white",
            "ticks": ""
           },
           "bgcolor": "#E5ECF6",
           "caxis": {
            "gridcolor": "white",
            "linecolor": "white",
            "ticks": ""
           }
          },
          "title": {
           "x": 0.05
          },
          "xaxis": {
           "automargin": true,
           "gridcolor": "white",
           "linecolor": "white",
           "ticks": "",
           "title": {
            "standoff": 15
           },
           "zerolinecolor": "white",
           "zerolinewidth": 2
          },
          "yaxis": {
           "automargin": true,
           "gridcolor": "white",
           "linecolor": "white",
           "ticks": "",
           "title": {
            "standoff": 15
           },
           "zerolinecolor": "white",
           "zerolinewidth": 2
          }
         }
        },
        "title": {
         "text": "Total Amount by State According to Category"
        },
        "width": 1170,
        "xaxis": {
         "anchor": "y",
         "domain": [
          0,
          1
         ],
         "title": {
          "text": "State"
         }
        },
        "yaxis": {
         "anchor": "x",
         "domain": [
          0,
          1
         ],
         "title": {
          "text": "Amount"
         }
        }
       }
      }
     },
     "metadata": {},
     "output_type": "display_data"
    }
   ],
   "source": [
    "fig = px.bar(data_frame=amount_by_state_by_cat, x='State', y='Amount', color='Category', barmode='group')\n",
    "fig.update_layout(title='Total Amount by State According to Category', autosize=False, height=600, width=1170)\n",
    "fig.show()"
   ]
  }
 ],
 "metadata": {
  "kernelspec": {
   "display_name": "Python 3",
   "language": "python",
   "name": "python3"
  },
  "language_info": {
   "codemirror_mode": {
    "name": "ipython",
    "version": 3
   },
   "file_extension": ".py",
   "mimetype": "text/x-python",
   "name": "python",
   "nbconvert_exporter": "python",
   "pygments_lexer": "ipython3",
   "version": "3.11.5"
  }
 },
 "nbformat": 4,
 "nbformat_minor": 2
}
